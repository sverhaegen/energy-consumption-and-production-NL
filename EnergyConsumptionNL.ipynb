{
 "cells": [
  {
   "cell_type": "markdown",
   "metadata": {},
   "source": [
    "# Energieverbruik en -productie van Nederland\n",
    "\n",
    "Energie is duur. Dat weet iedereen. Tijdens dit project gaan \"de Potter Robin\" & \"Verhaegen Stijn\" een analyse doen over het energieverbruik en de productie ervan in Nederland.\n",
    "\n",
    "## Inhoud analyse\n",
    "\n",
    "1. `Lijst inhoud analyse`"
   ]
  },
  {
   "cell_type": "code",
   "execution_count": 1,
   "metadata": {
    "ExecuteTime": {
     "end_time": "2021-11-29T11:08:18.817894Z",
     "start_time": "2021-11-29T11:08:18.377718Z"
    }
   },
   "outputs": [],
   "source": [
    "from pyspark.sql import SparkSession\n",
    "from pyspark.sql import Row\n",
    "from pyspark.rdd import RDD\n",
    "import matplotlib.pyplot as plt\n",
    "from pyspark.sql.types import *\n",
    "from pyspark.sql.functions import *\n",
    "import glob\n",
    "import os"
   ]
  },
  {
   "cell_type": "code",
   "execution_count": 2,
   "metadata": {
    "ExecuteTime": {
     "end_time": "2021-11-29T11:08:23.813824Z",
     "start_time": "2021-11-29T11:08:18.819853Z"
    },
    "pycharm": {
     "name": "#%%\n"
    }
   },
   "outputs": [
    {
     "name": "stderr",
     "output_type": "stream",
     "text": [
      "21/11/29 12:08:21 WARN NativeCodeLoader: Unable to load native-hadoop library for your platform... using builtin-java classes where applicable\n",
      "Using Spark's default log4j profile: org/apache/spark/log4j-defaults.properties\n",
      "Setting default log level to \"WARN\".\n",
      "To adjust logging level use sc.setLogLevel(newLevel). For SparkR, use setLogLevel(newLevel).\n"
     ]
    }
   ],
   "source": [
    "spark = SparkSession.builder.appName(\"EnergyConsumption\").getOrCreate()\n",
    "sc = spark.sparkContext"
   ]
  },
  {
   "cell_type": "markdown",
   "metadata": {},
   "source": [
    "Path naar de data"
   ]
  },
  {
   "cell_type": "code",
   "execution_count": 3,
   "metadata": {
    "ExecuteTime": {
     "end_time": "2021-11-29T11:08:23.816095Z",
     "start_time": "2021-11-29T11:08:23.814716Z"
    }
   },
   "outputs": [],
   "source": [
    "path_gas = r\"./data/Gas/\"\n",
    "path_electricity = r\"./data/Electricity/\""
   ]
  },
  {
   "cell_type": "markdown",
   "metadata": {},
   "source": [
    "Het schema dat we zullen gebruiken voor het dataframe van gas en elektriciteit. "
   ]
  },
  {
   "cell_type": "code",
   "execution_count": 4,
   "metadata": {
    "ExecuteTime": {
     "end_time": "2021-11-29T11:08:23.822581Z",
     "start_time": "2021-11-29T11:08:23.817293Z"
    }
   },
   "outputs": [],
   "source": [
    "schema = StructType([\n",
    "    StructField('net_manager', StringType(), True),\n",
    "    StructField('purchase_area', StringType(), True),\n",
    "    StructField('street', StringType(), True),\n",
    "    StructField('zipcode_from', StringType(), True),\n",
    "    StructField('zipcode_to', StringType(), True),\n",
    "    StructField('city', StringType(), True),\n",
    "    StructField('num_connections', DoubleType(), True),\n",
    "    StructField('delivery_perc', DoubleType(), True),\n",
    "    StructField('perc_of_active_connections', DoubleType(), True),\n",
    "    StructField('type_conn_perc', DoubleType(), True),\n",
    "    StructField('type_of_connection', StringType(), True),\n",
    "    StructField('annual_consume', DoubleType(), True),\n",
    "    StructField('year', IntegerType(), True)\n",
    "  ])"
   ]
  },
  {
   "cell_type": "markdown",
   "metadata": {},
   "source": [
    "Hier declareren we de make_df functie die de raw data zal omzetten naar een DataFrame. We verwijderen ook een aantal files omdat de data van '*coteq_gas*' hetzelfde is van 2013 - 2018. Ook hebben wij '*rendo_gas_2019*' verwijderd aangezien die null values bezit."
   ]
  },
  {
   "cell_type": "code",
   "execution_count": 5,
   "metadata": {
    "ExecuteTime": {
     "end_time": "2021-11-29T11:08:23.826391Z",
     "start_time": "2021-11-29T11:08:23.823235Z"
    }
   },
   "outputs": [],
   "source": [
    "def make_df(path):\n",
    "    rdd_full = sc.emptyRDD()\n",
    "    df_full = spark.createDataFrame(rdd_full,schema)\n",
    "    for filename in os.listdir(path):\n",
    "        if(filename == \"rendo_gas_2019.csv\" or \n",
    "           filename == \"coteq_gas_2014.csv\" or \n",
    "           filename == \"coteq_gas_2015.csv\" or \n",
    "           filename == \"coteq_gas_2016.csv\" or \n",
    "           filename == \"coteq_gas_2017.csv\" or \n",
    "           filename == \"coteq_gas_2018.csv\"):\n",
    "#            filename == \"endurisgas_01012015.csv\"\n",
    "            print(\"removed \" + filename)\n",
    "        else:\n",
    "            # Read file and assign data\n",
    "            year = filename[-8:]\n",
    "            year = year[0:4]\n",
    "            data = spark.read.option(\"header\",\"true\").option(\"inferSchema\", \"true\").csv(path + filename, sep=\",\")\n",
    "            listColumns = data.columns\n",
    "            if 'ï»¿NETBEHEERDER' in listColumns:\n",
    "                data = data.withColumnRenamed(\"ï»¿NETBEHEERDER\",\"net_manager\")\n",
    "            data = data.select(data.net_manager, data.purchase_area, data.street, data.zipcode_from,\n",
    "                               data.zipcode_to,\n",
    "                               data.city,\n",
    "                               data.num_connections,\n",
    "                               data.delivery_perc,\n",
    "                               data.perc_of_active_connections,\n",
    "                               data.type_conn_perc,\n",
    "                               data.type_of_connection,\n",
    "                               data.annual_consume)\n",
    "            data = data.withColumn('year', lit(int(year)))\n",
    "            df_full = df_full.union(data)\n",
    "    return df_full"
   ]
  },
  {
   "cell_type": "markdown",
   "metadata": {},
   "source": [
    "We gebruiken de functie make_df(path) die we juist gedefinieerd hebben om al de gasdata in te lezen. "
   ]
  },
  {
   "cell_type": "code",
   "execution_count": 6,
   "metadata": {
    "ExecuteTime": {
     "end_time": "2021-11-29T11:08:53.901294Z",
     "start_time": "2021-11-29T11:08:23.827185Z"
    }
   },
   "outputs": [
    {
     "name": "stderr",
     "output_type": "stream",
     "text": [
      "                                                                                \r"
     ]
    },
    {
     "name": "stdout",
     "output_type": "stream",
     "text": [
      "removed coteq_gas_2018.csv\n",
      "removed rendo_gas_2019.csv\n",
      "removed coteq_gas_2015.csv\n",
      "removed coteq_gas_2014.csv\n",
      "removed coteq_gas_2016.csv\n",
      "removed coteq_gas_2017.csv\n"
     ]
    }
   ],
   "source": [
    "df_gas = make_df(path_gas)\n"
   ]
  },
  {
   "cell_type": "code",
   "execution_count": 7,
   "metadata": {
    "ExecuteTime": {
     "end_time": "2021-11-29T11:08:59.093726Z",
     "start_time": "2021-11-29T11:08:53.902116Z"
    },
    "scrolled": true
   },
   "outputs": [
    {
     "name": "stdout",
     "output_type": "stream",
     "text": [
      "-RECORD 0------------------------------------------\n",
      " net_manager                | 8717127750009        \n",
      " purchase_area              | GAS Gastransport ... \n",
      " street                     | Poststraat           \n",
      " zipcode_from               | 4301AA               \n",
      " zipcode_to                 | 4301AA               \n",
      " city                       | ZIERIKZEE            \n",
      " num_connections            | 14.0                 \n",
      " delivery_perc              | 100.0                \n",
      " perc_of_active_connections | 100.0                \n",
      " type_conn_perc             | 50,00                \n",
      " type_of_connection         | G4                   \n",
      " annual_consume             | 3736.0               \n",
      " year                       | 2015                 \n",
      "-RECORD 1------------------------------------------\n",
      " net_manager                | 8717127750009        \n",
      " purchase_area              | GAS Gastransport ... \n",
      " street                     | Poststraat           \n",
      " zipcode_from               | 4301AB               \n",
      " zipcode_to                 | 4301AD               \n",
      " city                       | ZIERIKZEE            \n",
      " num_connections            | 32.0                 \n",
      " delivery_perc              | 100.0                \n",
      " perc_of_active_connections | 100.0                \n",
      " type_conn_perc             | 71,88                \n",
      " type_of_connection         | G4                   \n",
      " annual_consume             | 2649.0               \n",
      " year                       | 2015                 \n",
      "-RECORD 2------------------------------------------\n",
      " net_manager                | 8717127750009        \n",
      " purchase_area              | GAS Gastransport ... \n",
      " street                     | Korte St. Janstraat  \n",
      " zipcode_from               | 4301AE               \n",
      " zipcode_to                 | 4301AE               \n",
      " city                       | ZIERIKZEE            \n",
      " num_connections            | 17.0                 \n",
      " delivery_perc              | 100.0                \n",
      " perc_of_active_connections | 100.0                \n",
      " type_conn_perc             | 88,24                \n",
      " type_of_connection         | G4                   \n",
      " annual_consume             | 1841.0               \n",
      " year                       | 2015                 \n",
      "-RECORD 3------------------------------------------\n",
      " net_manager                | 8717127750009        \n",
      " purchase_area              | GAS Gastransport ... \n",
      " street                     | Fonteine             \n",
      " zipcode_from               | 4301AG               \n",
      " zipcode_to                 | 4301AH               \n",
      " city                       | ZIERIKZEE            \n",
      " num_connections            | 31.0                 \n",
      " delivery_perc              | 100.0                \n",
      " perc_of_active_connections | 100.0                \n",
      " type_conn_perc             | 100,00               \n",
      " type_of_connection         | G4                   \n",
      " annual_consume             | 1264.0               \n",
      " year                       | 2015                 \n",
      "-RECORD 4------------------------------------------\n",
      " net_manager                | 8717127750009        \n",
      " purchase_area              | GAS Gastransport ... \n",
      " street                     | Lange St. Janstraat  \n",
      " zipcode_from               | 4301AJ               \n",
      " zipcode_to                 | 4301AJ               \n",
      " city                       | ZIERIKZEE            \n",
      " num_connections            | 16.0                 \n",
      " delivery_perc              | 100.0                \n",
      " perc_of_active_connections | 100.0                \n",
      " type_conn_perc             | 100,00               \n",
      " type_of_connection         | G4                   \n",
      " annual_consume             | 1230.0               \n",
      " year                       | 2015                 \n",
      "-RECORD 5------------------------------------------\n",
      " net_manager                | 8717127750009        \n",
      " purchase_area              | GAS Gastransport ... \n",
      " street                     | Lange St. Janstraat  \n",
      " zipcode_from               | 4301AK               \n",
      " zipcode_to                 | 4301AL               \n",
      " city                       | ZIERIKZEE            \n",
      " num_connections            | 21.0                 \n",
      " delivery_perc              | 100.0                \n",
      " perc_of_active_connections | 100.0                \n",
      " type_conn_perc             | 100,00               \n",
      " type_of_connection         | G4                   \n",
      " annual_consume             | 1451.0               \n",
      " year                       | 2015                 \n",
      "-RECORD 6------------------------------------------\n",
      " net_manager                | 8717127750009        \n",
      " purchase_area              | GAS Gastransport ... \n",
      " street                     | Krepelstraat         \n",
      " zipcode_from               | 4301AM               \n",
      " zipcode_to                 | 4301AM               \n",
      " city                       | ZIERIKZEE            \n",
      " num_connections            | 10.0                 \n",
      " delivery_perc              | 100.0                \n",
      " perc_of_active_connections | 100.0                \n",
      " type_conn_perc             | 100,00               \n",
      " type_of_connection         | G4                   \n",
      " annual_consume             | 1887.0               \n",
      " year                       | 2015                 \n",
      "-RECORD 7------------------------------------------\n",
      " net_manager                | 8717127750009        \n",
      " purchase_area              | GAS Gastransport ... \n",
      " street                     | Zevenhuisstraat      \n",
      " zipcode_from               | 4301AN               \n",
      " zipcode_to                 | 4301AR               \n",
      " city                       | ZIERIKZEE            \n",
      " num_connections            | 25.0                 \n",
      " delivery_perc              | 100.0                \n",
      " perc_of_active_connections | 100.0                \n",
      " type_conn_perc             | 88,00                \n",
      " type_of_connection         | G4                   \n",
      " annual_consume             | 1943.0               \n",
      " year                       | 2015                 \n",
      "-RECORD 8------------------------------------------\n",
      " net_manager                | 8717127750009        \n",
      " purchase_area              | GAS Gastransport ... \n",
      " street                     | Hoofdpoortstraat     \n",
      " zipcode_from               | 4301AS               \n",
      " zipcode_to                 | 4301AS               \n",
      " city                       | ZIERIKZEE            \n",
      " num_connections            | 12.0                 \n",
      " delivery_perc              | 100.0                \n",
      " perc_of_active_connections | 100.0                \n",
      " type_conn_perc             | 83,33                \n",
      " type_of_connection         | G4                   \n",
      " annual_consume             | 2010.0               \n",
      " year                       | 2015                 \n",
      "-RECORD 9------------------------------------------\n",
      " net_manager                | 8717127750009        \n",
      " purchase_area              | GAS Gastransport ... \n",
      " street                     | Hoofdpoortstraat     \n",
      " zipcode_from               | 4301AT               \n",
      " zipcode_to                 | 4301AT               \n",
      " city                       | ZIERIKZEE            \n",
      " num_connections            | 14.0                 \n",
      " delivery_perc              | 100.0                \n",
      " perc_of_active_connections | 92.86                \n",
      " type_conn_perc             | 92,86                \n",
      " type_of_connection         | G4                   \n",
      " annual_consume             | 1831.0               \n",
      " year                       | 2015                 \n",
      "-RECORD 10-----------------------------------------\n",
      " net_manager                | 8717127750009        \n",
      " purchase_area              | GAS Gastransport ... \n",
      " street                     | Hoofdpoortstraat     \n",
      " zipcode_from               | 4301AV               \n",
      " zipcode_to                 | 4301AV               \n",
      " city                       | ZIERIKZEE            \n",
      " num_connections            | 17.0                 \n",
      " delivery_perc              | 100.0                \n",
      " perc_of_active_connections | 100.0                \n",
      " type_conn_perc             | 100,00               \n",
      " type_of_connection         | G4                   \n",
      " annual_consume             | 1286.0               \n",
      " year                       | 2015                 \n",
      "-RECORD 11-----------------------------------------\n",
      " net_manager                | 8717127750009        \n",
      " purchase_area              | GAS Gastransport ... \n",
      " street                     | Breedstraat          \n",
      " zipcode_from               | 4301AW               \n",
      " zipcode_to                 | 4301AW               \n",
      " city                       | ZIERIKZEE            \n",
      " num_connections            | 14.0                 \n",
      " delivery_perc              | 100.0                \n",
      " perc_of_active_connections | 100.0                \n",
      " type_conn_perc             | 100,00               \n",
      " type_of_connection         | G4                   \n",
      " annual_consume             | 1325.0               \n",
      " year                       | 2015                 \n",
      "-RECORD 12-----------------------------------------\n",
      " net_manager                | 8717127750009        \n",
      " purchase_area              | GAS Gastransport ... \n",
      " street                     | Breedstraat          \n",
      " zipcode_from               | 4301AX               \n",
      " zipcode_to                 | 4301AX               \n",
      " city                       | ZIERIKZEE            \n",
      " num_connections            | 11.0                 \n",
      " delivery_perc              | 100.0                \n",
      " perc_of_active_connections | 100.0                \n",
      " type_conn_perc             | 90,91                \n",
      " type_of_connection         | G4                   \n",
      " annual_consume             | 1995.0               \n",
      " year                       | 2015                 \n",
      "-RECORD 13-----------------------------------------\n",
      " net_manager                | 8717127750009        \n",
      " purchase_area              | GAS Gastransport ... \n",
      " street                     | Schuttershofstraat   \n",
      " zipcode_from               | 4301AZ               \n",
      " zipcode_to                 | 4301AZ               \n",
      " city                       | ZIERIKZEE            \n",
      " num_connections            | 16.0                 \n",
      " delivery_perc              | 100.0                \n",
      " perc_of_active_connections | 93.75                \n",
      " type_conn_perc             | 100,00               \n",
      " type_of_connection         | G4                   \n",
      " annual_consume             | 1280.0               \n",
      " year                       | 2015                 \n",
      "-RECORD 14-----------------------------------------\n",
      " net_manager                | 8717127750009        \n",
      " purchase_area              | GAS Gastransport ... \n",
      " street                     | Schuttershofstraat   \n",
      " zipcode_from               | 4301BA               \n",
      " zipcode_to                 | 4301BA               \n",
      " city                       | ZIERIKZEE            \n",
      " num_connections            | 14.0                 \n",
      " delivery_perc              | 100.0                \n",
      " perc_of_active_connections | 92.86                \n",
      " type_conn_perc             | 100,00               \n",
      " type_of_connection         | G4                   \n",
      " annual_consume             | 1260.0               \n",
      " year                       | 2015                 \n",
      "-RECORD 15-----------------------------------------\n",
      " net_manager                | 8717127750009        \n",
      " purchase_area              | GAS Gastransport ... \n",
      " street                     | Ravestraat           \n",
      " zipcode_from               | 4301BB               \n",
      " zipcode_to                 | 4301BB               \n",
      " city                       | ZIERIKZEE            \n",
      " num_connections            | 11.0                 \n",
      " delivery_perc              | 100.0                \n",
      " perc_of_active_connections | 100.0                \n",
      " type_conn_perc             | 100,00               \n",
      " type_of_connection         | G4                   \n",
      " annual_consume             | 1487.0               \n",
      " year                       | 2015                 \n",
      "-RECORD 16-----------------------------------------\n",
      " net_manager                | 8717127750009        \n",
      " purchase_area              | GAS Gastransport ... \n",
      " street                     | Ravestraat           \n",
      " zipcode_from               | 4301BC               \n",
      " zipcode_to                 | 4301BC               \n",
      " city                       | ZIERIKZEE            \n",
      " num_connections            | 18.0                 \n",
      " delivery_perc              | 100.0                \n",
      " perc_of_active_connections | 100.0                \n",
      " type_conn_perc             | 100,00               \n",
      " type_of_connection         | G4                   \n",
      " annual_consume             | 1442.0               \n",
      " year                       | 2015                 \n",
      "-RECORD 17-----------------------------------------\n",
      " net_manager                | 8717127750009        \n",
      " purchase_area              | GAS Gastransport ... \n",
      " street                     | Gat van W N Westen   \n",
      " zipcode_from               | 4301BD               \n",
      " zipcode_to                 | 4301BD               \n",
      " city                       | ZIERIKZEE            \n",
      " num_connections            | 18.0                 \n",
      " delivery_perc              | 100.0                \n",
      " perc_of_active_connections | 100.0                \n",
      " type_conn_perc             | 94,44                \n",
      " type_of_connection         | G4                   \n",
      " annual_consume             | 1089.0               \n",
      " year                       | 2015                 \n",
      "-RECORD 18-----------------------------------------\n",
      " net_manager                | 8717127750009        \n",
      " purchase_area              | GAS Gastransport ... \n",
      " street                     | Rozemarijnstraat     \n",
      " zipcode_from               | 4301BE               \n",
      " zipcode_to                 | 4301BG               \n",
      " city                       | ZIERIKZEE            \n",
      " num_connections            | 19.0                 \n",
      " delivery_perc              | 100.0                \n",
      " perc_of_active_connections | 100.0                \n",
      " type_conn_perc             | 94,74                \n",
      " type_of_connection         | G4                   \n",
      " annual_consume             | 1410.0               \n",
      " year                       | 2015                 \n",
      "-RECORD 19-----------------------------------------\n",
      " net_manager                | 8717127750009        \n",
      " purchase_area              | GAS Gastransport ... \n",
      " street                     | Bagijnestraat        \n",
      " zipcode_from               | 4301BH               \n",
      " zipcode_to                 | 4301BH               \n",
      " city                       | ZIERIKZEE            \n",
      " num_connections            | 18.0                 \n",
      " delivery_perc              | 100.0                \n",
      " perc_of_active_connections | 100.0                \n",
      " type_conn_perc             | 100,00               \n",
      " type_of_connection         | G4                   \n",
      " annual_consume             | 1435.0               \n",
      " year                       | 2015                 \n",
      "only showing top 20 rows\n",
      "\n"
     ]
    }
   ],
   "source": [
    "df_gas.show(vertical=True)"
   ]
  },
  {
   "cell_type": "code",
   "execution_count": 8,
   "metadata": {
    "ExecuteTime": {
     "end_time": "2021-11-29T11:09:03.701702Z",
     "start_time": "2021-11-29T11:08:59.094497Z"
    }
   },
   "outputs": [
    {
     "name": "stderr",
     "output_type": "stream",
     "text": [
      "                                                                                \r"
     ]
    },
    {
     "data": {
      "text/plain": [
       "3665480"
      ]
     },
     "execution_count": 8,
     "metadata": {},
     "output_type": "execute_result"
    }
   ],
   "source": [
    "df_gas.count()"
   ]
  },
  {
   "cell_type": "code",
   "execution_count": 9,
   "metadata": {
    "ExecuteTime": {
     "end_time": "2021-11-29T11:09:03.712548Z",
     "start_time": "2021-11-29T11:09:03.703109Z"
    }
   },
   "outputs": [
    {
     "name": "stdout",
     "output_type": "stream",
     "text": [
      "root\n",
      " |-- net_manager: string (nullable = true)\n",
      " |-- purchase_area: string (nullable = true)\n",
      " |-- street: string (nullable = true)\n",
      " |-- zipcode_from: string (nullable = true)\n",
      " |-- zipcode_to: string (nullable = true)\n",
      " |-- city: string (nullable = true)\n",
      " |-- num_connections: double (nullable = true)\n",
      " |-- delivery_perc: double (nullable = true)\n",
      " |-- perc_of_active_connections: double (nullable = true)\n",
      " |-- type_conn_perc: string (nullable = true)\n",
      " |-- type_of_connection: string (nullable = true)\n",
      " |-- annual_consume: double (nullable = true)\n",
      " |-- year: integer (nullable = true)\n",
      "\n"
     ]
    }
   ],
   "source": [
    "df_gas.printSchema()"
   ]
  },
  {
   "cell_type": "markdown",
   "metadata": {},
   "source": [
    "Hoewel we in het schema meegeven dat de kolom 'type_conn_perc' het datatype Double heeft, is dit nog niet het geval. Het datatype is String. We denken dat dit komt omdat de values komma's bevatten. Bv: 50,0 ipv 50.0. We veranderen dus alle komma's met punten voor deze kolom. Als we dit niet doen en we casten deze kolom meteen naar een double, dan worden de waardes die een komma bevatten omgezet naar null. "
   ]
  },
  {
   "cell_type": "code",
   "execution_count": 10,
   "metadata": {
    "ExecuteTime": {
     "end_time": "2021-11-29T11:09:03.893908Z",
     "start_time": "2021-11-29T11:09:03.715179Z"
    }
   },
   "outputs": [],
   "source": [
    "df_gas = df_gas.withColumn('type_conn_perc', regexp_replace('type_conn_perc', '[,]', '.'))"
   ]
  },
  {
   "cell_type": "code",
   "execution_count": 11,
   "metadata": {
    "ExecuteTime": {
     "end_time": "2021-11-29T11:09:07.804423Z",
     "start_time": "2021-11-29T11:09:03.894515Z"
    }
   },
   "outputs": [
    {
     "name": "stdout",
     "output_type": "stream",
     "text": [
      "-RECORD 0------------------------------------------\n",
      " net_manager                | 8717127750009        \n",
      " purchase_area              | GAS Gastransport ... \n",
      " street                     | Poststraat           \n",
      " zipcode_from               | 4301AA               \n",
      " zipcode_to                 | 4301AA               \n",
      " city                       | ZIERIKZEE            \n",
      " num_connections            | 14.0                 \n",
      " delivery_perc              | 100.0                \n",
      " perc_of_active_connections | 100.0                \n",
      " type_conn_perc             | 50.00                \n",
      " type_of_connection         | G4                   \n",
      " annual_consume             | 3736.0               \n",
      " year                       | 2015                 \n",
      "-RECORD 1------------------------------------------\n",
      " net_manager                | 8717127750009        \n",
      " purchase_area              | GAS Gastransport ... \n",
      " street                     | Poststraat           \n",
      " zipcode_from               | 4301AB               \n",
      " zipcode_to                 | 4301AD               \n",
      " city                       | ZIERIKZEE            \n",
      " num_connections            | 32.0                 \n",
      " delivery_perc              | 100.0                \n",
      " perc_of_active_connections | 100.0                \n",
      " type_conn_perc             | 71.88                \n",
      " type_of_connection         | G4                   \n",
      " annual_consume             | 2649.0               \n",
      " year                       | 2015                 \n",
      "-RECORD 2------------------------------------------\n",
      " net_manager                | 8717127750009        \n",
      " purchase_area              | GAS Gastransport ... \n",
      " street                     | Korte St. Janstraat  \n",
      " zipcode_from               | 4301AE               \n",
      " zipcode_to                 | 4301AE               \n",
      " city                       | ZIERIKZEE            \n",
      " num_connections            | 17.0                 \n",
      " delivery_perc              | 100.0                \n",
      " perc_of_active_connections | 100.0                \n",
      " type_conn_perc             | 88.24                \n",
      " type_of_connection         | G4                   \n",
      " annual_consume             | 1841.0               \n",
      " year                       | 2015                 \n",
      "-RECORD 3------------------------------------------\n",
      " net_manager                | 8717127750009        \n",
      " purchase_area              | GAS Gastransport ... \n",
      " street                     | Fonteine             \n",
      " zipcode_from               | 4301AG               \n",
      " zipcode_to                 | 4301AH               \n",
      " city                       | ZIERIKZEE            \n",
      " num_connections            | 31.0                 \n",
      " delivery_perc              | 100.0                \n",
      " perc_of_active_connections | 100.0                \n",
      " type_conn_perc             | 100.00               \n",
      " type_of_connection         | G4                   \n",
      " annual_consume             | 1264.0               \n",
      " year                       | 2015                 \n",
      "-RECORD 4------------------------------------------\n",
      " net_manager                | 8717127750009        \n",
      " purchase_area              | GAS Gastransport ... \n",
      " street                     | Lange St. Janstraat  \n",
      " zipcode_from               | 4301AJ               \n",
      " zipcode_to                 | 4301AJ               \n",
      " city                       | ZIERIKZEE            \n",
      " num_connections            | 16.0                 \n",
      " delivery_perc              | 100.0                \n",
      " perc_of_active_connections | 100.0                \n",
      " type_conn_perc             | 100.00               \n",
      " type_of_connection         | G4                   \n",
      " annual_consume             | 1230.0               \n",
      " year                       | 2015                 \n",
      "-RECORD 5------------------------------------------\n",
      " net_manager                | 8717127750009        \n",
      " purchase_area              | GAS Gastransport ... \n",
      " street                     | Lange St. Janstraat  \n",
      " zipcode_from               | 4301AK               \n",
      " zipcode_to                 | 4301AL               \n",
      " city                       | ZIERIKZEE            \n",
      " num_connections            | 21.0                 \n",
      " delivery_perc              | 100.0                \n",
      " perc_of_active_connections | 100.0                \n",
      " type_conn_perc             | 100.00               \n",
      " type_of_connection         | G4                   \n",
      " annual_consume             | 1451.0               \n",
      " year                       | 2015                 \n",
      "-RECORD 6------------------------------------------\n",
      " net_manager                | 8717127750009        \n",
      " purchase_area              | GAS Gastransport ... \n",
      " street                     | Krepelstraat         \n",
      " zipcode_from               | 4301AM               \n",
      " zipcode_to                 | 4301AM               \n",
      " city                       | ZIERIKZEE            \n",
      " num_connections            | 10.0                 \n",
      " delivery_perc              | 100.0                \n",
      " perc_of_active_connections | 100.0                \n",
      " type_conn_perc             | 100.00               \n",
      " type_of_connection         | G4                   \n",
      " annual_consume             | 1887.0               \n",
      " year                       | 2015                 \n",
      "-RECORD 7------------------------------------------\n",
      " net_manager                | 8717127750009        \n",
      " purchase_area              | GAS Gastransport ... \n",
      " street                     | Zevenhuisstraat      \n",
      " zipcode_from               | 4301AN               \n",
      " zipcode_to                 | 4301AR               \n",
      " city                       | ZIERIKZEE            \n",
      " num_connections            | 25.0                 \n",
      " delivery_perc              | 100.0                \n",
      " perc_of_active_connections | 100.0                \n",
      " type_conn_perc             | 88.00                \n",
      " type_of_connection         | G4                   \n",
      " annual_consume             | 1943.0               \n",
      " year                       | 2015                 \n",
      "-RECORD 8------------------------------------------\n",
      " net_manager                | 8717127750009        \n",
      " purchase_area              | GAS Gastransport ... \n",
      " street                     | Hoofdpoortstraat     \n",
      " zipcode_from               | 4301AS               \n",
      " zipcode_to                 | 4301AS               \n",
      " city                       | ZIERIKZEE            \n",
      " num_connections            | 12.0                 \n",
      " delivery_perc              | 100.0                \n",
      " perc_of_active_connections | 100.0                \n",
      " type_conn_perc             | 83.33                \n",
      " type_of_connection         | G4                   \n",
      " annual_consume             | 2010.0               \n",
      " year                       | 2015                 \n",
      "-RECORD 9------------------------------------------\n",
      " net_manager                | 8717127750009        \n",
      " purchase_area              | GAS Gastransport ... \n",
      " street                     | Hoofdpoortstraat     \n",
      " zipcode_from               | 4301AT               \n",
      " zipcode_to                 | 4301AT               \n",
      " city                       | ZIERIKZEE            \n",
      " num_connections            | 14.0                 \n",
      " delivery_perc              | 100.0                \n",
      " perc_of_active_connections | 92.86                \n",
      " type_conn_perc             | 92.86                \n",
      " type_of_connection         | G4                   \n",
      " annual_consume             | 1831.0               \n",
      " year                       | 2015                 \n",
      "-RECORD 10-----------------------------------------\n",
      " net_manager                | 8717127750009        \n",
      " purchase_area              | GAS Gastransport ... \n",
      " street                     | Hoofdpoortstraat     \n",
      " zipcode_from               | 4301AV               \n",
      " zipcode_to                 | 4301AV               \n",
      " city                       | ZIERIKZEE            \n",
      " num_connections            | 17.0                 \n",
      " delivery_perc              | 100.0                \n",
      " perc_of_active_connections | 100.0                \n",
      " type_conn_perc             | 100.00               \n",
      " type_of_connection         | G4                   \n",
      " annual_consume             | 1286.0               \n",
      " year                       | 2015                 \n",
      "-RECORD 11-----------------------------------------\n",
      " net_manager                | 8717127750009        \n",
      " purchase_area              | GAS Gastransport ... \n",
      " street                     | Breedstraat          \n",
      " zipcode_from               | 4301AW               \n",
      " zipcode_to                 | 4301AW               \n",
      " city                       | ZIERIKZEE            \n",
      " num_connections            | 14.0                 \n",
      " delivery_perc              | 100.0                \n",
      " perc_of_active_connections | 100.0                \n",
      " type_conn_perc             | 100.00               \n",
      " type_of_connection         | G4                   \n",
      " annual_consume             | 1325.0               \n",
      " year                       | 2015                 \n",
      "-RECORD 12-----------------------------------------\n",
      " net_manager                | 8717127750009        \n",
      " purchase_area              | GAS Gastransport ... \n",
      " street                     | Breedstraat          \n",
      " zipcode_from               | 4301AX               \n",
      " zipcode_to                 | 4301AX               \n",
      " city                       | ZIERIKZEE            \n",
      " num_connections            | 11.0                 \n",
      " delivery_perc              | 100.0                \n",
      " perc_of_active_connections | 100.0                \n",
      " type_conn_perc             | 90.91                \n",
      " type_of_connection         | G4                   \n",
      " annual_consume             | 1995.0               \n",
      " year                       | 2015                 \n",
      "-RECORD 13-----------------------------------------\n",
      " net_manager                | 8717127750009        \n",
      " purchase_area              | GAS Gastransport ... \n",
      " street                     | Schuttershofstraat   \n",
      " zipcode_from               | 4301AZ               \n",
      " zipcode_to                 | 4301AZ               \n",
      " city                       | ZIERIKZEE            \n",
      " num_connections            | 16.0                 \n",
      " delivery_perc              | 100.0                \n",
      " perc_of_active_connections | 93.75                \n",
      " type_conn_perc             | 100.00               \n",
      " type_of_connection         | G4                   \n",
      " annual_consume             | 1280.0               \n",
      " year                       | 2015                 \n",
      "-RECORD 14-----------------------------------------\n",
      " net_manager                | 8717127750009        \n",
      " purchase_area              | GAS Gastransport ... \n",
      " street                     | Schuttershofstraat   \n",
      " zipcode_from               | 4301BA               \n",
      " zipcode_to                 | 4301BA               \n",
      " city                       | ZIERIKZEE            \n",
      " num_connections            | 14.0                 \n",
      " delivery_perc              | 100.0                \n",
      " perc_of_active_connections | 92.86                \n",
      " type_conn_perc             | 100.00               \n",
      " type_of_connection         | G4                   \n",
      " annual_consume             | 1260.0               \n",
      " year                       | 2015                 \n",
      "-RECORD 15-----------------------------------------\n",
      " net_manager                | 8717127750009        \n",
      " purchase_area              | GAS Gastransport ... \n",
      " street                     | Ravestraat           \n",
      " zipcode_from               | 4301BB               \n",
      " zipcode_to                 | 4301BB               \n",
      " city                       | ZIERIKZEE            \n",
      " num_connections            | 11.0                 \n",
      " delivery_perc              | 100.0                \n",
      " perc_of_active_connections | 100.0                \n",
      " type_conn_perc             | 100.00               \n",
      " type_of_connection         | G4                   \n",
      " annual_consume             | 1487.0               \n",
      " year                       | 2015                 \n",
      "-RECORD 16-----------------------------------------\n",
      " net_manager                | 8717127750009        \n",
      " purchase_area              | GAS Gastransport ... \n",
      " street                     | Ravestraat           \n",
      " zipcode_from               | 4301BC               \n",
      " zipcode_to                 | 4301BC               \n",
      " city                       | ZIERIKZEE            \n",
      " num_connections            | 18.0                 \n",
      " delivery_perc              | 100.0                \n",
      " perc_of_active_connections | 100.0                \n",
      " type_conn_perc             | 100.00               \n",
      " type_of_connection         | G4                   \n",
      " annual_consume             | 1442.0               \n",
      " year                       | 2015                 \n",
      "-RECORD 17-----------------------------------------\n",
      " net_manager                | 8717127750009        \n",
      " purchase_area              | GAS Gastransport ... \n",
      " street                     | Gat van W N Westen   \n",
      " zipcode_from               | 4301BD               \n",
      " zipcode_to                 | 4301BD               \n",
      " city                       | ZIERIKZEE            \n",
      " num_connections            | 18.0                 \n",
      " delivery_perc              | 100.0                \n",
      " perc_of_active_connections | 100.0                \n",
      " type_conn_perc             | 94.44                \n",
      " type_of_connection         | G4                   \n",
      " annual_consume             | 1089.0               \n",
      " year                       | 2015                 \n",
      "-RECORD 18-----------------------------------------\n",
      " net_manager                | 8717127750009        \n",
      " purchase_area              | GAS Gastransport ... \n",
      " street                     | Rozemarijnstraat     \n",
      " zipcode_from               | 4301BE               \n",
      " zipcode_to                 | 4301BG               \n",
      " city                       | ZIERIKZEE            \n",
      " num_connections            | 19.0                 \n",
      " delivery_perc              | 100.0                \n",
      " perc_of_active_connections | 100.0                \n",
      " type_conn_perc             | 94.74                \n",
      " type_of_connection         | G4                   \n",
      " annual_consume             | 1410.0               \n",
      " year                       | 2015                 \n",
      "-RECORD 19-----------------------------------------\n",
      " net_manager                | 8717127750009        \n",
      " purchase_area              | GAS Gastransport ... \n",
      " street                     | Bagijnestraat        \n",
      " zipcode_from               | 4301BH               \n",
      " zipcode_to                 | 4301BH               \n",
      " city                       | ZIERIKZEE            \n",
      " num_connections            | 18.0                 \n",
      " delivery_perc              | 100.0                \n",
      " perc_of_active_connections | 100.0                \n",
      " type_conn_perc             | 100.00               \n",
      " type_of_connection         | G4                   \n",
      " annual_consume             | 1435.0               \n",
      " year                       | 2015                 \n",
      "only showing top 20 rows\n",
      "\n"
     ]
    }
   ],
   "source": [
    "df_gas.show(vertical=True)"
   ]
  },
  {
   "cell_type": "markdown",
   "metadata": {
    "ExecuteTime": {
     "end_time": "2021-11-18T14:29:35.028340Z",
     "start_time": "2021-11-18T14:29:35.024808Z"
    }
   },
   "source": [
    "Nu we dit gedaan hebben moeten we deze kolom nog casten naar het datatype Double. "
   ]
  },
  {
   "cell_type": "code",
   "execution_count": 12,
   "metadata": {
    "ExecuteTime": {
     "end_time": "2021-11-29T11:09:07.899119Z",
     "start_time": "2021-11-29T11:09:07.805136Z"
    }
   },
   "outputs": [],
   "source": [
    "df_gas = df_gas.withColumn('type_conn_perc', df_gas['type_conn_perc'].cast(DoubleType()))"
   ]
  },
  {
   "cell_type": "code",
   "execution_count": 13,
   "metadata": {
    "ExecuteTime": {
     "end_time": "2021-11-29T11:09:07.902689Z",
     "start_time": "2021-11-29T11:09:07.899815Z"
    }
   },
   "outputs": [
    {
     "name": "stdout",
     "output_type": "stream",
     "text": [
      "root\n",
      " |-- net_manager: string (nullable = true)\n",
      " |-- purchase_area: string (nullable = true)\n",
      " |-- street: string (nullable = true)\n",
      " |-- zipcode_from: string (nullable = true)\n",
      " |-- zipcode_to: string (nullable = true)\n",
      " |-- city: string (nullable = true)\n",
      " |-- num_connections: double (nullable = true)\n",
      " |-- delivery_perc: double (nullable = true)\n",
      " |-- perc_of_active_connections: double (nullable = true)\n",
      " |-- type_conn_perc: double (nullable = true)\n",
      " |-- type_of_connection: string (nullable = true)\n",
      " |-- annual_consume: double (nullable = true)\n",
      " |-- year: integer (nullable = true)\n",
      "\n"
     ]
    }
   ],
   "source": [
    "df_gas.printSchema()"
   ]
  },
  {
   "cell_type": "markdown",
   "metadata": {},
   "source": [
    "Het schema van het dataframe df_gas is nu in orde. Elke kolom heeft het juiste datatype. "
   ]
  },
  {
   "cell_type": "markdown",
   "metadata": {},
   "source": [
    "We doorlopen nu hetzelfde proces voor de elektriciteitsdata. We gebruiken de functie make_df(path) om al de elektriciteitsdata in te lezen."
   ]
  },
  {
   "cell_type": "code",
   "execution_count": 14,
   "metadata": {
    "ExecuteTime": {
     "end_time": "2021-11-29T11:09:25.801722Z",
     "start_time": "2021-11-29T11:09:07.903447Z"
    }
   },
   "outputs": [],
   "source": [
    "df_electricity = make_df(path_electricity)"
   ]
  },
  {
   "cell_type": "code",
   "execution_count": 15,
   "metadata": {
    "ExecuteTime": {
     "end_time": "2021-11-29T11:09:28.559772Z",
     "start_time": "2021-11-29T11:09:25.802339Z"
    }
   },
   "outputs": [
    {
     "name": "stdout",
     "output_type": "stream",
     "text": [
      "-RECORD 0-----------------------------------------\n",
      " net_manager                | 8716874000009       \n",
      " purchase_area              | Stedin Utrecht      \n",
      " street                     | Egelshoek           \n",
      " zipcode_from               | 1213RC              \n",
      " zipcode_to                 | 1231AB              \n",
      " city                       | HILVERSUM           \n",
      " num_connections            | 30.0                \n",
      " delivery_perc              | 90.0                \n",
      " perc_of_active_connections | 100.0               \n",
      " type_conn_perc             | 80.0                \n",
      " type_of_connection         | 3x25                \n",
      " annual_consume             | 5909.0              \n",
      " year                       | 2019                \n",
      "-RECORD 1-----------------------------------------\n",
      " net_manager                | 8716874000009       \n",
      " purchase_area              | Stedin Utrecht      \n",
      " street                     | Rembrandtlaan       \n",
      " zipcode_from               | 1231AC              \n",
      " zipcode_to                 | 1231AC              \n",
      " city                       | LOOSDRECHT          \n",
      " num_connections            | 17.0                \n",
      " delivery_perc              | 100.0               \n",
      " perc_of_active_connections | 100.0               \n",
      " type_conn_perc             | 41.0                \n",
      " type_of_connection         | 1x25                \n",
      " annual_consume             | 3062.0              \n",
      " year                       | 2019                \n",
      "-RECORD 2-----------------------------------------\n",
      " net_manager                | 8716874000009       \n",
      " purchase_area              | Stedin Utrecht      \n",
      " street                     | Rembrandtlaan       \n",
      " zipcode_from               | 1231AD              \n",
      " zipcode_to                 | 1231AD              \n",
      " city                       | LOOSDRECHT          \n",
      " num_connections            | 17.0                \n",
      " delivery_perc              | 100.0               \n",
      " perc_of_active_connections | 100.0               \n",
      " type_conn_perc             | 47.0                \n",
      " type_of_connection         | 3x25                \n",
      " annual_consume             | 3959.0              \n",
      " year                       | 2019                \n",
      "-RECORD 3-----------------------------------------\n",
      " net_manager                | 8716874000009       \n",
      " purchase_area              | Stedin Utrecht      \n",
      " street                     | Jan Steenlaan       \n",
      " zipcode_from               | 1231AE              \n",
      " zipcode_to                 | 1231AE              \n",
      " city                       | LOOSDRECHT          \n",
      " num_connections            | 20.0                \n",
      " delivery_perc              | 100.0               \n",
      " perc_of_active_connections | 100.0               \n",
      " type_conn_perc             | 45.0                \n",
      " type_of_connection         | 3x25                \n",
      " annual_consume             | 4230.0              \n",
      " year                       | 2019                \n",
      "-RECORD 4-----------------------------------------\n",
      " net_manager                | 8716874000009       \n",
      " purchase_area              | Stedin Utrecht      \n",
      " street                     | Pieter de Hooghlaan \n",
      " zipcode_from               | 1231AG              \n",
      " zipcode_to                 | 1231AG              \n",
      " city                       | LOOSDRECHT          \n",
      " num_connections            | 17.0                \n",
      " delivery_perc              | 94.12               \n",
      " perc_of_active_connections | 100.0               \n",
      " type_conn_perc             | 71.0                \n",
      " type_of_connection         | 1x25                \n",
      " annual_consume             | 3180.0              \n",
      " year                       | 2019                \n",
      "-RECORD 5-----------------------------------------\n",
      " net_manager                | 8716874000009       \n",
      " purchase_area              | Stedin Utrecht      \n",
      " street                     | Paulus Potterlaan   \n",
      " zipcode_from               | 1231AH              \n",
      " zipcode_to                 | 1231AH              \n",
      " city                       | LOOSDRECHT          \n",
      " num_connections            | 22.0                \n",
      " delivery_perc              | 86.36               \n",
      " perc_of_active_connections | 100.0               \n",
      " type_conn_perc             | 41.0                \n",
      " type_of_connection         | 3x25                \n",
      " annual_consume             | 3909.0              \n",
      " year                       | 2019                \n",
      "-RECORD 6-----------------------------------------\n",
      " net_manager                | 8716874000009       \n",
      " purchase_area              | Stedin Utrecht      \n",
      " street                     | Van Mierislaan      \n",
      " zipcode_from               | 1231AJ              \n",
      " zipcode_to                 | 1231AJ              \n",
      " city                       | LOOSDRECHT          \n",
      " num_connections            | 23.0                \n",
      " delivery_perc              | 95.65               \n",
      " perc_of_active_connections | 100.0               \n",
      " type_conn_perc             | 52.0                \n",
      " type_of_connection         | 1x25                \n",
      " annual_consume             | 3139.0              \n",
      " year                       | 2019                \n",
      "-RECORD 7-----------------------------------------\n",
      " net_manager                | 8716874000009       \n",
      " purchase_area              | Stedin Utrecht      \n",
      " street                     | Van Ostadelaan      \n",
      " zipcode_from               | 1231AK              \n",
      " zipcode_to                 | 1231AK              \n",
      " city                       | LOOSDRECHT          \n",
      " num_connections            | 21.0                \n",
      " delivery_perc              | 80.95               \n",
      " perc_of_active_connections | 100.0               \n",
      " type_conn_perc             | 62.0                \n",
      " type_of_connection         | 3x25                \n",
      " annual_consume             | 3423.0              \n",
      " year                       | 2019                \n",
      "-RECORD 8-----------------------------------------\n",
      " net_manager                | 8716874000009       \n",
      " purchase_area              | Stedin Utrecht      \n",
      " street                     | Van der Helstlaan   \n",
      " zipcode_from               | 1231AL              \n",
      " zipcode_to                 | 1231AL              \n",
      " city                       | LOOSDRECHT          \n",
      " num_connections            | 17.0                \n",
      " delivery_perc              | 88.24               \n",
      " perc_of_active_connections | 100.0               \n",
      " type_conn_perc             | 47.0                \n",
      " type_of_connection         | 3x25                \n",
      " annual_consume             | 4139.0              \n",
      " year                       | 2019                \n",
      "-RECORD 9-----------------------------------------\n",
      " net_manager                | 8716874000009       \n",
      " purchase_area              | Stedin Utrecht      \n",
      " street                     | Van der Helstlaan   \n",
      " zipcode_from               | 1231AM              \n",
      " zipcode_to                 | 1231AM              \n",
      " city                       | LOOSDRECHT          \n",
      " num_connections            | 12.0                \n",
      " delivery_perc              | 100.0               \n",
      " perc_of_active_connections | 100.0               \n",
      " type_conn_perc             | 42.0                \n",
      " type_of_connection         | 1x25                \n",
      " annual_consume             | 3858.0              \n",
      " year                       | 2019                \n",
      "-RECORD 10----------------------------------------\n",
      " net_manager                | 8716874000009       \n",
      " purchase_area              | Stedin Utrecht      \n",
      " street                     | Vermeerlaan         \n",
      " zipcode_from               | 1231AN              \n",
      " zipcode_to                 | 1231AN              \n",
      " city                       | LOOSDRECHT          \n",
      " num_connections            | 22.0                \n",
      " delivery_perc              | 95.45               \n",
      " perc_of_active_connections | 100.0               \n",
      " type_conn_perc             | 41.0                \n",
      " type_of_connection         | 1x35                \n",
      " annual_consume             | 3970.0              \n",
      " year                       | 2019                \n",
      "-RECORD 11----------------------------------------\n",
      " net_manager                | 8716874000009       \n",
      " purchase_area              | Stedin Utrecht      \n",
      " street                     | Vermeerlaan         \n",
      " zipcode_from               | 1231AP              \n",
      " zipcode_to                 | 1231AP              \n",
      " city                       | LOOSDRECHT          \n",
      " num_connections            | 13.0                \n",
      " delivery_perc              | 100.0               \n",
      " perc_of_active_connections | 100.0               \n",
      " type_conn_perc             | 54.0                \n",
      " type_of_connection         | 3x25                \n",
      " annual_consume             | 4842.0              \n",
      " year                       | 2019                \n",
      "-RECORD 12----------------------------------------\n",
      " net_manager                | 8716874000009       \n",
      " purchase_area              | Stedin Utrecht      \n",
      " street                     | Ruysdaellaan        \n",
      " zipcode_from               | 1231AR              \n",
      " zipcode_to                 | 1231AR              \n",
      " city                       | LOOSDRECHT          \n",
      " num_connections            | 19.0                \n",
      " delivery_perc              | 100.0               \n",
      " perc_of_active_connections | 100.0               \n",
      " type_conn_perc             | 37.0                \n",
      " type_of_connection         | 1x25                \n",
      " annual_consume             | 4194.0              \n",
      " year                       | 2019                \n",
      "-RECORD 13----------------------------------------\n",
      " net_manager                | 8716874000009       \n",
      " purchase_area              | Stedin Utrecht      \n",
      " street                     | Ruysdaellaan        \n",
      " zipcode_from               | 1231AS              \n",
      " zipcode_to                 | 1231AS              \n",
      " city                       | LOOSDRECHT          \n",
      " num_connections            | 23.0                \n",
      " delivery_perc              | 91.3                \n",
      " perc_of_active_connections | 100.0               \n",
      " type_conn_perc             | 52.0                \n",
      " type_of_connection         | 1x25                \n",
      " annual_consume             | 2669.0              \n",
      " year                       | 2019                \n",
      "-RECORD 14----------------------------------------\n",
      " net_manager                | 8716874000009       \n",
      " purchase_area              | Stedin Utrecht      \n",
      " street                     | St. Annepad         \n",
      " zipcode_from               | 1231AT              \n",
      " zipcode_to                 | 1231AT              \n",
      " city                       | LOOSDRECHT          \n",
      " num_connections            | 16.0                \n",
      " delivery_perc              | 100.0               \n",
      " perc_of_active_connections | 100.0               \n",
      " type_conn_perc             | 56.0                \n",
      " type_of_connection         | 3x25                \n",
      " annual_consume             | 4099.0              \n",
      " year                       | 2019                \n",
      "-RECORD 15----------------------------------------\n",
      " net_manager                | 8716874000009       \n",
      " purchase_area              | Stedin Utrecht      \n",
      " street                     | St. Annepad         \n",
      " zipcode_from               | 1231AV              \n",
      " zipcode_to                 | 1231AV              \n",
      " city                       | LOOSDRECHT          \n",
      " num_connections            | 20.0                \n",
      " delivery_perc              | 90.0                \n",
      " perc_of_active_connections | 100.0               \n",
      " type_conn_perc             | 50.0                \n",
      " type_of_connection         | 1x25                \n",
      " annual_consume             | 4115.0              \n",
      " year                       | 2019                \n",
      "-RECORD 16----------------------------------------\n",
      " net_manager                | 8716874000009       \n",
      " purchase_area              | Stedin Utrecht      \n",
      " street                     | Dennenlaan          \n",
      " zipcode_from               | 1231AW              \n",
      " zipcode_to                 | 1231AW              \n",
      " city                       | LOOSDRECHT          \n",
      " num_connections            | 15.0                \n",
      " delivery_perc              | 100.0               \n",
      " perc_of_active_connections | 100.0               \n",
      " type_conn_perc             | 73.0                \n",
      " type_of_connection         | 1x25                \n",
      " annual_consume             | 3478.0              \n",
      " year                       | 2019                \n",
      "-RECORD 17----------------------------------------\n",
      " net_manager                | 8716874000009       \n",
      " purchase_area              | Stedin Utrecht      \n",
      " street                     | Dennenlaan          \n",
      " zipcode_from               | 1231AX              \n",
      " zipcode_to                 | 1231AX              \n",
      " city                       | LOOSDRECHT          \n",
      " num_connections            | 14.0                \n",
      " delivery_perc              | 92.86               \n",
      " perc_of_active_connections | 100.0               \n",
      " type_conn_perc             | 50.0                \n",
      " type_of_connection         | 1x25                \n",
      " annual_consume             | 4334.0              \n",
      " year                       | 2019                \n",
      "-RECORD 18----------------------------------------\n",
      " net_manager                | 8716874000009       \n",
      " purchase_area              | Stedin Utrecht      \n",
      " street                     | Bloklaan            \n",
      " zipcode_from               | 1231AZ              \n",
      " zipcode_to                 | 1231AZ              \n",
      " city                       | LOOSDRECHT          \n",
      " num_connections            | 44.0                \n",
      " delivery_perc              | 100.0               \n",
      " perc_of_active_connections | 100.0               \n",
      " type_conn_perc             | 70.0                \n",
      " type_of_connection         | 3x25                \n",
      " annual_consume             | 3739.0              \n",
      " year                       | 2019                \n",
      "-RECORD 19----------------------------------------\n",
      " net_manager                | 8716874000009       \n",
      " purchase_area              | Stedin Utrecht      \n",
      " street                     | Frans Halslaan      \n",
      " zipcode_from               | 1231BA              \n",
      " zipcode_to                 | 1231BA              \n",
      " city                       | LOOSDRECHT          \n",
      " num_connections            | 20.0                \n",
      " delivery_perc              | 100.0               \n",
      " perc_of_active_connections | 100.0               \n",
      " type_conn_perc             | 35.0                \n",
      " type_of_connection         | 3x25                \n",
      " annual_consume             | 3865.0              \n",
      " year                       | 2019                \n",
      "only showing top 20 rows\n",
      "\n"
     ]
    }
   ],
   "source": [
    "df_electricity.show(vertical=True)"
   ]
  },
  {
   "cell_type": "code",
   "execution_count": 16,
   "metadata": {
    "ExecuteTime": {
     "end_time": "2021-11-29T11:09:31.348095Z",
     "start_time": "2021-11-29T11:09:28.560553Z"
    }
   },
   "outputs": [
    {
     "name": "stderr",
     "output_type": "stream",
     "text": [
      "                                                                                \r"
     ]
    },
    {
     "data": {
      "text/plain": [
       "4077352"
      ]
     },
     "execution_count": 16,
     "metadata": {},
     "output_type": "execute_result"
    }
   ],
   "source": [
    "df_electricity.count()"
   ]
  },
  {
   "cell_type": "code",
   "execution_count": 17,
   "metadata": {
    "ExecuteTime": {
     "end_time": "2021-11-29T11:09:31.355794Z",
     "start_time": "2021-11-29T11:09:31.349051Z"
    }
   },
   "outputs": [
    {
     "name": "stdout",
     "output_type": "stream",
     "text": [
      "root\n",
      " |-- net_manager: string (nullable = true)\n",
      " |-- purchase_area: string (nullable = true)\n",
      " |-- street: string (nullable = true)\n",
      " |-- zipcode_from: string (nullable = true)\n",
      " |-- zipcode_to: string (nullable = true)\n",
      " |-- city: string (nullable = true)\n",
      " |-- num_connections: double (nullable = true)\n",
      " |-- delivery_perc: string (nullable = true)\n",
      " |-- perc_of_active_connections: string (nullable = true)\n",
      " |-- type_conn_perc: string (nullable = true)\n",
      " |-- type_of_connection: string (nullable = true)\n",
      " |-- annual_consume: double (nullable = true)\n",
      " |-- year: integer (nullable = true)\n",
      "\n"
     ]
    }
   ],
   "source": [
    "df_electricity.printSchema()"
   ]
  },
  {
   "cell_type": "markdown",
   "metadata": {},
   "source": [
    "Ook bij het dataframe df_electricity is het schema nog niet correct toegepast. Niet alle kolommen hebben het juiste datatype. Ook hier casten we de kolommen 'delivery_perc', 'perc_of_active_connections' en 'type_conn_perc' naar het datatype dat we in het schema hebben vastgelegd, namelijk een Double. "
   ]
  },
  {
   "cell_type": "code",
   "execution_count": 18,
   "metadata": {
    "ExecuteTime": {
     "end_time": "2021-11-29T11:09:31.583537Z",
     "start_time": "2021-11-29T11:09:31.358231Z"
    }
   },
   "outputs": [],
   "source": [
    "df_electricity = df_electricity.withColumn('delivery_perc', df_electricity['delivery_perc'].cast(DoubleType()))\n",
    "df_electricity = df_electricity.withColumn('perc_of_active_connections', df_electricity['perc_of_active_connections'].cast(DoubleType()))\n",
    "df_electricity = df_electricity.withColumn('type_conn_perc', df_electricity['type_conn_perc'].cast(DoubleType()))"
   ]
  },
  {
   "cell_type": "code",
   "execution_count": 19,
   "metadata": {
    "ExecuteTime": {
     "end_time": "2021-11-29T11:09:31.587928Z",
     "start_time": "2021-11-29T11:09:31.584435Z"
    }
   },
   "outputs": [
    {
     "name": "stdout",
     "output_type": "stream",
     "text": [
      "root\n",
      " |-- net_manager: string (nullable = true)\n",
      " |-- purchase_area: string (nullable = true)\n",
      " |-- street: string (nullable = true)\n",
      " |-- zipcode_from: string (nullable = true)\n",
      " |-- zipcode_to: string (nullable = true)\n",
      " |-- city: string (nullable = true)\n",
      " |-- num_connections: double (nullable = true)\n",
      " |-- delivery_perc: double (nullable = true)\n",
      " |-- perc_of_active_connections: double (nullable = true)\n",
      " |-- type_conn_perc: double (nullable = true)\n",
      " |-- type_of_connection: string (nullable = true)\n",
      " |-- annual_consume: double (nullable = true)\n",
      " |-- year: integer (nullable = true)\n",
      "\n"
     ]
    }
   ],
   "source": [
    "df_electricity.printSchema()"
   ]
  },
  {
   "cell_type": "markdown",
   "metadata": {},
   "source": [
    "Het schema van de dataframe df_electricity komt nu overeen met het schema dat we hebben opgesteld. De data van het gas- en elektriciteitsverbruik is nu correct ingeladen. Nu kunnen we hier onder andere grafieken mee gaan plotten. "
   ]
  },
  {
   "cell_type": "code",
   "execution_count": 20,
   "metadata": {
    "ExecuteTime": {
     "end_time": "2021-11-29T11:09:31.590481Z",
     "start_time": "2021-11-29T11:09:31.588657Z"
    }
   },
   "outputs": [],
   "source": [
    "x_axis = [2009, 2010, 2011, 2012, 2013, 2014, 2015, 2016, 2017, 2018, 2019, 2020]\n",
    "y_axis = []\n",
    "\n",
    "# annual_consume_year = plt.figure(figsize=(7, 7))\n",
    "# ax = annual_consume_year.add_subplot(111)\n",
    "# ax.bar(x_axis, y_axis, fc='darksalmon', align='center')\n",
    "# plt.show()\n"
   ]
  },
  {
   "cell_type": "code",
   "execution_count": 36,
   "metadata": {
    "ExecuteTime": {
     "end_time": "2021-11-29T11:38:30.826199Z",
     "start_time": "2021-11-29T11:38:24.458860Z"
    }
   },
   "outputs": [
    {
     "name": "stderr",
     "output_type": "stream",
     "text": [
      "[Stage 313:====================================================>(156 + 1) / 157]\r"
     ]
    },
    {
     "name": "stdout",
     "output_type": "stream",
     "text": [
      "2533\n"
     ]
    },
    {
     "name": "stderr",
     "output_type": "stream",
     "text": [
      "\r",
      "                                                                                \r"
     ]
    }
   ],
   "source": [
    "print(df_electricity.select(approx_count_distinct(\"city\")).collect()[0][0])"
   ]
  },
  {
   "cell_type": "code",
   "execution_count": 39,
   "metadata": {
    "ExecuteTime": {
     "end_time": "2021-11-29T11:55:04.471456Z",
     "start_time": "2021-11-29T11:55:04.445701Z"
    }
   },
   "outputs": [
    {
     "data": {
      "text/html": [
       "<div style=\"width:100%;\"><div style=\"position:relative;width:100%;height:0;padding-bottom:60%;\"><span style=\"color:#565656\">Make this Notebook Trusted to load map: File -> Trust Notebook</span><iframe src=\"about:blank\" style=\"position:absolute;width:100%;height:100%;left:0;top:0;border:none !important;\" data-html=%3C%21DOCTYPE%20html%3E%0A%3Chead%3E%20%20%20%20%0A%20%20%20%20%3Cmeta%20http-equiv%3D%22content-type%22%20content%3D%22text/html%3B%20charset%3DUTF-8%22%20/%3E%0A%20%20%20%20%0A%20%20%20%20%20%20%20%20%3Cscript%3E%0A%20%20%20%20%20%20%20%20%20%20%20%20L_NO_TOUCH%20%3D%20false%3B%0A%20%20%20%20%20%20%20%20%20%20%20%20L_DISABLE_3D%20%3D%20false%3B%0A%20%20%20%20%20%20%20%20%3C/script%3E%0A%20%20%20%20%0A%20%20%20%20%3Cstyle%3Ehtml%2C%20body%20%7Bwidth%3A%20100%25%3Bheight%3A%20100%25%3Bmargin%3A%200%3Bpadding%3A%200%3B%7D%3C/style%3E%0A%20%20%20%20%3Cstyle%3E%23map%20%7Bposition%3Aabsolute%3Btop%3A0%3Bbottom%3A0%3Bright%3A0%3Bleft%3A0%3B%7D%3C/style%3E%0A%20%20%20%20%3Cscript%20src%3D%22https%3A//cdn.jsdelivr.net/npm/leaflet%401.6.0/dist/leaflet.js%22%3E%3C/script%3E%0A%20%20%20%20%3Cscript%20src%3D%22https%3A//code.jquery.com/jquery-1.12.4.min.js%22%3E%3C/script%3E%0A%20%20%20%20%3Cscript%20src%3D%22https%3A//maxcdn.bootstrapcdn.com/bootstrap/3.2.0/js/bootstrap.min.js%22%3E%3C/script%3E%0A%20%20%20%20%3Cscript%20src%3D%22https%3A//cdnjs.cloudflare.com/ajax/libs/Leaflet.awesome-markers/2.0.2/leaflet.awesome-markers.js%22%3E%3C/script%3E%0A%20%20%20%20%3Clink%20rel%3D%22stylesheet%22%20href%3D%22https%3A//cdn.jsdelivr.net/npm/leaflet%401.6.0/dist/leaflet.css%22/%3E%0A%20%20%20%20%3Clink%20rel%3D%22stylesheet%22%20href%3D%22https%3A//maxcdn.bootstrapcdn.com/bootstrap/3.2.0/css/bootstrap.min.css%22/%3E%0A%20%20%20%20%3Clink%20rel%3D%22stylesheet%22%20href%3D%22https%3A//maxcdn.bootstrapcdn.com/bootstrap/3.2.0/css/bootstrap-theme.min.css%22/%3E%0A%20%20%20%20%3Clink%20rel%3D%22stylesheet%22%20href%3D%22https%3A//maxcdn.bootstrapcdn.com/font-awesome/4.6.3/css/font-awesome.min.css%22/%3E%0A%20%20%20%20%3Clink%20rel%3D%22stylesheet%22%20href%3D%22https%3A//cdnjs.cloudflare.com/ajax/libs/Leaflet.awesome-markers/2.0.2/leaflet.awesome-markers.css%22/%3E%0A%20%20%20%20%3Clink%20rel%3D%22stylesheet%22%20href%3D%22https%3A//cdn.jsdelivr.net/gh/python-visualization/folium/folium/templates/leaflet.awesome.rotate.min.css%22/%3E%0A%20%20%20%20%0A%20%20%20%20%20%20%20%20%20%20%20%20%3Cmeta%20name%3D%22viewport%22%20content%3D%22width%3Ddevice-width%2C%0A%20%20%20%20%20%20%20%20%20%20%20%20%20%20%20%20initial-scale%3D1.0%2C%20maximum-scale%3D1.0%2C%20user-scalable%3Dno%22%20/%3E%0A%20%20%20%20%20%20%20%20%20%20%20%20%3Cstyle%3E%0A%20%20%20%20%20%20%20%20%20%20%20%20%20%20%20%20%23map_eb4c95c2c0994b13abc0a4052ad70e17%20%7B%0A%20%20%20%20%20%20%20%20%20%20%20%20%20%20%20%20%20%20%20%20position%3A%20relative%3B%0A%20%20%20%20%20%20%20%20%20%20%20%20%20%20%20%20%20%20%20%20width%3A%20100.0%25%3B%0A%20%20%20%20%20%20%20%20%20%20%20%20%20%20%20%20%20%20%20%20height%3A%20100.0%25%3B%0A%20%20%20%20%20%20%20%20%20%20%20%20%20%20%20%20%20%20%20%20left%3A%200.0%25%3B%0A%20%20%20%20%20%20%20%20%20%20%20%20%20%20%20%20%20%20%20%20top%3A%200.0%25%3B%0A%20%20%20%20%20%20%20%20%20%20%20%20%20%20%20%20%7D%0A%20%20%20%20%20%20%20%20%20%20%20%20%3C/style%3E%0A%20%20%20%20%20%20%20%20%0A%3C/head%3E%0A%3Cbody%3E%20%20%20%20%0A%20%20%20%20%0A%20%20%20%20%20%20%20%20%20%20%20%20%3Cdiv%20class%3D%22folium-map%22%20id%3D%22map_eb4c95c2c0994b13abc0a4052ad70e17%22%20%3E%3C/div%3E%0A%20%20%20%20%20%20%20%20%0A%3C/body%3E%0A%3Cscript%3E%20%20%20%20%0A%20%20%20%20%0A%20%20%20%20%20%20%20%20%20%20%20%20var%20map_eb4c95c2c0994b13abc0a4052ad70e17%20%3D%20L.map%28%0A%20%20%20%20%20%20%20%20%20%20%20%20%20%20%20%20%22map_eb4c95c2c0994b13abc0a4052ad70e17%22%2C%0A%20%20%20%20%20%20%20%20%20%20%20%20%20%20%20%20%7B%0A%20%20%20%20%20%20%20%20%20%20%20%20%20%20%20%20%20%20%20%20center%3A%20%5B52.1326%2C%205.29131%5D%2C%0A%20%20%20%20%20%20%20%20%20%20%20%20%20%20%20%20%20%20%20%20crs%3A%20L.CRS.EPSG3857%2C%0A%20%20%20%20%20%20%20%20%20%20%20%20%20%20%20%20%20%20%20%20zoom%3A%206%2C%0A%20%20%20%20%20%20%20%20%20%20%20%20%20%20%20%20%20%20%20%20zoomControl%3A%20true%2C%0A%20%20%20%20%20%20%20%20%20%20%20%20%20%20%20%20%20%20%20%20preferCanvas%3A%20false%2C%0A%20%20%20%20%20%20%20%20%20%20%20%20%20%20%20%20%7D%0A%20%20%20%20%20%20%20%20%20%20%20%20%29%3B%0A%0A%20%20%20%20%20%20%20%20%20%20%20%20%0A%0A%20%20%20%20%20%20%20%20%0A%20%20%20%20%0A%20%20%20%20%20%20%20%20%20%20%20%20var%20tile_layer_719587a8e4b04a45998279c30d99685a%20%3D%20L.tileLayer%28%0A%20%20%20%20%20%20%20%20%20%20%20%20%20%20%20%20%22https%3A//%7Bs%7D.tile.openstreetmap.org/%7Bz%7D/%7Bx%7D/%7By%7D.png%22%2C%0A%20%20%20%20%20%20%20%20%20%20%20%20%20%20%20%20%7B%22attribution%22%3A%20%22Data%20by%20%5Cu0026copy%3B%20%5Cu003ca%20href%3D%5C%22http%3A//openstreetmap.org%5C%22%5Cu003eOpenStreetMap%5Cu003c/a%5Cu003e%2C%20under%20%5Cu003ca%20href%3D%5C%22http%3A//www.openstreetmap.org/copyright%5C%22%5Cu003eODbL%5Cu003c/a%5Cu003e.%22%2C%20%22detectRetina%22%3A%20false%2C%20%22maxNativeZoom%22%3A%2018%2C%20%22maxZoom%22%3A%2018%2C%20%22minZoom%22%3A%200%2C%20%22noWrap%22%3A%20false%2C%20%22opacity%22%3A%201%2C%20%22subdomains%22%3A%20%22abc%22%2C%20%22tms%22%3A%20false%7D%0A%20%20%20%20%20%20%20%20%20%20%20%20%29.addTo%28map_eb4c95c2c0994b13abc0a4052ad70e17%29%3B%0A%20%20%20%20%20%20%20%20%0A%20%20%20%20%0A%20%20%20%20%20%20%20%20%20%20%20%20var%20feature_group_0868cb0ca4ee4fc8a307474d989c4b08%20%3D%20L.featureGroup%28%0A%20%20%20%20%20%20%20%20%20%20%20%20%20%20%20%20%7B%7D%0A%20%20%20%20%20%20%20%20%20%20%20%20%29.addTo%28map_eb4c95c2c0994b13abc0a4052ad70e17%29%3B%0A%20%20%20%20%20%20%20%20%0A%20%20%20%20%0A%20%20%20%20%20%20%20%20%20%20%20%20var%20marker_e9751295c9234fe19266e398401f8097%20%3D%20L.marker%28%0A%20%20%20%20%20%20%20%20%20%20%20%20%20%20%20%20%5B52.3702%2C%204.8952%5D%2C%0A%20%20%20%20%20%20%20%20%20%20%20%20%20%20%20%20%7B%7D%0A%20%20%20%20%20%20%20%20%20%20%20%20%29.addTo%28feature_group_0868cb0ca4ee4fc8a307474d989c4b08%29%3B%0A%20%20%20%20%20%20%20%20%0A%20%20%20%20%0A%20%20%20%20%20%20%20%20%20%20%20%20var%20icon_ed088e5a69884e63bca155dfa8a0beff%20%3D%20L.AwesomeMarkers.icon%28%0A%20%20%20%20%20%20%20%20%20%20%20%20%20%20%20%20%7B%22extraClasses%22%3A%20%22fa-rotate-0%22%2C%20%22icon%22%3A%20%22info-sign%22%2C%20%22iconColor%22%3A%20%22white%22%2C%20%22markerColor%22%3A%20%22orange%22%2C%20%22prefix%22%3A%20%22glyphicon%22%7D%0A%20%20%20%20%20%20%20%20%20%20%20%20%29%3B%0A%20%20%20%20%20%20%20%20%20%20%20%20marker_e9751295c9234fe19266e398401f8097.setIcon%28icon_ed088e5a69884e63bca155dfa8a0beff%29%3B%0A%20%20%20%20%20%20%20%20%0A%20%20%20%20%0A%20%20%20%20%20%20%20%20var%20popup_8c16d799853642388508efcecdc6d937%20%3D%20L.popup%28%7B%22maxWidth%22%3A%20%22100%25%22%7D%29%3B%0A%0A%20%20%20%20%20%20%20%20%0A%20%20%20%20%20%20%20%20%20%20%20%20var%20html_388a29d461f84efea5567767e4d4706f%20%3D%20%24%28%60%3Cdiv%20id%3D%22html_388a29d461f84efea5567767e4d4706f%22%20style%3D%22width%3A%20100.0%25%3B%20height%3A%20100.0%25%3B%22%3EHello%20This%20is%20Amsterdam%21%3C/div%3E%60%29%5B0%5D%3B%0A%20%20%20%20%20%20%20%20%20%20%20%20popup_8c16d799853642388508efcecdc6d937.setContent%28html_388a29d461f84efea5567767e4d4706f%29%3B%0A%20%20%20%20%20%20%20%20%0A%0A%20%20%20%20%20%20%20%20marker_e9751295c9234fe19266e398401f8097.bindPopup%28popup_8c16d799853642388508efcecdc6d937%29%0A%20%20%20%20%20%20%20%20%3B%0A%0A%20%20%20%20%20%20%20%20%0A%20%20%20%20%0A%20%20%20%20%0A%20%20%20%20%20%20%20%20%20%20%20%20var%20marker_830a2b28320b49f3833d39e301e0922e%20%3D%20L.marker%28%0A%20%20%20%20%20%20%20%20%20%20%20%20%20%20%20%20%5B50.8514%2C%205.691%5D%2C%0A%20%20%20%20%20%20%20%20%20%20%20%20%20%20%20%20%7B%7D%0A%20%20%20%20%20%20%20%20%20%20%20%20%29.addTo%28feature_group_0868cb0ca4ee4fc8a307474d989c4b08%29%3B%0A%20%20%20%20%20%20%20%20%0A%20%20%20%20%0A%20%20%20%20%20%20%20%20%20%20%20%20var%20icon_734fd62419734e2290c4690e7a74681d%20%3D%20L.AwesomeMarkers.icon%28%0A%20%20%20%20%20%20%20%20%20%20%20%20%20%20%20%20%7B%22extraClasses%22%3A%20%22fa-rotate-0%22%2C%20%22icon%22%3A%20%22info-sign%22%2C%20%22iconColor%22%3A%20%22white%22%2C%20%22markerColor%22%3A%20%22green%22%2C%20%22prefix%22%3A%20%22glyphicon%22%7D%0A%20%20%20%20%20%20%20%20%20%20%20%20%29%3B%0A%20%20%20%20%20%20%20%20%20%20%20%20marker_830a2b28320b49f3833d39e301e0922e.setIcon%28icon_734fd62419734e2290c4690e7a74681d%29%3B%0A%20%20%20%20%20%20%20%20%0A%20%20%20%20%0A%20%20%20%20%20%20%20%20var%20popup_d270c71118f1448fa15924c5c2082f14%20%3D%20L.popup%28%7B%22maxWidth%22%3A%20%22100%25%22%7D%29%3B%0A%0A%20%20%20%20%20%20%20%20%0A%20%20%20%20%20%20%20%20%20%20%20%20var%20html_619c7190f2e9450faf24ca43fa2b88b4%20%3D%20%24%28%60%3Cdiv%20id%3D%22html_619c7190f2e9450faf24ca43fa2b88b4%22%20style%3D%22width%3A%20100.0%25%3B%20height%3A%20100.0%25%3B%22%3EHello%20This%20is%20Maastricht%21%3C/div%3E%60%29%5B0%5D%3B%0A%20%20%20%20%20%20%20%20%20%20%20%20popup_d270c71118f1448fa15924c5c2082f14.setContent%28html_619c7190f2e9450faf24ca43fa2b88b4%29%3B%0A%20%20%20%20%20%20%20%20%0A%0A%20%20%20%20%20%20%20%20marker_830a2b28320b49f3833d39e301e0922e.bindPopup%28popup_d270c71118f1448fa15924c5c2082f14%29%0A%20%20%20%20%20%20%20%20%3B%0A%0A%20%20%20%20%20%20%20%20%0A%20%20%20%20%0A%3C/script%3E onload=\"this.contentDocument.open();this.contentDocument.write(    decodeURIComponent(this.getAttribute('data-html')));this.contentDocument.close();\" allowfullscreen webkitallowfullscreen mozallowfullscreen></iframe></div></div>"
      ],
      "text/plain": [
       "<folium.folium.Map at 0x14c02aa30>"
      ]
     },
     "execution_count": 39,
     "metadata": {},
     "output_type": "execute_result"
    }
   ],
   "source": [
    "import folium\n",
    "map = folium.Map(location=[52.1326, 5.29131], zoom_start=6)\n",
    "\n",
    "fg = folium.FeatureGroup(name=\"NL Map\")\n",
    "fg.add_child(folium.Marker(location=[52.3702, 4.8952], popup=\"Hello This is Amsterdam!\", icon=folium.Icon(color='orange')))\n",
    "fg.add_child(folium.Marker(location=[50.8514, 5.6910], popup=\"Hello This is Maastricht!\", icon=folium.Icon(color='green')))\n",
    "\n",
    "map.add_child(fg)"
   ]
  },
  {
   "cell_type": "markdown",
   "metadata": {},
   "source": [
    "## Data over elektriciteitproductie in Nederland. (Elektriciteit__aanbod_en_verbruik_12102021_102309.csv\n",
    "\n",
    "We hebben eerst meteen een dataframe gemaakt van het csv-bestand door de optie \"header\" \"true\" en de optie \"inferSchema\" \"true\". Zo wordt het schema van de dataframe zelf bepaalt bij het inlezen. \n",
    "\n",
    "Daarna hebben we ook eerst een rdd gemaakt van het csv-bestand om vervolgens zelf het schema te bepalen en toe te passen om zo een dataframe te krijgen.\n",
    "\n",
    "We hebben beide eens toegepast om goed het verschil tussen een rdd en dataframe te begrijpen. "
   ]
  },
  {
   "cell_type": "code",
   "execution_count": 21,
   "metadata": {
    "ExecuteTime": {
     "end_time": "2021-11-29T11:09:32.264089Z",
     "start_time": "2021-11-29T11:09:31.591293Z"
    }
   },
   "outputs": [
    {
     "name": "stdout",
     "output_type": "stream",
     "text": [
      "-RECORD 0---------------------------------------------------------------------------------\n",
      " Perioden                                                                        | 2013   \n",
      " Bruto productie (mln kWh)                                                       | 100875 \n",
      " Eigen verbruik bij elektr.productie (mln kWh)                                   | 3505   \n",
      " Netto productie/Netto productie, totaal (mln kWh)                               | 97370  \n",
      " Netto productie/Kernenergie (mln kWh)                                           | null   \n",
      " Netto productie/Brandstoffen/Brandstoffen, totaal (mln kWh)                     | null   \n",
      " Netto productie/Brandstoffen/Kolen (mln kWh)                                    | null   \n",
      " Netto productie/Brandstoffen/Olieproducten (mln kWh)                            | null   \n",
      " Netto productie/Brandstoffen/Aardgas (mln kWh)                                  | null   \n",
      " Netto productie/Brandstoffen/Biomassa (mln kWh)                                 | 5277   \n",
      " Netto productie/Brandstoffen/Overige brandstoffen (niet-hernieuwbaar) (mln kWh) | null   \n",
      " Netto productie/Waterkracht (mln kWh)                                           | 114    \n",
      " Netto productie/Windenergie/Windenergie, totaal (mln kWh)                       | 5627   \n",
      " Netto productie/Windenergie/Windenergie op land (mln kWh)                       | 4856   \n",
      " Netto productie/Windenergie/Windenergie op zee (mln kWh)                        | 771    \n",
      " Netto productie/Zonnestroom (mln kWh)                                           | 410    \n",
      " Netto productie/Overige bronnen (mln kWh)                                       | null   \n",
      " Invoer/Invoer, totaal (mln kWh)                                                 | 33252  \n",
      " Invoer/België (mln kWh)                                                         | 4387   \n",
      " Invoer/Denemarken (mln kWh)                                                     | null   \n",
      " Invoer/Duitsland (mln kWh)                                                      | 24551  \n",
      " Invoer/Verenigd Koninkrijk (mln kWh)                                            | 142    \n",
      " Invoer/Noorwegen (mln kWh)                                                      | 4172   \n",
      " Uitvoer/Uitvoer, totaal (mln kWh)                                               | 15015  \n",
      " Uitvoer/België (mln kWh)                                                        | 7771   \n",
      " Uitvoer/Denemarken (mln kWh)                                                    | null   \n",
      " Uitvoer/Duitsland (mln kWh)                                                     | 340    \n",
      " Uitvoer/Verenigd Koninkrijk (mln kWh)                                           | 6656   \n",
      " Uitvoer/Noorwegen (mln kWh)                                                     | 249    \n",
      " Distributieverliezen (mln kWh)                                                  | 4508   \n",
      " Netto verbruik (berekend) (mln kWh)                                             | 111099 \n",
      "-RECORD 1---------------------------------------------------------------------------------\n",
      " Perioden                                                                        | 2014   \n",
      " Bruto productie (mln kWh)                                                       | 103365 \n",
      " Eigen verbruik bij elektr.productie (mln kWh)                                   | 4055   \n",
      " Netto productie/Netto productie, totaal (mln kWh)                               | 99310  \n",
      " Netto productie/Kernenergie (mln kWh)                                           | null   \n",
      " Netto productie/Brandstoffen/Brandstoffen, totaal (mln kWh)                     | null   \n",
      " Netto productie/Brandstoffen/Kolen (mln kWh)                                    | null   \n",
      " Netto productie/Brandstoffen/Olieproducten (mln kWh)                            | null   \n",
      " Netto productie/Brandstoffen/Aardgas (mln kWh)                                  | null   \n",
      " Netto productie/Brandstoffen/Biomassa (mln kWh)                                 | 4345   \n",
      " Netto productie/Brandstoffen/Overige brandstoffen (niet-hernieuwbaar) (mln kWh) | null   \n",
      " Netto productie/Waterkracht (mln kWh)                                           | 112    \n",
      " Netto productie/Windenergie/Windenergie, totaal (mln kWh)                       | 5797   \n",
      " Netto productie/Windenergie/Windenergie op land (mln kWh)                       | 5049   \n",
      " Netto productie/Windenergie/Windenergie op zee (mln kWh)                        | 748    \n",
      " Netto productie/Zonnestroom (mln kWh)                                           | 725    \n",
      " Netto productie/Overige bronnen (mln kWh)                                       | null   \n",
      " Invoer/Invoer, totaal (mln kWh)                                                 | 32854  \n",
      " Invoer/België (mln kWh)                                                         | 3041   \n",
      " Invoer/Denemarken (mln kWh)                                                     | null   \n",
      " Invoer/Duitsland (mln kWh)                                                      | 24340  \n",
      " Invoer/Verenigd Koninkrijk (mln kWh)                                            | 11     \n",
      " Invoer/Noorwegen (mln kWh)                                                      | 5463   \n",
      " Uitvoer/Uitvoer, totaal (mln kWh)                                               | 18128  \n",
      " Uitvoer/België (mln kWh)                                                        | 9583   \n",
      " Uitvoer/Denemarken (mln kWh)                                                    | null   \n",
      " Uitvoer/Duitsland (mln kWh)                                                     | 348    \n",
      " Uitvoer/Verenigd Koninkrijk (mln kWh)                                           | 8090   \n",
      " Uitvoer/Noorwegen (mln kWh)                                                     | 107    \n",
      " Distributieverliezen (mln kWh)                                                  | 4933   \n",
      " Netto verbruik (berekend) (mln kWh)                                             | 109103 \n",
      "-RECORD 2---------------------------------------------------------------------------------\n",
      " Perioden                                                                        | 2015   \n",
      " Bruto productie (mln kWh)                                                       | 110388 \n",
      " Eigen verbruik bij elektr.productie (mln kWh)                                   | 4487   \n",
      " Netto productie/Netto productie, totaal (mln kWh)                               | 105902 \n",
      " Netto productie/Kernenergie (mln kWh)                                           | 3862   \n",
      " Netto productie/Brandstoffen/Brandstoffen, totaal (mln kWh)                     | 91907  \n",
      " Netto productie/Brandstoffen/Kolen (mln kWh)                                    | 40150  \n",
      " Netto productie/Brandstoffen/Olieproducten (mln kWh)                            | 1297   \n",
      " Netto productie/Brandstoffen/Aardgas (mln kWh)                                  | 44762  \n",
      " Netto productie/Brandstoffen/Biomassa (mln kWh)                                 | 4302   \n",
      " Netto productie/Brandstoffen/Overige brandstoffen (niet-hernieuwbaar) (mln kWh) | 1396   \n",
      " Netto productie/Waterkracht (mln kWh)                                           | 93     \n",
      " Netto productie/Windenergie/Windenergie, totaal (mln kWh)                       | 7550   \n",
      " Netto productie/Windenergie/Windenergie op land (mln kWh)                       | 6420   \n",
      " Netto productie/Windenergie/Windenergie op zee (mln kWh)                        | 1130   \n",
      " Netto productie/Zonnestroom (mln kWh)                                           | 1109   \n",
      " Netto productie/Overige bronnen (mln kWh)                                       | 1382   \n",
      " Invoer/Invoer, totaal (mln kWh)                                                 | 30760  \n",
      " Invoer/België (mln kWh)                                                         | 1023   \n",
      " Invoer/Denemarken (mln kWh)                                                     | null   \n",
      " Invoer/Duitsland (mln kWh)                                                      | 23961  \n",
      " Invoer/Verenigd Koninkrijk (mln kWh)                                            | 8      \n",
      " Invoer/Noorwegen (mln kWh)                                                      | 5768   \n",
      " Uitvoer/Uitvoer, totaal (mln kWh)                                               | 22012  \n",
      " Uitvoer/België (mln kWh)                                                        | 13428  \n",
      " Uitvoer/Denemarken (mln kWh)                                                    | null   \n",
      " Uitvoer/Duitsland (mln kWh)                                                     | 339    \n",
      " Uitvoer/Verenigd Koninkrijk (mln kWh)                                           | 8233   \n",
      " Uitvoer/Noorwegen (mln kWh)                                                     | 12     \n",
      " Distributieverliezen (mln kWh)                                                  | 5264   \n",
      " Netto verbruik (berekend) (mln kWh)                                             | 109386 \n",
      "-RECORD 3---------------------------------------------------------------------------------\n",
      " Perioden                                                                        | 2016   \n",
      " Bruto productie (mln kWh)                                                       | 115213 \n",
      " Eigen verbruik bij elektr.productie (mln kWh)                                   | 4181   \n",
      " Netto productie/Netto productie, totaal (mln kWh)                               | 111032 \n",
      " Netto productie/Kernenergie (mln kWh)                                           | 3750   \n",
      " Netto productie/Brandstoffen/Brandstoffen, totaal (mln kWh)                     | 96122  \n",
      " Netto productie/Brandstoffen/Kolen (mln kWh)                                    | 37659  \n",
      " Netto productie/Brandstoffen/Olieproducten (mln kWh)                            | 1241   \n",
      " Netto productie/Brandstoffen/Aardgas (mln kWh)                                  | 51491  \n",
      " Netto productie/Brandstoffen/Biomassa (mln kWh)                                 | 4248   \n",
      " Netto productie/Brandstoffen/Overige brandstoffen (niet-hernieuwbaar) (mln kWh) | 1484   \n",
      " Netto productie/Waterkracht (mln kWh)                                           | 100    \n",
      " Netto productie/Windenergie/Windenergie, totaal (mln kWh)                       | 8170   \n",
      " Netto productie/Windenergie/Windenergie op land (mln kWh)                       | 5901   \n",
      " Netto productie/Windenergie/Windenergie op zee (mln kWh)                        | 2269   \n",
      " Netto productie/Zonnestroom (mln kWh)                                           | 1602   \n",
      " Netto productie/Overige bronnen (mln kWh)                                       | 1288   \n",
      " Invoer/Invoer, totaal (mln kWh)                                                 | 24258  \n",
      " Invoer/België (mln kWh)                                                         | 3029   \n",
      " Invoer/Denemarken (mln kWh)                                                     | null   \n",
      " Invoer/Duitsland (mln kWh)                                                      | 16892  \n",
      " Invoer/Verenigd Koninkrijk (mln kWh)                                            | 140    \n",
      " Invoer/Noorwegen (mln kWh)                                                      | 4197   \n",
      " Uitvoer/Uitvoer, totaal (mln kWh)                                               | 19343  \n",
      " Uitvoer/België (mln kWh)                                                        | 9965   \n",
      " Uitvoer/Denemarken (mln kWh)                                                    | null   \n",
      " Uitvoer/Duitsland (mln kWh)                                                     | 1337   \n",
      " Uitvoer/Verenigd Koninkrijk (mln kWh)                                           | 7761   \n",
      " Uitvoer/Noorwegen (mln kWh)                                                     | 281    \n",
      " Distributieverliezen (mln kWh)                                                  | 5434   \n",
      " Netto verbruik (berekend) (mln kWh)                                             | 110513 \n",
      "-RECORD 4---------------------------------------------------------------------------------\n",
      " Perioden                                                                        | 2017   \n",
      " Bruto productie (mln kWh)                                                       | 117260 \n",
      " Eigen verbruik bij elektr.productie (mln kWh)                                   | 3795   \n",
      " Netto productie/Netto productie, totaal (mln kWh)                               | 113465 \n",
      " Netto productie/Kernenergie (mln kWh)                                           | 3278   \n",
      " Netto productie/Brandstoffen/Brandstoffen, totaal (mln kWh)                     | 95895  \n",
      " Netto productie/Brandstoffen/Kolen (mln kWh)                                    | 32616  \n",
      " Netto productie/Brandstoffen/Olieproducten (mln kWh)                            | 1154   \n",
      " Netto productie/Brandstoffen/Aardgas (mln kWh)                                  | 56755  \n",
      " Netto productie/Brandstoffen/Biomassa (mln kWh)                                 | 3926   \n",
      " Netto productie/Brandstoffen/Overige brandstoffen (niet-hernieuwbaar) (mln kWh) | 1443   \n",
      " Netto productie/Waterkracht (mln kWh)                                           | 61     \n",
      " Netto productie/Windenergie/Windenergie, totaal (mln kWh)                       | 10569  \n",
      " Netto productie/Windenergie/Windenergie op land (mln kWh)                       | 6869   \n",
      " Netto productie/Windenergie/Windenergie op zee (mln kWh)                        | 3700   \n",
      " Netto productie/Zonnestroom (mln kWh)                                           | 2204   \n",
      " Netto productie/Overige bronnen (mln kWh)                                       | 1459   \n",
      " Invoer/Invoer, totaal (mln kWh)                                                 | 22458  \n",
      " Invoer/België (mln kWh)                                                         | 2170   \n",
      " Invoer/Denemarken (mln kWh)                                                     | null   \n",
      " Invoer/Duitsland (mln kWh)                                                      | 15116  \n",
      " Invoer/Verenigd Koninkrijk (mln kWh)                                            | 191    \n",
      " Invoer/Noorwegen (mln kWh)                                                      | 4981   \n",
      " Uitvoer/Uitvoer, totaal (mln kWh)                                               | 18952  \n",
      " Uitvoer/België (mln kWh)                                                        | 10251  \n",
      " Uitvoer/Denemarken (mln kWh)                                                    | null   \n",
      " Uitvoer/Duitsland (mln kWh)                                                     | 1362   \n",
      " Uitvoer/Verenigd Koninkrijk (mln kWh)                                           | 7224   \n",
      " Uitvoer/Noorwegen (mln kWh)                                                     | 114    \n",
      " Distributieverliezen (mln kWh)                                                  | 5414   \n",
      " Netto verbruik (berekend) (mln kWh)                                             | 111557 \n",
      "-RECORD 5---------------------------------------------------------------------------------\n",
      " Perioden                                                                        | 2018   \n",
      " Bruto productie (mln kWh)                                                       | 114103 \n",
      " Eigen verbruik bij elektr.productie (mln kWh)                                   | 3411   \n",
      " Netto productie/Netto productie, totaal (mln kWh)                               | 110692 \n",
      " Netto productie/Kernenergie (mln kWh)                                           | 3395   \n",
      " Netto productie/Brandstoffen/Brandstoffen, totaal (mln kWh)                     | 92429  \n",
      " Netto productie/Brandstoffen/Kolen (mln kWh)                                    | 29214  \n",
      " Netto productie/Brandstoffen/Olieproducten (mln kWh)                            | 1267   \n",
      " Netto productie/Brandstoffen/Aardgas (mln kWh)                                  | 56258  \n",
      " Netto productie/Brandstoffen/Biomassa (mln kWh)                                 | 3922   \n",
      " Netto productie/Brandstoffen/Overige brandstoffen (niet-hernieuwbaar) (mln kWh) | 1767   \n",
      " Netto productie/Waterkracht (mln kWh)                                           | 72     \n",
      " Netto productie/Windenergie/Windenergie, totaal (mln kWh)                       | 10549  \n",
      " Netto productie/Windenergie/Windenergie op land (mln kWh)                       | 6918   \n",
      " Netto productie/Windenergie/Windenergie op zee (mln kWh)                        | 3630   \n",
      " Netto productie/Zonnestroom (mln kWh)                                           | 3709   \n",
      " Netto productie/Overige bronnen (mln kWh)                                       | 538    \n",
      " Invoer/Invoer, totaal (mln kWh)                                                 | 26755  \n",
      " Invoer/België (mln kWh)                                                         | 1776   \n",
      " Invoer/Denemarken (mln kWh)                                                     | null   \n",
      " Invoer/Duitsland (mln kWh)                                                      | 20914  \n",
      " Invoer/Verenigd Koninkrijk (mln kWh)                                            | 188    \n",
      " Invoer/Noorwegen (mln kWh)                                                      | 3877   \n",
      " Uitvoer/Uitvoer, totaal (mln kWh)                                               | 18785  \n",
      " Uitvoer/België (mln kWh)                                                        | 10784  \n",
      " Uitvoer/Denemarken (mln kWh)                                                    | null   \n",
      " Uitvoer/Duitsland (mln kWh)                                                     | 735    \n",
      " Uitvoer/Verenigd Koninkrijk (mln kWh)                                           | 6932   \n",
      " Uitvoer/Noorwegen (mln kWh)                                                     | 334    \n",
      " Distributieverliezen (mln kWh)                                                  | 5334   \n",
      " Netto verbruik (berekend) (mln kWh)                                             | 113328 \n",
      "-RECORD 6---------------------------------------------------------------------------------\n",
      " Perioden                                                                        | 2019** \n",
      " Bruto productie (mln kWh)                                                       | 121062 \n",
      " Eigen verbruik bij elektr.productie (mln kWh)                                   | 3490   \n",
      " Netto productie/Netto productie, totaal (mln kWh)                               | 117572 \n",
      " Netto productie/Kernenergie (mln kWh)                                           | 3700   \n",
      " Netto productie/Brandstoffen/Brandstoffen, totaal (mln kWh)                     | 96460  \n",
      " Netto productie/Brandstoffen/Kolen (mln kWh)                                    | 19266  \n",
      " Netto productie/Brandstoffen/Olieproducten (mln kWh)                            | 1385   \n",
      " Netto productie/Brandstoffen/Aardgas (mln kWh)                                  | 69172  \n",
      " Netto productie/Brandstoffen/Biomassa (mln kWh)                                 | 5060   \n",
      " Netto productie/Brandstoffen/Overige brandstoffen (niet-hernieuwbaar) (mln kWh) | 1577   \n",
      " Netto productie/Waterkracht (mln kWh)                                           | 74     \n",
      " Netto productie/Windenergie/Windenergie, totaal (mln kWh)                       | 11508  \n",
      " Netto productie/Windenergie/Windenergie op land (mln kWh)                       | 7935   \n",
      " Netto productie/Windenergie/Windenergie op zee (mln kWh)                        | 3573   \n",
      " Netto productie/Zonnestroom (mln kWh)                                           | 5336   \n",
      " Netto productie/Overige bronnen (mln kWh)                                       | 493    \n",
      " Invoer/Invoer, totaal (mln kWh)                                                 | 20403  \n",
      " Invoer/België (mln kWh)                                                         | 4528   \n",
      " Invoer/Denemarken (mln kWh)                                                     | 619    \n",
      " Invoer/Duitsland (mln kWh)                                                      | 12238  \n",
      " Invoer/Verenigd Koninkrijk (mln kWh)                                            | 385    \n",
      " Invoer/Noorwegen (mln kWh)                                                      | 2634   \n",
      " Uitvoer/Uitvoer, totaal (mln kWh)                                               | 19548  \n",
      " Uitvoer/België (mln kWh)                                                        | 6991   \n",
      " Uitvoer/Denemarken (mln kWh)                                                    | 671    \n",
      " Uitvoer/Duitsland (mln kWh)                                                     | 4398   \n",
      " Uitvoer/Verenigd Koninkrijk (mln kWh)                                           | 6148   \n",
      " Uitvoer/Noorwegen (mln kWh)                                                     | 1340   \n",
      " Distributieverliezen (mln kWh)                                                  | 5059   \n",
      " Netto verbruik (berekend) (mln kWh)                                             | 113368 \n",
      "-RECORD 7---------------------------------------------------------------------------------\n",
      " Perioden                                                                        | 2020** \n",
      " Bruto productie (mln kWh)                                                       | 122642 \n",
      " Eigen verbruik bij elektr.productie (mln kWh)                                   | 3405   \n",
      " Netto productie/Netto productie, totaal (mln kWh)                               | 119238 \n",
      " Netto productie/Kernenergie (mln kWh)                                           | 3865   \n",
      " Netto productie/Brandstoffen/Brandstoffen, totaal (mln kWh)                     | 91383  \n",
      " Netto productie/Brandstoffen/Kolen (mln kWh)                                    | 9555   \n",
      " Netto productie/Brandstoffen/Olieproducten (mln kWh)                            | 1321   \n",
      " Netto productie/Brandstoffen/Aardgas (mln kWh)                                  | 71023  \n",
      " Netto productie/Brandstoffen/Biomassa (mln kWh)                                 | 7835   \n",
      " Netto productie/Brandstoffen/Overige brandstoffen (niet-hernieuwbaar) (mln kWh) | 1649   \n",
      " Netto productie/Waterkracht (mln kWh)                                           | 46     \n",
      " Netto productie/Windenergie/Windenergie, totaal (mln kWh)                       | 15339  \n",
      " Netto productie/Windenergie/Windenergie op land (mln kWh)                       | 9856   \n",
      " Netto productie/Windenergie/Windenergie op zee (mln kWh)                        | 5484   \n",
      " Netto productie/Zonnestroom (mln kWh)                                           | 8144   \n",
      " Netto productie/Overige bronnen (mln kWh)                                       | 461    \n",
      " Invoer/Invoer, totaal (mln kWh)                                                 | 19773  \n",
      " Invoer/België (mln kWh)                                                         | 3782   \n",
      " Invoer/Denemarken (mln kWh)                                                     | 2082   \n",
      " Invoer/Duitsland (mln kWh)                                                      | 8748   \n",
      " Invoer/Verenigd Koninkrijk (mln kWh)                                            | 541    \n",
      " Invoer/Noorwegen (mln kWh)                                                      | 4621   \n",
      " Uitvoer/Uitvoer, totaal (mln kWh)                                               | 22433  \n",
      " Uitvoer/België (mln kWh)                                                        | 7806   \n",
      " Uitvoer/Denemarken (mln kWh)                                                    | 1053   \n",
      " Uitvoer/Duitsland (mln kWh)                                                     | 8677   \n",
      " Uitvoer/Verenigd Koninkrijk (mln kWh)                                           | 4787   \n",
      " Uitvoer/Noorwegen (mln kWh)                                                     | 110    \n",
      " Distributieverliezen (mln kWh)                                                  | 5059   \n",
      " Netto verbruik (berekend) (mln kWh)                                             | 111520 \n",
      "\n",
      "root\n",
      " |-- Perioden: string (nullable = true)\n",
      " |-- Bruto productie (mln kWh): integer (nullable = true)\n",
      " |-- Eigen verbruik bij elektr.productie (mln kWh): integer (nullable = true)\n",
      " |-- Netto productie/Netto productie, totaal (mln kWh): integer (nullable = true)\n",
      " |-- Netto productie/Kernenergie (mln kWh): integer (nullable = true)\n",
      " |-- Netto productie/Brandstoffen/Brandstoffen, totaal (mln kWh): integer (nullable = true)\n",
      " |-- Netto productie/Brandstoffen/Kolen (mln kWh): integer (nullable = true)\n",
      " |-- Netto productie/Brandstoffen/Olieproducten (mln kWh): integer (nullable = true)\n",
      " |-- Netto productie/Brandstoffen/Aardgas (mln kWh): integer (nullable = true)\n",
      " |-- Netto productie/Brandstoffen/Biomassa (mln kWh): integer (nullable = true)\n",
      " |-- Netto productie/Brandstoffen/Overige brandstoffen (niet-hernieuwbaar) (mln kWh): integer (nullable = true)\n",
      " |-- Netto productie/Waterkracht (mln kWh): integer (nullable = true)\n",
      " |-- Netto productie/Windenergie/Windenergie, totaal (mln kWh): integer (nullable = true)\n",
      " |-- Netto productie/Windenergie/Windenergie op land (mln kWh): integer (nullable = true)\n",
      " |-- Netto productie/Windenergie/Windenergie op zee (mln kWh): integer (nullable = true)\n",
      " |-- Netto productie/Zonnestroom (mln kWh): integer (nullable = true)\n",
      " |-- Netto productie/Overige bronnen (mln kWh): integer (nullable = true)\n",
      " |-- Invoer/Invoer, totaal (mln kWh): integer (nullable = true)\n",
      " |-- Invoer/België (mln kWh): integer (nullable = true)\n",
      " |-- Invoer/Denemarken (mln kWh): integer (nullable = true)\n",
      " |-- Invoer/Duitsland (mln kWh): integer (nullable = true)\n",
      " |-- Invoer/Verenigd Koninkrijk (mln kWh): integer (nullable = true)\n",
      " |-- Invoer/Noorwegen (mln kWh): integer (nullable = true)\n",
      " |-- Uitvoer/Uitvoer, totaal (mln kWh): integer (nullable = true)\n",
      " |-- Uitvoer/België (mln kWh): integer (nullable = true)\n",
      " |-- Uitvoer/Denemarken (mln kWh): integer (nullable = true)\n",
      " |-- Uitvoer/Duitsland (mln kWh): integer (nullable = true)\n",
      " |-- Uitvoer/Verenigd Koninkrijk (mln kWh): integer (nullable = true)\n",
      " |-- Uitvoer/Noorwegen (mln kWh): integer (nullable = true)\n",
      " |-- Distributieverliezen (mln kWh): integer (nullable = true)\n",
      " |-- Netto verbruik (berekend) (mln kWh): integer (nullable = true)\n",
      "\n"
     ]
    },
    {
     "name": "stderr",
     "output_type": "stream",
     "text": [
      "21/11/29 12:09:32 WARN package: Truncated the string representation of a plan since it was too large. This behavior can be adjusted by setting 'spark.sql.debug.maxToStringFields'.\n"
     ]
    }
   ],
   "source": [
    "df_electricity_production = spark.read.option(\"header\",\"true\").option(\"inferSchema\", \"true\").csv(\"./data/Elektriciteit__aanbod_en_verbruik_12102021_102309.csv\", sep=\";\")\n",
    "electricity_production_raw = sc.textFile(\"./data/Elektriciteit__aanbod_en_verbruik_12102021_102309.csv\")\n",
    "\n",
    "df_electricity_production.show(vertical = True)\n",
    "df_electricity_production.printSchema()"
   ]
  },
  {
   "cell_type": "code",
   "execution_count": 22,
   "metadata": {
    "ExecuteTime": {
     "end_time": "2021-11-29T11:09:32.269395Z",
     "start_time": "2021-11-29T11:09:32.264935Z"
    },
    "pycharm": {
     "name": "#%%\n"
    }
   },
   "outputs": [],
   "source": [
    "# Load a text file and convert each line to a Row, so that a DataFrame can be made.\n",
    "\n",
    "electricity_production_parts = electricity_production_raw.map(lambda l: l.split(\";\"))\n",
    "electricity_production_rows = electricity_production_parts.map(lambda l: Row(periode=l[0], netto_productie=l[3],\n",
    "                                                                             netto_productie_brandstoffen=l[5],\n",
    "                                                                             netto_productie_windenergie=l[12],\n",
    "                                                                             netto_productie_zonnestroom=l[15],\n",
    "                                                                             netto_verbruik=l[30]))"
   ]
  },
  {
   "cell_type": "code",
   "execution_count": 23,
   "metadata": {
    "ExecuteTime": {
     "end_time": "2021-11-29T11:09:33.103344Z",
     "start_time": "2021-11-29T11:09:32.270155Z"
    },
    "pycharm": {
     "name": "#%%\n"
    }
   },
   "outputs": [
    {
     "name": "stderr",
     "output_type": "stream",
     "text": [
      "\r",
      "[Stage 298:>                                                        (0 + 1) / 1]\r",
      "\r",
      "                                                                                \r"
     ]
    },
    {
     "data": {
      "text/plain": [
       "[Row(periode='\"Perioden\"', netto_productie='\"Netto productie/Netto productie, totaal (mln kWh)\"', netto_productie_brandstoffen='\"Netto productie/Brandstoffen/Brandstoffen, totaal (mln kWh)\"', netto_productie_windenergie='\"Netto productie/Windenergie/Windenergie, totaal (mln kWh)\"', netto_productie_zonnestroom='\"Netto productie/Zonnestroom (mln kWh)\"', netto_verbruik='\"Netto verbruik (berekend) (mln kWh)\"'),\n",
       " Row(periode='\"2013\"', netto_productie='97370', netto_productie_brandstoffen='', netto_productie_windenergie='5627', netto_productie_zonnestroom='410', netto_verbruik='111099'),\n",
       " Row(periode='\"2014\"', netto_productie='99310', netto_productie_brandstoffen='', netto_productie_windenergie='5797', netto_productie_zonnestroom='725', netto_verbruik='109103'),\n",
       " Row(periode='\"2015\"', netto_productie='105902', netto_productie_brandstoffen='91907', netto_productie_windenergie='7550', netto_productie_zonnestroom='1109', netto_verbruik='109386'),\n",
       " Row(periode='\"2016\"', netto_productie='111032', netto_productie_brandstoffen='96122', netto_productie_windenergie='8170', netto_productie_zonnestroom='1602', netto_verbruik='110513')]"
      ]
     },
     "execution_count": 23,
     "metadata": {},
     "output_type": "execute_result"
    }
   ],
   "source": [
    "electricity_production_rows.take(5)\n"
   ]
  },
  {
   "cell_type": "code",
   "execution_count": 24,
   "metadata": {
    "ExecuteTime": {
     "end_time": "2021-11-29T11:09:33.337726Z",
     "start_time": "2021-11-29T11:09:33.104064Z"
    },
    "pycharm": {
     "name": "#%%\n"
    }
   },
   "outputs": [],
   "source": [
    "\n",
    "header = electricity_production_rows.first()\n",
    "df_electricity_production = spark.createDataFrame(electricity_production_rows.filter(lambda row: row != header))"
   ]
  },
  {
   "cell_type": "code",
   "execution_count": 25,
   "metadata": {
    "ExecuteTime": {
     "end_time": "2021-11-29T11:09:34.303986Z",
     "start_time": "2021-11-29T11:09:33.338419Z"
    },
    "pycharm": {
     "name": "#%%\n"
    }
   },
   "outputs": [
    {
     "name": "stdout",
     "output_type": "stream",
     "text": [
      "+--------+---------------+----------------------------+---------------------------+---------------------------+--------------+\n",
      "| periode|netto_productie|netto_productie_brandstoffen|netto_productie_windenergie|netto_productie_zonnestroom|netto_verbruik|\n",
      "+--------+---------------+----------------------------+---------------------------+---------------------------+--------------+\n",
      "|  \"2013\"|          97370|                            |                       5627|                        410|        111099|\n",
      "|  \"2014\"|          99310|                            |                       5797|                        725|        109103|\n",
      "|  \"2015\"|         105902|                       91907|                       7550|                       1109|        109386|\n",
      "|  \"2016\"|         111032|                       96122|                       8170|                       1602|        110513|\n",
      "|  \"2017\"|         113465|                       95895|                      10569|                       2204|        111557|\n",
      "|  \"2018\"|         110692|                       92429|                      10549|                       3709|        113328|\n",
      "|\"2019**\"|         117572|                       96460|                      11508|                       5336|        113368|\n",
      "|\"2020**\"|         119238|                       91383|                      15339|                       8144|        111520|\n",
      "+--------+---------------+----------------------------+---------------------------+---------------------------+--------------+\n",
      "\n",
      "root\n",
      " |-- periode: string (nullable = true)\n",
      " |-- netto_productie: integer (nullable = true)\n",
      " |-- netto_productie_brandstoffen: integer (nullable = true)\n",
      " |-- netto_productie_windenergie: integer (nullable = true)\n",
      " |-- netto_productie_zonnestroom: integer (nullable = true)\n",
      " |-- netto_verbruik: integer (nullable = true)\n",
      "\n",
      "+-------+---------------+----------------------------+---------------------------+---------------------------+--------------+\n",
      "|periode|netto_productie|netto_productie_brandstoffen|netto_productie_windenergie|netto_productie_zonnestroom|netto_verbruik|\n",
      "+-------+---------------+----------------------------+---------------------------+---------------------------+--------------+\n",
      "|   2013|          97370|                        null|                       5627|                        410|        111099|\n",
      "|   2014|          99310|                        null|                       5797|                        725|        109103|\n",
      "|   2015|         105902|                       91907|                       7550|                       1109|        109386|\n",
      "|   2016|         111032|                       96122|                       8170|                       1602|        110513|\n",
      "|   2017|         113465|                       95895|                      10569|                       2204|        111557|\n",
      "|   2018|         110692|                       92429|                      10549|                       3709|        113328|\n",
      "|   2019|         117572|                       96460|                      11508|                       5336|        113368|\n",
      "|   2020|         119238|                       91383|                      15339|                       8144|        111520|\n",
      "+-------+---------------+----------------------------+---------------------------+---------------------------+--------------+\n",
      "\n"
     ]
    }
   ],
   "source": [
    "df_electricity_production.show()\n",
    "\n",
    "df2_electricity_production = df_electricity_production.selectExpr(\"cast(periode as string) periode\",\n",
    "                                                                  \"cast(netto_productie as int) netto_productie\",\n",
    "                                                                  \"cast(netto_productie_brandstoffen as int) netto_productie_brandstoffen\",\n",
    "                                                                  \"cast(netto_productie_windenergie as int) netto_productie_windenergie\",\n",
    "                                                                  \"cast(netto_productie_zonnestroom as int) netto_productie_zonnestroom\",\n",
    "                                                                  \"cast(netto_verbruik as int) netto_verbruik\")\n",
    "df2_electricity_production.printSchema()\n",
    "\n",
    "df2_electricity_production = df2_electricity_production.withColumn('periode', regexp_replace('periode', '[\"*]', ''))\n",
    "df2_electricity_production.show()"
   ]
  },
  {
   "cell_type": "code",
   "execution_count": 26,
   "metadata": {
    "ExecuteTime": {
     "end_time": "2021-11-29T11:09:34.862622Z",
     "start_time": "2021-11-29T11:09:34.305049Z"
    },
    "pycharm": {
     "name": "#%%\n"
    }
   },
   "outputs": [
    {
     "data": {
      "image/png": "[encoded data removed]",
      "text/plain": [
       "<Figure size 504x504 with 1 Axes>"
      ]
     },
     "metadata": {
      "needs_background": "light"
     },
     "output_type": "display_data"
    }
   ],
   "source": [
    "# Get values from the needed columns in a List to use them to plot.\n",
    "x_axis = df2_electricity_production.rdd.map(lambda l:l.periode).collect()\n",
    "y_axis1 = df2_electricity_production.rdd.map(lambda l:l.netto_productie).collect()\n",
    "y_axis2 = df2_electricity_production.rdd.map(lambda l:l.netto_verbruik).collect()\n",
    "figure_netto_production = plt.figure(figsize=(7, 7))\n",
    "figure_netto_production.suptitle('Electriciteitproductie/verbruik NL', fontsize=11)\n",
    "plt1 = figure_netto_production.add_subplot(111)\n",
    "plt1.plot(x_axis, y_axis1, label = \"netto productie\")\n",
    "plt1.plot(x_axis, y_axis2, label = \"netto verbruik\")\n",
    "plt.xlabel(\"Year\")\n",
    "plt.ylabel(\"mln kWh\")\n",
    "plt.legend()\n",
    "plt.show()"
   ]
  },
  {
   "cell_type": "code",
   "execution_count": 27,
   "metadata": {
    "ExecuteTime": {
     "end_time": "2021-11-29T11:09:34.877576Z",
     "start_time": "2021-11-29T11:09:34.872106Z"
    },
    "pycharm": {
     "name": "#%%\n"
    }
   },
   "outputs": [],
   "source": [
    "# Lets focus on renewable energy, show how much the share of renewable energy is of the whole netto production\n",
    "labels = \"Brandstoffen\",\"Windenergie\",\"Zonnestroom\"\n",
    "def show_renewable_energy_share(year):\n",
    "    energy_distribution = df2_electricity_production.filter(df2_electricity_production.periode == year).collect()\n",
    "\n",
    "    data = [energy_distribution[0].asDict()[\"netto_productie_brandstoffen\"],energy_distribution[0].asDict()[\"netto_productie_windenergie\"],energy_distribution[0].asDict()[\"netto_productie_zonnestroom\"]]\n",
    " \n",
    "    explode = (0, 0.1, 0.1)  # highlight the 2nd and 3rd slice of the pie chart\n",
    "    fig1, ax1 = plt.subplots()\n",
    "    plt.title('Energieproductie ' + str(year))\n",
    "    ax1.pie(data, explode=explode, labels=labels, autopct='%1.1f%%',\n",
    "    shadow=True, startangle=90)\n",
    "    ax1.axis('equal')  # Equal aspect ratio ensures that pie is drawn as a circle.\n",
    "    plt.show()"
   ]
  },
  {
   "cell_type": "code",
   "execution_count": 28,
   "metadata": {
    "ExecuteTime": {
     "end_time": "2021-11-29T11:09:34.965924Z",
     "start_time": "2021-11-29T11:09:34.916500Z"
    },
    "pycharm": {
     "name": "#%%\n"
    },
    "scrolled": true
   },
   "outputs": [
    {
     "data": {
      "text/html": [
       "\n",
       "<style>\n",
       "    .ep-container {\n",
       "        background-color: #f8f9fa; \n",
       "        width:300px; \n",
       "        padding:20px; \n",
       "        color: #495057;\n",
       "    }\n",
       "    .ep-button {\n",
       "        padding:5px; \n",
       "        width: 100px; \n",
       "        border: none; \n",
       "        background-color: #ced4da; \n",
       "        color: #495057;\n",
       "        transition: ease-in-out 0.1s;\n",
       "    }\n",
       "    .ep-button:hover {\n",
       "        background-color: #adb5bd; \n",
       "        color: #343a40;\n",
       "    }\n",
       "    .ep-form-inputs-control {\n",
       "        display: flex;\n",
       "        flex-wrap: wrap;\n",
       "        margin-top: 1em;\n",
       "        margin-bottom: 2em;\n",
       "    }\n",
       "    .ep-input-wrapper {\n",
       "        display: flex;\n",
       "        margin-left: 1em;\n",
       "        margin-right: 1em;\n",
       "    }\n",
       "</style>\n",
       "<div class=\"ep-container\">\n",
       "<p> Select a year and press the Submit button to see how much the share of renewable energy is of the entire electricity production for that year:<p>\n",
       "<div class=\"ep-form-inputs-control\">\n",
       "    <div class=\"ep-input-wrapper\"><input type=\"radio\" name=\"year\" value=\"2015\"><label>2015</label></div>\n",
       "    <div class=\"ep-input-wrapper\"><input type=\"radio\" name=\"year\" value=\"2016\"><label>2016</label></div>\n",
       "    <div class=\"ep-input-wrapper\"><input type=\"radio\" name=\"year\" value=\"2017\"><label>2017</label></div>\n",
       "    <div class=\"ep-input-wrapper\"><input type=\"radio\" name=\"year\" value=\"2018\"><label>2018</label></div>\n",
       "    <div class=\"ep-input-wrapper\"><input type=\"radio\" name=\"year\" value=\"2019\"><label>2019</label></div>\n",
       "    <div class=\"ep-input-wrapper\"><input type=\"radio\" name=\"year\" value=\"2020\"><label>2020</label></div>\n",
       "</div>\n",
       "<button class=\"ep-button\" type=\"button\" onclick=\"set_vars()\">Submit</button>\n",
       "</div>\n",
       "\n",
       "<script type=\"text/Javascript\">\n",
       "    function set_vars(){\n",
       "        var var_name1 = 'inp_year';\n",
       "        var ele = document.getElementsByName('year');\n",
       "        \n",
       "        for(i = 0; i < ele.length; i++) {\n",
       "                if(ele[i].checked)\n",
       "                var var_value1 = ele[i].value;\n",
       "            }\n",
       "        var command1 = var_name1 + \" = '\" + var_value1 + \"'\";\n",
       "        var kernel = IPython.notebook.kernel;\n",
       "        kernel.execute(command1);\n",
       "        cell = IPython.notebook.get_cell(40);\n",
       "        cell.execute();\n",
       "        cell.focus_cell(40);\n",
       "    }\n",
       "</script>\n"
      ],
      "text/plain": [
       "<IPython.core.display.HTML object>"
      ]
     },
     "execution_count": 28,
     "metadata": {},
     "output_type": "execute_result"
    }
   ],
   "source": [
    "from IPython.display import HTML,display\n",
    "\n",
    "form = \"\"\"\n",
    "<style>\n",
    "    .ep-container {\n",
    "        background-color: #f8f9fa; \n",
    "        width:300px; \n",
    "        padding:20px; \n",
    "        color: #495057;\n",
    "    }\n",
    "    .ep-button {\n",
    "        padding:5px; \n",
    "        width: 100px; \n",
    "        border: none; \n",
    "        background-color: #ced4da; \n",
    "        color: #495057;\n",
    "        transition: ease-in-out 0.1s;\n",
    "    }\n",
    "    .ep-button:hover {\n",
    "        background-color: #adb5bd; \n",
    "        color: #343a40;\n",
    "    }\n",
    "    .ep-form-inputs-control {\n",
    "        display: flex;\n",
    "        flex-wrap: wrap;\n",
    "        margin-top: 1em;\n",
    "        margin-bottom: 2em;\n",
    "    }\n",
    "    .ep-input-wrapper {\n",
    "        display: flex;\n",
    "        margin-left: 1em;\n",
    "        margin-right: 1em;\n",
    "    }\n",
    "</style>\n",
    "<div class=\"ep-container\">\n",
    "<p> Select a year and press the Submit button to see how much the share of renewable energy is of the entire electricity production for that year:<p>\n",
    "<div class=\"ep-form-inputs-control\">\n",
    "    <div class=\"ep-input-wrapper\"><input type=\"radio\" name=\"year\" value=\"2015\"><label>2015</label></div>\n",
    "    <div class=\"ep-input-wrapper\"><input type=\"radio\" name=\"year\" value=\"2016\"><label>2016</label></div>\n",
    "    <div class=\"ep-input-wrapper\"><input type=\"radio\" name=\"year\" value=\"2017\"><label>2017</label></div>\n",
    "    <div class=\"ep-input-wrapper\"><input type=\"radio\" name=\"year\" value=\"2018\"><label>2018</label></div>\n",
    "    <div class=\"ep-input-wrapper\"><input type=\"radio\" name=\"year\" value=\"2019\"><label>2019</label></div>\n",
    "    <div class=\"ep-input-wrapper\"><input type=\"radio\" name=\"year\" value=\"2020\"><label>2020</label></div>\n",
    "</div>\n",
    "<button class=\"ep-button\" type=\"button\" onclick=\"set_vars()\">Submit</button>\n",
    "</div>\n",
    "\"\"\"\n",
    "javascript = \"\"\"\n",
    "<script type=\"text/Javascript\">\n",
    "    function set_vars(){\n",
    "        var var_name1 = 'inp_year';\n",
    "        var ele = document.getElementsByName('year');\n",
    "        \n",
    "        for(i = 0; i < ele.length; i++) {\n",
    "                if(ele[i].checked)\n",
    "                var var_value1 = ele[i].value;\n",
    "            }\n",
    "        var command1 = var_name1 + \" = '\" + var_value1 + \"'\";\n",
    "        var kernel = IPython.notebook.kernel;\n",
    "        kernel.execute(command1);\n",
    "        cell = IPython.notebook.get_cell(40);\n",
    "        cell.execute();\n",
    "        cell.focus_cell(40);\n",
    "    }\n",
    "</script>\n",
    "\"\"\"\n",
    "\n",
    "HTML(form + javascript)"
   ]
  },
  {
   "cell_type": "code",
   "execution_count": 31,
   "metadata": {
    "ExecuteTime": {
     "end_time": "2021-11-29T11:09:43.248276Z",
     "start_time": "2021-11-29T11:09:42.876241Z"
    }
   },
   "outputs": [
    {
     "name": "stdout",
     "output_type": "stream",
     "text": [
      "Year: 2020\n"
     ]
    },
    {
     "data": {
      "image/png": "[encoded data removed]",
      "text/plain": [
       "<Figure size 432x288 with 1 Axes>"
      ]
     },
     "metadata": {},
     "output_type": "display_data"
    }
   ],
   "source": [
    "print(\"Year: \" + inp_year)\n",
    "show_renewable_energy_share(int(inp_year))"
   ]
  },
  {
   "cell_type": "markdown",
   "metadata": {},
   "source": [
    "Als je de pie chart bekijkt van de verschillende jaren dan zie je dat er toch meer en meer ingezet wordt op hernieuwbare energie en dat de energieproductie door middel van het verbranden van brandstoffen ieder jaar afneemt. "
   ]
  },
  {
   "cell_type": "code",
   "execution_count": null,
   "metadata": {
    "ExecuteTime": {
     "end_time": "2021-11-29T11:09:35.063827Z",
     "start_time": "2021-11-29T11:09:35.063822Z"
    }
   },
   "outputs": [],
   "source": [
    "\n",
    "## Belangrijk!! vergeet cellnumber niet aan te passen bij de interactieve widget.\n",
    "## Al geprobeerd met get_selected_cell() maar heb het nog niet werkend gekregen. "
   ]
  }
 ],
 "metadata": {
  "interpreter": {
   "hash": "63d55410ba400cf670b0372af6fb81a42781e2444c280a05728a9478979597de"
  },
  "kernelspec": {
   "display_name": "Python 3 (ipykernel)",
   "language": "python",
   "name": "python3"
  },
  "language_info": {
   "codemirror_mode": {
    "name": "ipython",
    "version": 3
   },
   "file_extension": ".py",
   "mimetype": "text/x-python",
   "name": "python",
   "nbconvert_exporter": "python",
   "pygments_lexer": "ipython3",
   "version": "3.9.8"
  }
 },
 "nbformat": 4,
 "nbformat_minor": 1
}
