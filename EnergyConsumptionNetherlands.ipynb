{
 "cells": [
  {
   "cell_type": "code",
   "execution_count": 46,
   "metadata": {
    "collapsed": true
   },
   "outputs": [],
   "source": [
    "from pyspark.sql import SparkSession"
   ]
  },
  {
   "cell_type": "code",
   "execution_count": 47,
   "outputs": [],
   "source": [
    "spark = SparkSession.builder.appName('EnergyConsumption').getOrCreate()\n",
    "sc = spark.sparkContext"
   ],
   "metadata": {
    "collapsed": false,
    "pycharm": {
     "name": "#%%\n"
    }
   }
  },
  {
   "cell_type": "code",
   "execution_count": 48,
   "outputs": [],
   "source": [
    "electricity_production = sc.textFile(\"./data/Elektriciteit__aanbod_en_verbruik_12102021_102309.csv\")"
   ],
   "metadata": {
    "collapsed": false,
    "pycharm": {
     "name": "#%%\n"
    }
   }
  },
  {
   "cell_type": "code",
   "execution_count": 49,
   "outputs": [
    {
     "data": {
      "text/plain": "9"
     },
     "execution_count": 49,
     "metadata": {},
     "output_type": "execute_result"
    }
   ],
   "source": [
    "electricity_production.count()"
   ],
   "metadata": {
    "collapsed": false,
    "pycharm": {
     "name": "#%%\n"
    }
   }
  },
  {
   "cell_type": "code",
   "execution_count": 50,
   "outputs": [
    {
     "data": {
      "text/plain": "'\"Perioden\";\"Bruto productie (mln kWh)\";\"Eigen verbruik bij elektr.productie (mln kWh)\";\"Netto productie/Netto productie, totaal (mln kWh)\";\"Netto productie/Kernenergie (mln kWh)\";\"Netto productie/Brandstoffen/Brandstoffen, totaal (mln kWh)\";\"Netto productie/Brandstoffen/Kolen (mln kWh)\";\"Netto productie/Brandstoffen/Olieproducten (mln kWh)\";\"Netto productie/Brandstoffen/Aardgas (mln kWh)\";\"Netto productie/Brandstoffen/Biomassa (mln kWh)\";\"Netto productie/Brandstoffen/Overige brandstoffen (niet-hernieuwbaar) (mln kWh)\";\"Netto productie/Waterkracht (mln kWh)\";\"Netto productie/Windenergie/Windenergie, totaal (mln kWh)\";\"Netto productie/Windenergie/Windenergie op land (mln kWh)\";\"Netto productie/Windenergie/Windenergie op zee (mln kWh)\";\"Netto productie/Zonnestroom (mln kWh)\";\"Netto productie/Overige bronnen (mln kWh)\";\"Invoer/Invoer, totaal (mln kWh)\";\"Invoer/België (mln kWh)\";\"Invoer/Denemarken (mln kWh)\";\"Invoer/Duitsland (mln kWh)\";\"Invoer/Verenigd Koninkrijk (mln kWh)\";\"Invoer/Noorwegen (mln kWh)\";\"Uitvoer/Uitvoer, totaal (mln kWh)\";\"Uitvoer/België (mln kWh)\";\"Uitvoer/Denemarken (mln kWh)\";\"Uitvoer/Duitsland (mln kWh)\";\"Uitvoer/Verenigd Koninkrijk (mln kWh)\";\"Uitvoer/Noorwegen (mln kWh)\";\"Distributieverliezen (mln kWh)\";\"Netto verbruik (berekend) (mln kWh)\"'"
     },
     "execution_count": 50,
     "metadata": {},
     "output_type": "execute_result"
    }
   ],
   "source": [
    "electricity_production.first()"
   ],
   "metadata": {
    "collapsed": false,
    "pycharm": {
     "name": "#%%\n"
    }
   }
  },
  {
   "cell_type": "code",
   "execution_count": 51,
   "outputs": [
    {
     "data": {
      "text/plain": "['\"Perioden\";\"Bruto productie (mln kWh)\";\"Eigen verbruik bij elektr.productie (mln kWh)\";\"Netto productie/Netto productie, totaal (mln kWh)\";\"Netto productie/Kernenergie (mln kWh)\";\"Netto productie/Brandstoffen/Brandstoffen, totaal (mln kWh)\";\"Netto productie/Brandstoffen/Kolen (mln kWh)\";\"Netto productie/Brandstoffen/Olieproducten (mln kWh)\";\"Netto productie/Brandstoffen/Aardgas (mln kWh)\";\"Netto productie/Brandstoffen/Biomassa (mln kWh)\";\"Netto productie/Brandstoffen/Overige brandstoffen (niet-hernieuwbaar) (mln kWh)\";\"Netto productie/Waterkracht (mln kWh)\";\"Netto productie/Windenergie/Windenergie, totaal (mln kWh)\";\"Netto productie/Windenergie/Windenergie op land (mln kWh)\";\"Netto productie/Windenergie/Windenergie op zee (mln kWh)\";\"Netto productie/Zonnestroom (mln kWh)\";\"Netto productie/Overige bronnen (mln kWh)\";\"Invoer/Invoer, totaal (mln kWh)\";\"Invoer/België (mln kWh)\";\"Invoer/Denemarken (mln kWh)\";\"Invoer/Duitsland (mln kWh)\";\"Invoer/Verenigd Koninkrijk (mln kWh)\";\"Invoer/Noorwegen (mln kWh)\";\"Uitvoer/Uitvoer, totaal (mln kWh)\";\"Uitvoer/België (mln kWh)\";\"Uitvoer/Denemarken (mln kWh)\";\"Uitvoer/Duitsland (mln kWh)\";\"Uitvoer/Verenigd Koninkrijk (mln kWh)\";\"Uitvoer/Noorwegen (mln kWh)\";\"Distributieverliezen (mln kWh)\";\"Netto verbruik (berekend) (mln kWh)\"',\n '\"2013\";100875;3505;97370;;;;;;5277;;114;5627;4856;771;410;;33252;4387;;24551;142;4172;15015;7771;;340;6656;249;4508;111099']"
     },
     "execution_count": 51,
     "metadata": {},
     "output_type": "execute_result"
    }
   ],
   "source": [
    "electricity_production.take(2)"
   ],
   "metadata": {
    "collapsed": false,
    "pycharm": {
     "name": "#%%\n"
    }
   }
  },
  {
   "cell_type": "code",
   "execution_count": 51,
   "outputs": [],
   "source": [
    "\n"
   ],
   "metadata": {
    "collapsed": false,
    "pycharm": {
     "name": "#%%\n"
    }
   }
  }
 ],
 "metadata": {
  "kernelspec": {
   "name": "python397jvsc74a57bd0340e956ee656efd8fdfb480dc033c937d9b626f8b21073bd1b5aa2a469586ea6",
   "language": "python",
   "display_name": "Python 3.9.7 64-bit"
  },
  "language_info": {
   "codemirror_mode": {
    "name": "ipython",
    "version": 2
   },
   "file_extension": ".py",
   "mimetype": "text/x-python",
   "name": "python",
   "nbconvert_exporter": "python",
   "pygments_lexer": "ipython2",
   "version": "2.7.6"
  }
 },
 "nbformat": 4,
 "nbformat_minor": 0
}