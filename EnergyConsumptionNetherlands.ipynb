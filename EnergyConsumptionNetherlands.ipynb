{
 "cells": [
  {
   "cell_type": "code",
   "execution_count": 1,
   "metadata": {
    "collapsed": true
   },
   "outputs": [],
   "source": [
    "from pyspark.sql import SparkSession\n",
    "from pyspark.sql import Row\n",
    "import pandas as pd\n",
    "import matplotlib.pyplot as plt\n",
    "from pyspark.sql.types import *\n",
    "from pyspark.sql.functions import col"
   ]
  },
  {
   "cell_type": "code",
   "execution_count": 2,
   "outputs": [
    {
     "name": "stderr",
     "output_type": "stream",
     "text": [
      "21/10/13 10:03:26 WARN Utils: Your hostname, Stijns-MacBook-Air.local resolves to a loopback address: 127.0.0.1; using 192.168.0.120 instead (on interface en0)\n",
      "21/10/13 10:03:26 WARN Utils: Set SPARK_LOCAL_IP if you need to bind to another address\n",
      "21/10/13 10:03:26 WARN NativeCodeLoader: Unable to load native-hadoop library for your platform... using builtin-java classes where applicable\n",
      "Using Spark's default log4j profile: org/apache/spark/log4j-defaults.properties\n",
      "Setting default log level to \"WARN\".\n",
      "To adjust logging level use sc.setLogLevel(newLevel). For SparkR, use setLogLevel(newLevel).\n"
     ]
    }
   ],
   "source": [
    "spark = SparkSession.builder.appName('EnergyConsumption').getOrCreate()\n",
    "sc = spark.sparkContext"
   ],
   "metadata": {
    "collapsed": false,
    "pycharm": {
     "name": "#%%\n"
    }
   }
  },
  {
   "cell_type": "code",
   "execution_count": 3,
   "outputs": [
    {
     "name": "stderr",
     "output_type": "stream",
     "text": [
      "                                                                                \r"
     ]
    }
   ],
   "source": [
    "df_electricity_production = spark.read.option(\"header\",\"true\").option(\"inferSchema\", \"true\").csv(\"./data/Elektriciteit__aanbod_en_verbruik_12102021_102309.csv\", sep=\";\")\n",
    "electricity_production_raw = sc.textFile(\"./data/Elektriciteit__aanbod_en_verbruik_12102021_102309.csv\")"
   ],
   "metadata": {
    "collapsed": false,
    "pycharm": {
     "name": "#%%\n"
    }
   }
  },
  {
   "cell_type": "code",
   "execution_count": 4,
   "outputs": [
    {
     "name": "stderr",
     "output_type": "stream",
     "text": [
      "21/10/13 10:03:35 WARN package: Truncated the string representation of a plan since it was too large. This behavior can be adjusted by setting 'spark.sql.debug.maxToStringFields'.\n"
     ]
    },
    {
     "name": "stdout",
     "output_type": "stream",
     "text": [
      "+--------+-------------------------+---------------------------------------------+-------------------------------------------------+-------------------------------------+-----------------------------------------------------------+--------------------------------------------+----------------------------------------------------+----------------------------------------------+-----------------------------------------------+-------------------------------------------------------------------------------+-------------------------------------+---------------------------------------------------------+---------------------------------------------------------+--------------------------------------------------------+-------------------------------------+-----------------------------------------+-------------------------------+-----------------------+---------------------------+--------------------------+------------------------------------+--------------------------+---------------------------------+------------------------+----------------------------+---------------------------+-------------------------------------+---------------------------+------------------------------+-----------------------------------+\n",
      "|Perioden|Bruto productie (mln kWh)|Eigen verbruik bij elektr.productie (mln kWh)|Netto productie/Netto productie, totaal (mln kWh)|Netto productie/Kernenergie (mln kWh)|Netto productie/Brandstoffen/Brandstoffen, totaal (mln kWh)|Netto productie/Brandstoffen/Kolen (mln kWh)|Netto productie/Brandstoffen/Olieproducten (mln kWh)|Netto productie/Brandstoffen/Aardgas (mln kWh)|Netto productie/Brandstoffen/Biomassa (mln kWh)|Netto productie/Brandstoffen/Overige brandstoffen (niet-hernieuwbaar) (mln kWh)|Netto productie/Waterkracht (mln kWh)|Netto productie/Windenergie/Windenergie, totaal (mln kWh)|Netto productie/Windenergie/Windenergie op land (mln kWh)|Netto productie/Windenergie/Windenergie op zee (mln kWh)|Netto productie/Zonnestroom (mln kWh)|Netto productie/Overige bronnen (mln kWh)|Invoer/Invoer, totaal (mln kWh)|Invoer/België (mln kWh)|Invoer/Denemarken (mln kWh)|Invoer/Duitsland (mln kWh)|Invoer/Verenigd Koninkrijk (mln kWh)|Invoer/Noorwegen (mln kWh)|Uitvoer/Uitvoer, totaal (mln kWh)|Uitvoer/België (mln kWh)|Uitvoer/Denemarken (mln kWh)|Uitvoer/Duitsland (mln kWh)|Uitvoer/Verenigd Koninkrijk (mln kWh)|Uitvoer/Noorwegen (mln kWh)|Distributieverliezen (mln kWh)|Netto verbruik (berekend) (mln kWh)|\n",
      "+--------+-------------------------+---------------------------------------------+-------------------------------------------------+-------------------------------------+-----------------------------------------------------------+--------------------------------------------+----------------------------------------------------+----------------------------------------------+-----------------------------------------------+-------------------------------------------------------------------------------+-------------------------------------+---------------------------------------------------------+---------------------------------------------------------+--------------------------------------------------------+-------------------------------------+-----------------------------------------+-------------------------------+-----------------------+---------------------------+--------------------------+------------------------------------+--------------------------+---------------------------------+------------------------+----------------------------+---------------------------+-------------------------------------+---------------------------+------------------------------+-----------------------------------+\n",
      "|    2013|                   100875|                                         3505|                                            97370|                                 null|                                                       null|                                        null|                                                null|                                          null|                                           5277|                                                                           null|                                  114|                                                     5627|                                                     4856|                                                     771|                                  410|                                     null|                          33252|                   4387|                       null|                     24551|                                 142|                      4172|                            15015|                    7771|                        null|                        340|                                 6656|                        249|                          4508|                             111099|\n",
      "|    2014|                   103365|                                         4055|                                            99310|                                 null|                                                       null|                                        null|                                                null|                                          null|                                           4345|                                                                           null|                                  112|                                                     5797|                                                     5049|                                                     748|                                  725|                                     null|                          32854|                   3041|                       null|                     24340|                                  11|                      5463|                            18128|                    9583|                        null|                        348|                                 8090|                        107|                          4933|                             109103|\n",
      "|    2015|                   110388|                                         4487|                                           105902|                                 3862|                                                      91907|                                       40150|                                                1297|                                         44762|                                           4302|                                                                           1396|                                   93|                                                     7550|                                                     6420|                                                    1130|                                 1109|                                     1382|                          30760|                   1023|                       null|                     23961|                                   8|                      5768|                            22012|                   13428|                        null|                        339|                                 8233|                         12|                          5264|                             109386|\n",
      "|    2016|                   115213|                                         4181|                                           111032|                                 3750|                                                      96122|                                       37659|                                                1241|                                         51491|                                           4248|                                                                           1484|                                  100|                                                     8170|                                                     5901|                                                    2269|                                 1602|                                     1288|                          24258|                   3029|                       null|                     16892|                                 140|                      4197|                            19343|                    9965|                        null|                       1337|                                 7761|                        281|                          5434|                             110513|\n",
      "|    2017|                   117260|                                         3795|                                           113465|                                 3278|                                                      95895|                                       32616|                                                1154|                                         56755|                                           3926|                                                                           1443|                                   61|                                                    10569|                                                     6869|                                                    3700|                                 2204|                                     1459|                          22458|                   2170|                       null|                     15116|                                 191|                      4981|                            18952|                   10251|                        null|                       1362|                                 7224|                        114|                          5414|                             111557|\n",
      "|    2018|                   114103|                                         3411|                                           110692|                                 3395|                                                      92429|                                       29214|                                                1267|                                         56258|                                           3922|                                                                           1767|                                   72|                                                    10549|                                                     6918|                                                    3630|                                 3709|                                      538|                          26755|                   1776|                       null|                     20914|                                 188|                      3877|                            18785|                   10784|                        null|                        735|                                 6932|                        334|                          5334|                             113328|\n",
      "|  2019**|                   121062|                                         3490|                                           117572|                                 3700|                                                      96460|                                       19266|                                                1385|                                         69172|                                           5060|                                                                           1577|                                   74|                                                    11508|                                                     7935|                                                    3573|                                 5336|                                      493|                          20403|                   4528|                        619|                     12238|                                 385|                      2634|                            19548|                    6991|                         671|                       4398|                                 6148|                       1340|                          5059|                             113368|\n",
      "|  2020**|                   122642|                                         3405|                                           119238|                                 3865|                                                      91383|                                        9555|                                                1321|                                         71023|                                           7835|                                                                           1649|                                   46|                                                    15339|                                                     9856|                                                    5484|                                 8144|                                      461|                          19773|                   3782|                       2082|                      8748|                                 541|                      4621|                            22433|                    7806|                        1053|                       8677|                                 4787|                        110|                          5059|                             111520|\n",
      "+--------+-------------------------+---------------------------------------------+-------------------------------------------------+-------------------------------------+-----------------------------------------------------------+--------------------------------------------+----------------------------------------------------+----------------------------------------------+-----------------------------------------------+-------------------------------------------------------------------------------+-------------------------------------+---------------------------------------------------------+---------------------------------------------------------+--------------------------------------------------------+-------------------------------------+-----------------------------------------+-------------------------------+-----------------------+---------------------------+--------------------------+------------------------------------+--------------------------+---------------------------------+------------------------+----------------------------+---------------------------+-------------------------------------+---------------------------+------------------------------+-----------------------------------+\n",
      "\n",
      "root\n",
      " |-- Perioden: string (nullable = true)\n",
      " |-- Bruto productie (mln kWh): integer (nullable = true)\n",
      " |-- Eigen verbruik bij elektr.productie (mln kWh): integer (nullable = true)\n",
      " |-- Netto productie/Netto productie, totaal (mln kWh): integer (nullable = true)\n",
      " |-- Netto productie/Kernenergie (mln kWh): integer (nullable = true)\n",
      " |-- Netto productie/Brandstoffen/Brandstoffen, totaal (mln kWh): integer (nullable = true)\n",
      " |-- Netto productie/Brandstoffen/Kolen (mln kWh): integer (nullable = true)\n",
      " |-- Netto productie/Brandstoffen/Olieproducten (mln kWh): integer (nullable = true)\n",
      " |-- Netto productie/Brandstoffen/Aardgas (mln kWh): integer (nullable = true)\n",
      " |-- Netto productie/Brandstoffen/Biomassa (mln kWh): integer (nullable = true)\n",
      " |-- Netto productie/Brandstoffen/Overige brandstoffen (niet-hernieuwbaar) (mln kWh): integer (nullable = true)\n",
      " |-- Netto productie/Waterkracht (mln kWh): integer (nullable = true)\n",
      " |-- Netto productie/Windenergie/Windenergie, totaal (mln kWh): integer (nullable = true)\n",
      " |-- Netto productie/Windenergie/Windenergie op land (mln kWh): integer (nullable = true)\n",
      " |-- Netto productie/Windenergie/Windenergie op zee (mln kWh): integer (nullable = true)\n",
      " |-- Netto productie/Zonnestroom (mln kWh): integer (nullable = true)\n",
      " |-- Netto productie/Overige bronnen (mln kWh): integer (nullable = true)\n",
      " |-- Invoer/Invoer, totaal (mln kWh): integer (nullable = true)\n",
      " |-- Invoer/België (mln kWh): integer (nullable = true)\n",
      " |-- Invoer/Denemarken (mln kWh): integer (nullable = true)\n",
      " |-- Invoer/Duitsland (mln kWh): integer (nullable = true)\n",
      " |-- Invoer/Verenigd Koninkrijk (mln kWh): integer (nullable = true)\n",
      " |-- Invoer/Noorwegen (mln kWh): integer (nullable = true)\n",
      " |-- Uitvoer/Uitvoer, totaal (mln kWh): integer (nullable = true)\n",
      " |-- Uitvoer/België (mln kWh): integer (nullable = true)\n",
      " |-- Uitvoer/Denemarken (mln kWh): integer (nullable = true)\n",
      " |-- Uitvoer/Duitsland (mln kWh): integer (nullable = true)\n",
      " |-- Uitvoer/Verenigd Koninkrijk (mln kWh): integer (nullable = true)\n",
      " |-- Uitvoer/Noorwegen (mln kWh): integer (nullable = true)\n",
      " |-- Distributieverliezen (mln kWh): integer (nullable = true)\n",
      " |-- Netto verbruik (berekend) (mln kWh): integer (nullable = true)\n",
      "\n"
     ]
    },
    {
     "data": {
      "text/plain": "'\"Perioden\";\"Bruto productie (mln kWh)\";\"Eigen verbruik bij elektr.productie (mln kWh)\";\"Netto productie/Netto productie, totaal (mln kWh)\";\"Netto productie/Kernenergie (mln kWh)\";\"Netto productie/Brandstoffen/Brandstoffen, totaal (mln kWh)\";\"Netto productie/Brandstoffen/Kolen (mln kWh)\";\"Netto productie/Brandstoffen/Olieproducten (mln kWh)\";\"Netto productie/Brandstoffen/Aardgas (mln kWh)\";\"Netto productie/Brandstoffen/Biomassa (mln kWh)\";\"Netto productie/Brandstoffen/Overige brandstoffen (niet-hernieuwbaar) (mln kWh)\";\"Netto productie/Waterkracht (mln kWh)\";\"Netto productie/Windenergie/Windenergie, totaal (mln kWh)\";\"Netto productie/Windenergie/Windenergie op land (mln kWh)\";\"Netto productie/Windenergie/Windenergie op zee (mln kWh)\";\"Netto productie/Zonnestroom (mln kWh)\";\"Netto productie/Overige bronnen (mln kWh)\";\"Invoer/Invoer, totaal (mln kWh)\";\"Invoer/België (mln kWh)\";\"Invoer/Denemarken (mln kWh)\";\"Invoer/Duitsland (mln kWh)\";\"Invoer/Verenigd Koninkrijk (mln kWh)\";\"Invoer/Noorwegen (mln kWh)\";\"Uitvoer/Uitvoer, totaal (mln kWh)\";\"Uitvoer/België (mln kWh)\";\"Uitvoer/Denemarken (mln kWh)\";\"Uitvoer/Duitsland (mln kWh)\";\"Uitvoer/Verenigd Koninkrijk (mln kWh)\";\"Uitvoer/Noorwegen (mln kWh)\";\"Distributieverliezen (mln kWh)\";\"Netto verbruik (berekend) (mln kWh)\"'"
     },
     "execution_count": 4,
     "metadata": {},
     "output_type": "execute_result"
    }
   ],
   "source": [
    "df_electricity_production.show()\n",
    "df_electricity_production.printSchema()\n",
    "electricity_production_raw.first()"
   ],
   "metadata": {
    "collapsed": false,
    "pycharm": {
     "name": "#%%\n"
    }
   }
  },
  {
   "cell_type": "code",
   "execution_count": 5,
   "outputs": [],
   "source": [
    "# Load a text file and convert each line to a Row, so that a DataFrame can be made.\n",
    "\n",
    "electricity_production_parts = electricity_production_raw.map(lambda l: l.split(\";\"))\n",
    "electricity_production_rows = electricity_production_parts.map(lambda l: Row(periode=l[0], netto_productie=l[3],\n",
    "                                                                             netto_productie_brandstoffen=l[5],\n",
    "                                                                             netto_productie_windenergie=l[12],\n",
    "                                                                             netto_productie_zonnestroom=l[15]))"
   ],
   "metadata": {
    "collapsed": false,
    "pycharm": {
     "name": "#%%\n"
    }
   }
  },
  {
   "cell_type": "code",
   "execution_count": 6,
   "outputs": [
    {
     "data": {
      "text/plain": "[Row(periode='\"Perioden\"', netto_productie='\"Netto productie/Netto productie, totaal (mln kWh)\"', netto_productie_brandstoffen='\"Netto productie/Brandstoffen/Brandstoffen, totaal (mln kWh)\"', netto_productie_windenergie='\"Netto productie/Windenergie/Windenergie, totaal (mln kWh)\"', netto_productie_zonnestroom='\"Netto productie/Zonnestroom (mln kWh)\"'),\n Row(periode='\"2013\"', netto_productie='97370', netto_productie_brandstoffen='', netto_productie_windenergie='5627', netto_productie_zonnestroom='410')]"
     },
     "execution_count": 6,
     "metadata": {},
     "output_type": "execute_result"
    }
   ],
   "source": [
    "electricity_production_rows.take(2)\n"
   ],
   "metadata": {
    "collapsed": false,
    "pycharm": {
     "name": "#%%\n"
    }
   }
  },
  {
   "cell_type": "code",
   "execution_count": 7,
   "outputs": [],
   "source": [
    "\n",
    "header = electricity_production_rows.first()\n",
    "df_electricity_production = spark.createDataFrame(electricity_production_rows.filter(lambda row: row != header))"
   ],
   "metadata": {
    "collapsed": false,
    "pycharm": {
     "name": "#%%\n"
    }
   }
  },
  {
   "cell_type": "code",
   "execution_count": 8,
   "outputs": [
    {
     "name": "stdout",
     "output_type": "stream",
     "text": [
      "+--------+---------------+----------------------------+---------------------------+---------------------------+\n",
      "| periode|netto_productie|netto_productie_brandstoffen|netto_productie_windenergie|netto_productie_zonnestroom|\n",
      "+--------+---------------+----------------------------+---------------------------+---------------------------+\n",
      "|  \"2013\"|          97370|                            |                       5627|                        410|\n",
      "|  \"2014\"|          99310|                            |                       5797|                        725|\n",
      "|  \"2015\"|         105902|                       91907|                       7550|                       1109|\n",
      "|  \"2016\"|         111032|                       96122|                       8170|                       1602|\n",
      "|  \"2017\"|         113465|                       95895|                      10569|                       2204|\n",
      "|  \"2018\"|         110692|                       92429|                      10549|                       3709|\n",
      "|\"2019**\"|         117572|                       96460|                      11508|                       5336|\n",
      "|\"2020**\"|         119238|                       91383|                      15339|                       8144|\n",
      "+--------+---------------+----------------------------+---------------------------+---------------------------+\n",
      "\n",
      "root\n",
      " |-- periode: string (nullable = true)\n",
      " |-- netto_productie: integer (nullable = true)\n",
      " |-- netto_productie_brandstoffen: integer (nullable = true)\n",
      " |-- netto_productie_windenergie: integer (nullable = true)\n",
      " |-- netto_productie_zonnestroom: integer (nullable = true)\n",
      "\n"
     ]
    }
   ],
   "source": [
    "df_electricity_production.show()\n",
    "\n",
    "df2_electricity_production = df_electricity_production.selectExpr(\"cast(periode as string) periode\",\n",
    "                                                                  \"cast(netto_productie as int) netto_productie\",\n",
    "                                                                  \"cast(netto_productie_brandstoffen as int) netto_productie_brandstoffen\",\n",
    "                                                                  \"cast(netto_productie_windenergie as int) netto_productie_windenergie\",\n",
    "                                                                  \"cast(netto_productie_zonnestroom as int) netto_productie_zonnestroom\")\n",
    "df2_electricity_production.printSchema()"
   ],
   "metadata": {
    "collapsed": false,
    "pycharm": {
     "name": "#%%\n"
    }
   }
  },
  {
   "cell_type": "code",
   "execution_count": 9,
   "outputs": [
    {
     "name": "stdout",
     "output_type": "stream",
     "text": [
      "    periode  netto_productie  netto_productie_brandstoffen  \\\n",
      "0    \"2013\"            97370                           NaN   \n",
      "1    \"2014\"            99310                           NaN   \n",
      "2    \"2015\"           105902                       91907.0   \n",
      "3    \"2016\"           111032                       96122.0   \n",
      "4    \"2017\"           113465                       95895.0   \n",
      "5    \"2018\"           110692                       92429.0   \n",
      "6  \"2019**\"           117572                       96460.0   \n",
      "7  \"2020**\"           119238                       91383.0   \n",
      "\n",
      "   netto_productie_windenergie  netto_productie_zonnestroom  \n",
      "0                         5627                          410  \n",
      "1                         5797                          725  \n",
      "2                         7550                         1109  \n",
      "3                         8170                         1602  \n",
      "4                        10569                         2204  \n",
      "5                        10549                         3709  \n",
      "6                        11508                         5336  \n",
      "7                        15339                         8144  \n"
     ]
    }
   ],
   "source": [
    "df_pandas_electricity_production = df2_electricity_production.toPandas()\n",
    "print(df_pandas_electricity_production)"
   ],
   "metadata": {
    "collapsed": false,
    "pycharm": {
     "name": "#%%\n"
    }
   }
  },
  {
   "cell_type": "code",
   "execution_count": 10,
   "outputs": [
    {
     "data": {
      "text/plain": "<AxesSubplot:xlabel='periode'>"
     },
     "execution_count": 10,
     "metadata": {},
     "output_type": "execute_result"
    },
    {
     "data": {
      "text/plain": "<Figure size 432x288 with 1 Axes>",
      "image/png": "[encoded data removed]"
     },
     "metadata": {
      "needs_background": "light"
     },
     "output_type": "display_data"
    }
   ],
   "source": [
    "df_pandas_electricity_production.plot(x=\"periode\", y=\"netto_productie\", kind=\"bar\")\n"
   ],
   "metadata": {
    "collapsed": false,
    "pycharm": {
     "name": "#%%\n"
    }
   }
  },
  {
   "cell_type": "code",
   "execution_count": 10,
   "outputs": [],
   "source": [],
   "metadata": {
    "collapsed": false,
    "pycharm": {
     "name": "#%%\n"
    }
   }
  }
 ],
 "metadata": {
  "kernelspec": {
   "name": "python397jvsc74a57bd0340e956ee656efd8fdfb480dc033c937d9b626f8b21073bd1b5aa2a469586ea6",
   "language": "python",
   "display_name": "Python 3.9.7 64-bit"
  },
  "language_info": {
   "codemirror_mode": {
    "name": "ipython",
    "version": 2
   },
   "file_extension": ".py",
   "mimetype": "text/x-python",
   "name": "python",
   "nbconvert_exporter": "python",
   "pygments_lexer": "ipython2",
   "version": "2.7.6"
  }
 },
 "nbformat": 4,
 "nbformat_minor": 0
}