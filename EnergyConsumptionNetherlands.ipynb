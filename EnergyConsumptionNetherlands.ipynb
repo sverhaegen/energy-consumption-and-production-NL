{
 "cells": [
  {
   "cell_type": "code",
   "execution_count": 1,
   "metadata": {},
   "outputs": [],
   "source": [
    "from pyspark.sql import SparkSession\n",
    "from pyspark.sql import Row\n",
    "from pyspark.rdd import RDD\n",
    "import matplotlib.pyplot as plt\n",
    "from pyspark.sql.types import *\n",
    "from pyspark.sql.functions import col\n",
    "import glob\n",
    "import os"
   ]
  },
  {
   "cell_type": "code",
   "execution_count": 2,
   "metadata": {
    "pycharm": {
     "name": "#%%\n"
    }
   },
   "outputs": [],
   "source": [
    "spark = SparkSession.builder.appName(\"EnergyConsumption\").getOrCreate()\n",
    "sc = spark.sparkContext"
   ]
  },
  {
   "cell_type": "code",
   "execution_count": 3,
   "metadata": {},
   "outputs": [],
   "source": [
    "path_gas = r\"./data/Gas/\"\n",
    "path_electricity = r\"./data/Electricity/\""
   ]
  },
  {
   "cell_type": "code",
   "execution_count": 19,
   "metadata": {},
   "outputs": [],
   "source": [
    "def make_rdd(path):\n",
    "    list_data = []\n",
    "    for filename in os.listdir(path):\n",
    "        # Read file and assign data\n",
    "        data = sc.textFile(path + filename)\n",
    "        # Get year\n",
    "        year = filename[-8:]\n",
    "        year = year[0:4]\n",
    "        # Create structure\n",
    "        rdd = data.map(lambda r: r + \",\" + year)\n",
    "        rdd = rdd.map(lambda r: r.split(\",\"))\n",
    "        # Add rdd to list\n",
    "        list_data.append(rdd)\n",
    "    # Create one big rdd \n",
    "    rdd_full = list_data[0]\n",
    "    for index, rdd in enumerate(list_data):\n",
    "        if index != 0:\n",
    "            rdd_full.union(rdd)\n",
    "    heading = rdd_full.first()\n",
    "    rdd_full = rdd_full.filter(lambda r: r != heading)\n",
    "    return rdd_full"
   ]
  },
  {
   "cell_type": "code",
   "execution_count": 20,
   "metadata": {},
   "outputs": [
    {
     "data": {
      "text/plain": [
       "['Coteq Netbeheer BV',\n",
       " 'GAS Gastransport Services (GASUNIE)',\n",
       " 'Margrietstraat',\n",
       " '4175GA',\n",
       " '7165BD',\n",
       " 'HAAFTEN',\n",
       " '18',\n",
       " '100.0',\n",
       " '83.33',\n",
       " '78',\n",
       " 'G4',\n",
       " '3457',\n",
       " '0.0',\n",
       " '0.0',\n",
       " '2020']"
      ]
     },
     "execution_count": 20,
     "metadata": {},
     "output_type": "execute_result"
    }
   ],
   "source": [
    "rdd_gas = make_rdd(path_gas)\n",
    "rdd_gas.first()"
   ]
  },
  {
   "cell_type": "code",
   "execution_count": 21,
   "metadata": {},
   "outputs": [
    {
     "data": {
      "text/plain": [
       "['Coteq Netbeheer BV',\n",
       " 'Netbeheerder Centraal Overijssel B.V.',\n",
       " 'Dorpsstraat',\n",
       " '7468CP',\n",
       " '7471AA',\n",
       " 'ENTER',\n",
       " '19',\n",
       " '89.47',\n",
       " '94.74',\n",
       " '89',\n",
       " '1x35',\n",
       " '4122',\n",
       " '89.47',\n",
       " '0.0',\n",
       " '2020']"
      ]
     },
     "execution_count": 21,
     "metadata": {},
     "output_type": "execute_result"
    }
   ],
   "source": [
    "rdd_electricity = make_rdd(path_electricity)\n",
    "rdd_electricity.first()"
   ]
  },
  {
   "cell_type": "code",
   "execution_count": 23,
   "metadata": {},
   "outputs": [
    {
     "name": "stdout",
     "output_type": "stream",
     "text": [
      "-RECORD 0--------------------------------------------\n",
      " net_manager                  | Coteq Netbeheer BV   \n",
      " purchase_area                | Netbeheerder Cent... \n",
      " street                       | Dorpsstraat          \n",
      " zipcode_from                 | 7468CP               \n",
      " zipcode_to                   | 7471AA               \n",
      " city                         | ENTER                \n",
      " num_connections              | 19                   \n",
      " delivery_perc                | 89.47                \n",
      " perc_of_active_connections   | 94.74                \n",
      " type_conn_perc               | 89                   \n",
      " type_of_connection           | 1x35                 \n",
      " annual_consume               | 4122                 \n",
      " annual_consume_lowtarif_perc | 89.47                \n",
      " smartmeter_perc              | 0.0                  \n",
      " year                         | 2020                 \n",
      "-RECORD 1--------------------------------------------\n",
      " net_manager                  | Coteq Netbeheer BV   \n",
      " purchase_area                | Netbeheerder Cent... \n",
      " street                       | De Stoevelaar        \n",
      " zipcode_from                 | 7471AB               \n",
      " zipcode_to                   | 7471AB               \n",
      " city                         | GOOR                 \n",
      " num_connections              | 37                   \n",
      " delivery_perc                | 100.0                \n",
      " perc_of_active_connections   | 100.0                \n",
      " type_conn_perc               | 86                   \n",
      " type_of_connection           | 1x35                 \n",
      " annual_consume               | 1800                 \n",
      " annual_consume_lowtarif_perc | 94.59                \n",
      " smartmeter_perc              | 0.0                  \n",
      " year                         | 2020                 \n",
      "only showing top 2 rows\n",
      "\n"
     ]
    }
   ],
   "source": [
    "heading = [\"net_manager\",\"purchase_area\",\"street\",\"zipcode_from\",\"zipcode_to\",\"city\",\"num_connections\",\"delivery_perc\",\"perc_of_active_connections\",\"type_conn_perc\",\"type_of_connection\",\"annual_consume\",\"annual_consume_lowtarif_perc\",\"smartmeter_perc\", \"year\"]\n",
    "df_electricity = rdd_electricity.toDF(heading)\n",
    "\n",
    "df_electricity.show(2, vertical=True)"
   ]
  },
  {
   "cell_type": "code",
   "execution_count": 59,
   "metadata": {
    "pycharm": {
     "name": "#%%\n"
    }
   },
   "outputs": [],
   "source": [
    "df_electricity_production = spark.read.option(\"header\",\"true\").option(\"inferSchema\", \"true\").csv(\"./data/Elektriciteit__aanbod_en_verbruik_12102021_102309.csv\", sep=\";\")\n",
    "electricity_production_raw = sc.textFile(\"./data/Elektriciteit__aanbod_en_verbruik_12102021_102309.csv\")"
   ]
  },
  {
   "cell_type": "code",
   "execution_count": null,
   "metadata": {
    "pycharm": {
     "name": "#%%\n"
    }
   },
   "outputs": [],
   "source": [
    "df_electricity_production.show()\n",
    "df_electricity_production.printSchema()"
   ]
  },
  {
   "cell_type": "code",
   "execution_count": null,
   "metadata": {},
   "outputs": [],
   "source": [
    "frame_gas"
   ]
  },
  {
   "cell_type": "code",
   "execution_count": null,
   "metadata": {},
   "outputs": [],
   "source": [
    "frame_electricity"
   ]
  },
  {
   "cell_type": "code",
   "execution_count": null,
   "metadata": {
    "pycharm": {
     "name": "#%%\n"
    }
   },
   "outputs": [],
   "source": [
    "# Load a text file and convert each line to a Row, so that a DataFrame can be made.\n",
    "\n",
    "electricity_production_parts = electricity_production_raw.map(lambda l: l.split(\";\"))\n",
    "electricity_production_rows = electricity_production_parts.map(lambda l: Row(periode=l[0], netto_productie=l[3],\n",
    "                                                                             netto_productie_brandstoffen=l[5],\n",
    "                                                                             netto_productie_windenergie=l[12],\n",
    "                                                                             netto_productie_zonnestroom=l[15]))"
   ]
  },
  {
   "cell_type": "code",
   "execution_count": 24,
   "metadata": {
    "pycharm": {
     "name": "#%%\n"
    }
   },
   "outputs": [
    {
     "ename": "NameError",
     "evalue": "name 'electricity_production_rows' is not defined",
     "output_type": "error",
     "traceback": [
      "\u001b[1;31m---------------------------------------------------------------------------\u001b[0m",
      "\u001b[1;31mNameError\u001b[0m                                 Traceback (most recent call last)",
      "\u001b[1;32m<ipython-input-24-50e203f4c8c5>\u001b[0m in \u001b[0;36m<module>\u001b[1;34m\u001b[0m\n\u001b[1;32m----> 1\u001b[1;33m \u001b[0melectricity_production_rows\u001b[0m\u001b[1;33m.\u001b[0m\u001b[0mtake\u001b[0m\u001b[1;33m(\u001b[0m\u001b[1;36m2\u001b[0m\u001b[1;33m)\u001b[0m\u001b[1;33m\u001b[0m\u001b[1;33m\u001b[0m\u001b[0m\n\u001b[0m",
      "\u001b[1;31mNameError\u001b[0m: name 'electricity_production_rows' is not defined"
     ]
    }
   ],
   "source": [
    "electricity_production_rows.take(2)\n"
   ]
  },
  {
   "cell_type": "code",
   "execution_count": null,
   "metadata": {
    "pycharm": {
     "name": "#%%\n"
    }
   },
   "outputs": [],
   "source": [
    "\n",
    "header = electricity_production_rows.first()\n",
    "df_electricity_production = spark.createDataFrame(electricity_production_rows.filter(lambda row: row != header))"
   ]
  },
  {
   "cell_type": "code",
   "execution_count": null,
   "metadata": {
    "pycharm": {
     "name": "#%%\n"
    }
   },
   "outputs": [],
   "source": [
    "df_electricity_production.show()\n",
    "\n",
    "df2_electricity_production = df_electricity_production.selectExpr(\"cast(periode as string) periode\",\n",
    "                                                                  \"cast(netto_productie as int) netto_productie\",\n",
    "                                                                  \"cast(netto_productie_brandstoffen as int) netto_productie_brandstoffen\",\n",
    "                                                                  \"cast(netto_productie_windenergie as int) netto_productie_windenergie\",\n",
    "                                                                  \"cast(netto_productie_zonnestroom as int) netto_productie_zonnestroom\")\n",
    "df2_electricity_production.printSchema()"
   ]
  },
  {
   "cell_type": "code",
   "execution_count": null,
   "metadata": {
    "pycharm": {
     "name": "#%%\n"
    }
   },
   "outputs": [],
   "source": [
    "df_pandas_electricity_production = df2_electricity_production.toPandas()\n",
    "print(df_pandas_electricity_production)"
   ]
  },
  {
   "cell_type": "code",
   "execution_count": null,
   "metadata": {
    "pycharm": {
     "name": "#%%\n"
    }
   },
   "outputs": [],
   "source": [
    "df_pandas_electricity_production.plot(x=\"periode\", y=\"netto_productie\", kind=\"bar\")\n"
   ]
  },
  {
   "cell_type": "code",
   "execution_count": null,
   "metadata": {
    "pycharm": {
     "name": "#%%\n"
    }
   },
   "outputs": [],
   "source": []
  },
  {
   "cell_type": "code",
   "execution_count": null,
   "metadata": {},
   "outputs": [],
   "source": []
  }
 ],
 "metadata": {
  "interpreter": {
   "hash": "63d55410ba400cf670b0372af6fb81a42781e2444c280a05728a9478979597de"
  },
  "kernelspec": {
   "display_name": "Python 3",
   "language": "python",
   "name": "python3"
  },
  "language_info": {
   "codemirror_mode": {
    "name": "ipython",
    "version": 3
   },
   "file_extension": ".py",
   "mimetype": "text/x-python",
   "name": "python",
   "nbconvert_exporter": "python",
   "pygments_lexer": "ipython3",
   "version": "3.8.8"
  }
 },
 "nbformat": 4,
 "nbformat_minor": 1
}
