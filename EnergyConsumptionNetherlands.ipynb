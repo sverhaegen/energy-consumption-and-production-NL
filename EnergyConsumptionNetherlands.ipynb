{
 "cells": [
  {
   "cell_type": "markdown",
   "metadata": {},
   "source": [
    "# Energy Consumtion Netherlands\n",
    "\n",
    "Energie is duur. Dat weet iedereen. Tijdens dit project gaan \"de Potter Robin\" & \"Verhaegen Stijn\" een analyse doen over het energie verbruik in Nederland.\n",
    "\n",
    "## Inhoud analyse\n",
    "\n",
    "1. `Lijst inhoud analyse`"
   ]
  },
  {
   "cell_type": "code",
   "execution_count": 1,
   "metadata": {},
   "outputs": [],
   "source": [
    "from pyspark.sql import SparkSession\n",
    "from pyspark.sql import Row\n",
    "from pyspark.rdd import RDD\n",
    "import matplotlib.pyplot as plt\n",
    "from pyspark.sql.types import *\n",
    "from pyspark.sql.functions import col\n",
    "import glob\n",
    "import os"
   ]
  },
  {
   "cell_type": "code",
   "execution_count": 2,
   "metadata": {
    "pycharm": {
     "name": "#%%\n"
    }
   },
   "outputs": [],
   "source": [
    "spark = SparkSession.builder.appName(\"EnergyConsumption\").getOrCreate()\n",
    "sc = spark.sparkContext"
   ]
  },
  {
   "cell_type": "markdown",
   "metadata": {},
   "source": [
    "Path naar de data"
   ]
  },
  {
   "cell_type": "code",
   "execution_count": 3,
   "metadata": {},
   "outputs": [],
   "source": [
    "path_gas = r\"./data/Gas/\"\n",
    "path_electricity = r\"./data/Electricity/\""
   ]
  },
  {
   "cell_type": "code",
   "execution_count": 88,
   "metadata": {},
   "outputs": [],
   "source": [
    "def add_year(r, year):\n",
    "    new_row = r + \",\" + year\n",
    "    new_row = new_row.split(\",\")\n",
    "    return new_row"
   ]
  },
  {
   "cell_type": "markdown",
   "metadata": {},
   "source": [
    "De functie \"make_rdd\" gaat een spark RDD maken adhv een path naar de raw data. Tijdens het aanmaken van de RDD gaat men ook het jaar toevoegen van wanneer de data is opgenomen. Nadien worden alle headings eruit gefiltert."
   ]
  },
  {
   "cell_type": "code",
   "execution_count": 102,
   "metadata": {},
   "outputs": [],
   "source": [
    "def make_rdd(path):\n",
    "    rdd_full = sc.emptyRDD()\n",
    "    for filename in os.listdir(path):\n",
    "        # Read file and assign data\n",
    "        data = sc.textFile(path + filename)\n",
    "        # Get year\n",
    "        year = filename[-8:]\n",
    "        year = year[0:4]\n",
    "        # Create structure\n",
    "        rdd = data.map(lambda r: add_year(r, year))\n",
    "        # Add rdd to rdd_full\n",
    "        rdd_full = rdd_full.union(rdd)\n",
    "    heading = rdd_full.first()\n",
    "    rdd_full = rdd_full.filter(lambda r: r != heading)\n",
    "    return rdd_full"
   ]
  },
  {
   "cell_type": "code",
   "execution_count": 103,
   "metadata": {
    "scrolled": true
   },
   "outputs": [
    {
     "data": {
      "text/plain": [
       "['Coteq Netbeheer BV',\n",
       " 'GAS Gastransport Services (GASUNIE)',\n",
       " 'Margrietstraat',\n",
       " '4175GA',\n",
       " '7165BD',\n",
       " 'HAAFTEN',\n",
       " '18',\n",
       " '100.0',\n",
       " '83.33',\n",
       " '78',\n",
       " 'G4',\n",
       " '3457',\n",
       " '0.0',\n",
       " '0.0',\n",
       " '2013']"
      ]
     },
     "execution_count": 103,
     "metadata": {},
     "output_type": "execute_result"
    }
   ],
   "source": [
    "rdd_gas = make_rdd(path_gas)\n",
    "rdd_gas.first()"
   ]
  },
  {
   "cell_type": "code",
   "execution_count": 104,
   "metadata": {},
   "outputs": [
    {
     "data": {
      "text/plain": [
       "['Coteq Netbeheer BV',\n",
       " 'Netbeheerder Centraal Overijssel B.V.',\n",
       " 'Dorpsstraat',\n",
       " '7468CP',\n",
       " '7471AA',\n",
       " 'ENTER',\n",
       " '19',\n",
       " '89.47',\n",
       " '94.74',\n",
       " '89',\n",
       " '1x35',\n",
       " '4122',\n",
       " '89.47',\n",
       " '0.0',\n",
       " '2013']"
      ]
     },
     "execution_count": 104,
     "metadata": {},
     "output_type": "execute_result"
    }
   ],
   "source": [
    "rdd_electricity = make_rdd(path_electricity)\n",
    "rdd_electricity.first()"
   ]
  },
  {
   "cell_type": "markdown",
   "metadata": {},
   "source": [
    "We gaan hier de RDD van electricity omzetten naar een DataFrame."
   ]
  },
  {
   "cell_type": "code",
   "execution_count": 105,
   "metadata": {},
   "outputs": [
    {
     "name": "stdout",
     "output_type": "stream",
     "text": [
      "-RECORD 0--------------------------------------------\n",
      " net_manager                  | Coteq Netbeheer BV   \n",
      " purchase_area                | Netbeheerder Cent... \n",
      " street                       | Dorpsstraat          \n",
      " zipcode_from                 | 7468CP               \n",
      " zipcode_to                   | 7471AA               \n",
      " city                         | ENTER                \n",
      " num_connections              | 19                   \n",
      " delivery_perc                | 89.47                \n",
      " perc_of_active_connections   | 94.74                \n",
      " type_conn_perc               | 89                   \n",
      " type_of_connection           | 1x35                 \n",
      " annual_consume               | 4122                 \n",
      " annual_consume_lowtarif_perc | 89.47                \n",
      " smartmeter_perc              | 0.0                  \n",
      " year                         | 2013                 \n",
      "-RECORD 1--------------------------------------------\n",
      " net_manager                  | Coteq Netbeheer BV   \n",
      " purchase_area                | Netbeheerder Cent... \n",
      " street                       | De Stoevelaar        \n",
      " zipcode_from                 | 7471AB               \n",
      " zipcode_to                   | 7471AB               \n",
      " city                         | GOOR                 \n",
      " num_connections              | 37                   \n",
      " delivery_perc                | 100.0                \n",
      " perc_of_active_connections   | 100.0                \n",
      " type_conn_perc               | 86                   \n",
      " type_of_connection           | 1x35                 \n",
      " annual_consume               | 1800                 \n",
      " annual_consume_lowtarif_perc | 94.59                \n",
      " smartmeter_perc              | 0.0                  \n",
      " year                         | 2013                 \n",
      "only showing top 2 rows\n",
      "\n"
     ]
    }
   ],
   "source": [
    "heading = [\"net_manager\",\"purchase_area\",\"street\",\"zipcode_from\",\"zipcode_to\",\"city\",\"num_connections\",\"delivery_perc\",\"perc_of_active_connections\",\"type_conn_perc\",\"type_of_connection\",\"annual_consume\",\"annual_consume_lowtarif_perc\",\"smartmeter_perc\", \"year\"]\n",
    "df_electricity = rdd_electricity.toDF(heading)\n",
    "\n",
    "df_electricity.show(2, vertical = True)"
   ]
  },
  {
   "cell_type": "markdown",
   "metadata": {},
   "source": [
    "En nu ook voor gas."
   ]
  },
  {
   "cell_type": "code",
   "execution_count": 106,
   "metadata": {},
   "outputs": [
    {
     "name": "stdout",
     "output_type": "stream",
     "text": [
      "-RECORD 0--------------------------------------------\n",
      " net_manager                  | Coteq Netbeheer BV   \n",
      " purchase_area                | GAS Gastransport ... \n",
      " street                       | Margrietstraat       \n",
      " zipcode_from                 | 4175GA               \n",
      " zipcode_to                   | 7165BD               \n",
      " city                         | HAAFTEN              \n",
      " num_connections              | 18                   \n",
      " delivery_perc                | 100.0                \n",
      " perc_of_active_connections   | 83.33                \n",
      " type_conn_perc               | 78                   \n",
      " type_of_connection           | G4                   \n",
      " annual_consume               | 3457                 \n",
      " annual_consume_lowtarif_perc | 0.0                  \n",
      " smartmeter_perc              | 0.0                  \n",
      " year                         | 2013                 \n",
      "-RECORD 1--------------------------------------------\n",
      " net_manager                  | Coteq Netbeheer BV   \n",
      " purchase_area                | GAS Gastransport ... \n",
      " street                       | Oude Deldenseweg     \n",
      " zipcode_from                 | 7165BG               \n",
      " zipcode_to                   | 7216PN               \n",
      " city                         | RIETMOLEN            \n",
      " num_connections              | 17                   \n",
      " delivery_perc                | 100.0                \n",
      " perc_of_active_connections   | 100.0                \n",
      " type_conn_perc               | 76                   \n",
      " type_of_connection           | G4                   \n",
      " annual_consume               | 4036                 \n",
      " annual_consume_lowtarif_perc | 0.0                  \n",
      " smartmeter_perc              | 0.0                  \n",
      " year                         | 2013                 \n",
      "only showing top 2 rows\n",
      "\n"
     ]
    }
   ],
   "source": [
    "df_gas = rdd_gas.toDF(heading)\n",
    "\n",
    "df_gas.show(2, vertical=True)"
   ]
  },
  {
   "cell_type": "code",
   "execution_count": 118,
   "metadata": {},
   "outputs": [],
   "source": [
    "x_axis = [2009, 2010, 2011, 2012, 2013, 2014, 2015, 2016, 2017, 2018, 2019, 2020]\n",
    "y_axis = []\n",
    "\n",
    "# annual_consume_year = plt.figure(figsize=(7, 7))\n",
    "# ax = annual_consume_year.add_subplot(111)\n",
    "# ax.bar(x_axis, y_axis, fc='darksalmon', align='center')\n",
    "# plt.show()"
   ]
  },
  {
   "cell_type": "code",
   "execution_count": 120,
   "metadata": {},
   "outputs": [
    {
     "name": "stdout",
     "output_type": "stream",
     "text": [
      "-RECORD 0---------------------------------------------------------------------------------\n",
      " Perioden                                                                        | 2013   \n",
      " Bruto productie (mln kWh)                                                       | 100875 \n",
      " Eigen verbruik bij elektr.productie (mln kWh)                                   | 3505   \n",
      " Netto productie/Netto productie, totaal (mln kWh)                               | 97370  \n",
      " Netto productie/Kernenergie (mln kWh)                                           | null   \n",
      " Netto productie/Brandstoffen/Brandstoffen, totaal (mln kWh)                     | null   \n",
      " Netto productie/Brandstoffen/Kolen (mln kWh)                                    | null   \n",
      " Netto productie/Brandstoffen/Olieproducten (mln kWh)                            | null   \n",
      " Netto productie/Brandstoffen/Aardgas (mln kWh)                                  | null   \n",
      " Netto productie/Brandstoffen/Biomassa (mln kWh)                                 | 5277   \n",
      " Netto productie/Brandstoffen/Overige brandstoffen (niet-hernieuwbaar) (mln kWh) | null   \n",
      " Netto productie/Waterkracht (mln kWh)                                           | 114    \n",
      " Netto productie/Windenergie/Windenergie, totaal (mln kWh)                       | 5627   \n",
      " Netto productie/Windenergie/Windenergie op land (mln kWh)                       | 4856   \n",
      " Netto productie/Windenergie/Windenergie op zee (mln kWh)                        | 771    \n",
      " Netto productie/Zonnestroom (mln kWh)                                           | 410    \n",
      " Netto productie/Overige bronnen (mln kWh)                                       | null   \n",
      " Invoer/Invoer, totaal (mln kWh)                                                 | 33252  \n",
      " Invoer/België (mln kWh)                                                         | 4387   \n",
      " Invoer/Denemarken (mln kWh)                                                     | null   \n",
      " Invoer/Duitsland (mln kWh)                                                      | 24551  \n",
      " Invoer/Verenigd Koninkrijk (mln kWh)                                            | 142    \n",
      " Invoer/Noorwegen (mln kWh)                                                      | 4172   \n",
      " Uitvoer/Uitvoer, totaal (mln kWh)                                               | 15015  \n",
      " Uitvoer/België (mln kWh)                                                        | 7771   \n",
      " Uitvoer/Denemarken (mln kWh)                                                    | null   \n",
      " Uitvoer/Duitsland (mln kWh)                                                     | 340    \n",
      " Uitvoer/Verenigd Koninkrijk (mln kWh)                                           | 6656   \n",
      " Uitvoer/Noorwegen (mln kWh)                                                     | 249    \n",
      " Distributieverliezen (mln kWh)                                                  | 4508   \n",
      " Netto verbruik (berekend) (mln kWh)                                             | 111099 \n",
      "-RECORD 1---------------------------------------------------------------------------------\n",
      " Perioden                                                                        | 2014   \n",
      " Bruto productie (mln kWh)                                                       | 103365 \n",
      " Eigen verbruik bij elektr.productie (mln kWh)                                   | 4055   \n",
      " Netto productie/Netto productie, totaal (mln kWh)                               | 99310  \n",
      " Netto productie/Kernenergie (mln kWh)                                           | null   \n",
      " Netto productie/Brandstoffen/Brandstoffen, totaal (mln kWh)                     | null   \n",
      " Netto productie/Brandstoffen/Kolen (mln kWh)                                    | null   \n",
      " Netto productie/Brandstoffen/Olieproducten (mln kWh)                            | null   \n",
      " Netto productie/Brandstoffen/Aardgas (mln kWh)                                  | null   \n",
      " Netto productie/Brandstoffen/Biomassa (mln kWh)                                 | 4345   \n",
      " Netto productie/Brandstoffen/Overige brandstoffen (niet-hernieuwbaar) (mln kWh) | null   \n",
      " Netto productie/Waterkracht (mln kWh)                                           | 112    \n",
      " Netto productie/Windenergie/Windenergie, totaal (mln kWh)                       | 5797   \n",
      " Netto productie/Windenergie/Windenergie op land (mln kWh)                       | 5049   \n",
      " Netto productie/Windenergie/Windenergie op zee (mln kWh)                        | 748    \n",
      " Netto productie/Zonnestroom (mln kWh)                                           | 725    \n",
      " Netto productie/Overige bronnen (mln kWh)                                       | null   \n",
      " Invoer/Invoer, totaal (mln kWh)                                                 | 32854  \n",
      " Invoer/België (mln kWh)                                                         | 3041   \n",
      " Invoer/Denemarken (mln kWh)                                                     | null   \n",
      " Invoer/Duitsland (mln kWh)                                                      | 24340  \n",
      " Invoer/Verenigd Koninkrijk (mln kWh)                                            | 11     \n",
      " Invoer/Noorwegen (mln kWh)                                                      | 5463   \n",
      " Uitvoer/Uitvoer, totaal (mln kWh)                                               | 18128  \n",
      " Uitvoer/België (mln kWh)                                                        | 9583   \n",
      " Uitvoer/Denemarken (mln kWh)                                                    | null   \n",
      " Uitvoer/Duitsland (mln kWh)                                                     | 348    \n",
      " Uitvoer/Verenigd Koninkrijk (mln kWh)                                           | 8090   \n",
      " Uitvoer/Noorwegen (mln kWh)                                                     | 107    \n",
      " Distributieverliezen (mln kWh)                                                  | 4933   \n",
      " Netto verbruik (berekend) (mln kWh)                                             | 109103 \n",
      "-RECORD 2---------------------------------------------------------------------------------\n",
      " Perioden                                                                        | 2015   \n",
      " Bruto productie (mln kWh)                                                       | 110388 \n",
      " Eigen verbruik bij elektr.productie (mln kWh)                                   | 4487   \n",
      " Netto productie/Netto productie, totaal (mln kWh)                               | 105902 \n",
      " Netto productie/Kernenergie (mln kWh)                                           | 3862   \n",
      " Netto productie/Brandstoffen/Brandstoffen, totaal (mln kWh)                     | 91907  \n",
      " Netto productie/Brandstoffen/Kolen (mln kWh)                                    | 40150  \n",
      " Netto productie/Brandstoffen/Olieproducten (mln kWh)                            | 1297   \n",
      " Netto productie/Brandstoffen/Aardgas (mln kWh)                                  | 44762  \n",
      " Netto productie/Brandstoffen/Biomassa (mln kWh)                                 | 4302   \n",
      " Netto productie/Brandstoffen/Overige brandstoffen (niet-hernieuwbaar) (mln kWh) | 1396   \n",
      " Netto productie/Waterkracht (mln kWh)                                           | 93     \n",
      " Netto productie/Windenergie/Windenergie, totaal (mln kWh)                       | 7550   \n",
      " Netto productie/Windenergie/Windenergie op land (mln kWh)                       | 6420   \n",
      " Netto productie/Windenergie/Windenergie op zee (mln kWh)                        | 1130   \n",
      " Netto productie/Zonnestroom (mln kWh)                                           | 1109   \n",
      " Netto productie/Overige bronnen (mln kWh)                                       | 1382   \n",
      " Invoer/Invoer, totaal (mln kWh)                                                 | 30760  \n",
      " Invoer/België (mln kWh)                                                         | 1023   \n",
      " Invoer/Denemarken (mln kWh)                                                     | null   \n",
      " Invoer/Duitsland (mln kWh)                                                      | 23961  \n",
      " Invoer/Verenigd Koninkrijk (mln kWh)                                            | 8      \n",
      " Invoer/Noorwegen (mln kWh)                                                      | 5768   \n",
      " Uitvoer/Uitvoer, totaal (mln kWh)                                               | 22012  \n",
      " Uitvoer/België (mln kWh)                                                        | 13428  \n",
      " Uitvoer/Denemarken (mln kWh)                                                    | null   \n",
      " Uitvoer/Duitsland (mln kWh)                                                     | 339    \n",
      " Uitvoer/Verenigd Koninkrijk (mln kWh)                                           | 8233   \n",
      " Uitvoer/Noorwegen (mln kWh)                                                     | 12     \n",
      " Distributieverliezen (mln kWh)                                                  | 5264   \n",
      " Netto verbruik (berekend) (mln kWh)                                             | 109386 \n",
      "-RECORD 3---------------------------------------------------------------------------------\n",
      " Perioden                                                                        | 2016   \n",
      " Bruto productie (mln kWh)                                                       | 115213 \n",
      " Eigen verbruik bij elektr.productie (mln kWh)                                   | 4181   \n",
      " Netto productie/Netto productie, totaal (mln kWh)                               | 111032 \n",
      " Netto productie/Kernenergie (mln kWh)                                           | 3750   \n",
      " Netto productie/Brandstoffen/Brandstoffen, totaal (mln kWh)                     | 96122  \n",
      " Netto productie/Brandstoffen/Kolen (mln kWh)                                    | 37659  \n",
      " Netto productie/Brandstoffen/Olieproducten (mln kWh)                            | 1241   \n",
      " Netto productie/Brandstoffen/Aardgas (mln kWh)                                  | 51491  \n",
      " Netto productie/Brandstoffen/Biomassa (mln kWh)                                 | 4248   \n",
      " Netto productie/Brandstoffen/Overige brandstoffen (niet-hernieuwbaar) (mln kWh) | 1484   \n",
      " Netto productie/Waterkracht (mln kWh)                                           | 100    \n",
      " Netto productie/Windenergie/Windenergie, totaal (mln kWh)                       | 8170   \n",
      " Netto productie/Windenergie/Windenergie op land (mln kWh)                       | 5901   \n",
      " Netto productie/Windenergie/Windenergie op zee (mln kWh)                        | 2269   \n",
      " Netto productie/Zonnestroom (mln kWh)                                           | 1602   \n",
      " Netto productie/Overige bronnen (mln kWh)                                       | 1288   \n",
      " Invoer/Invoer, totaal (mln kWh)                                                 | 24258  \n",
      " Invoer/België (mln kWh)                                                         | 3029   \n",
      " Invoer/Denemarken (mln kWh)                                                     | null   \n",
      " Invoer/Duitsland (mln kWh)                                                      | 16892  \n",
      " Invoer/Verenigd Koninkrijk (mln kWh)                                            | 140    \n",
      " Invoer/Noorwegen (mln kWh)                                                      | 4197   \n",
      " Uitvoer/Uitvoer, totaal (mln kWh)                                               | 19343  \n",
      " Uitvoer/België (mln kWh)                                                        | 9965   \n",
      " Uitvoer/Denemarken (mln kWh)                                                    | null   \n",
      " Uitvoer/Duitsland (mln kWh)                                                     | 1337   \n",
      " Uitvoer/Verenigd Koninkrijk (mln kWh)                                           | 7761   \n",
      " Uitvoer/Noorwegen (mln kWh)                                                     | 281    \n",
      " Distributieverliezen (mln kWh)                                                  | 5434   \n",
      " Netto verbruik (berekend) (mln kWh)                                             | 110513 \n",
      "-RECORD 4---------------------------------------------------------------------------------\n",
      " Perioden                                                                        | 2017   \n",
      " Bruto productie (mln kWh)                                                       | 117260 \n",
      " Eigen verbruik bij elektr.productie (mln kWh)                                   | 3795   \n",
      " Netto productie/Netto productie, totaal (mln kWh)                               | 113465 \n",
      " Netto productie/Kernenergie (mln kWh)                                           | 3278   \n",
      " Netto productie/Brandstoffen/Brandstoffen, totaal (mln kWh)                     | 95895  \n",
      " Netto productie/Brandstoffen/Kolen (mln kWh)                                    | 32616  \n",
      " Netto productie/Brandstoffen/Olieproducten (mln kWh)                            | 1154   \n",
      " Netto productie/Brandstoffen/Aardgas (mln kWh)                                  | 56755  \n",
      " Netto productie/Brandstoffen/Biomassa (mln kWh)                                 | 3926   \n",
      " Netto productie/Brandstoffen/Overige brandstoffen (niet-hernieuwbaar) (mln kWh) | 1443   \n",
      " Netto productie/Waterkracht (mln kWh)                                           | 61     \n",
      " Netto productie/Windenergie/Windenergie, totaal (mln kWh)                       | 10569  \n",
      " Netto productie/Windenergie/Windenergie op land (mln kWh)                       | 6869   \n",
      " Netto productie/Windenergie/Windenergie op zee (mln kWh)                        | 3700   \n",
      " Netto productie/Zonnestroom (mln kWh)                                           | 2204   \n",
      " Netto productie/Overige bronnen (mln kWh)                                       | 1459   \n",
      " Invoer/Invoer, totaal (mln kWh)                                                 | 22458  \n",
      " Invoer/België (mln kWh)                                                         | 2170   \n",
      " Invoer/Denemarken (mln kWh)                                                     | null   \n",
      " Invoer/Duitsland (mln kWh)                                                      | 15116  \n",
      " Invoer/Verenigd Koninkrijk (mln kWh)                                            | 191    \n",
      " Invoer/Noorwegen (mln kWh)                                                      | 4981   \n",
      " Uitvoer/Uitvoer, totaal (mln kWh)                                               | 18952  \n",
      " Uitvoer/België (mln kWh)                                                        | 10251  \n",
      " Uitvoer/Denemarken (mln kWh)                                                    | null   \n",
      " Uitvoer/Duitsland (mln kWh)                                                     | 1362   \n",
      " Uitvoer/Verenigd Koninkrijk (mln kWh)                                           | 7224   \n",
      " Uitvoer/Noorwegen (mln kWh)                                                     | 114    \n",
      " Distributieverliezen (mln kWh)                                                  | 5414   \n",
      " Netto verbruik (berekend) (mln kWh)                                             | 111557 \n",
      "-RECORD 5---------------------------------------------------------------------------------\n",
      " Perioden                                                                        | 2018   \n",
      " Bruto productie (mln kWh)                                                       | 114103 \n",
      " Eigen verbruik bij elektr.productie (mln kWh)                                   | 3411   \n",
      " Netto productie/Netto productie, totaal (mln kWh)                               | 110692 \n",
      " Netto productie/Kernenergie (mln kWh)                                           | 3395   \n",
      " Netto productie/Brandstoffen/Brandstoffen, totaal (mln kWh)                     | 92429  \n",
      " Netto productie/Brandstoffen/Kolen (mln kWh)                                    | 29214  \n",
      " Netto productie/Brandstoffen/Olieproducten (mln kWh)                            | 1267   \n",
      " Netto productie/Brandstoffen/Aardgas (mln kWh)                                  | 56258  \n",
      " Netto productie/Brandstoffen/Biomassa (mln kWh)                                 | 3922   \n",
      " Netto productie/Brandstoffen/Overige brandstoffen (niet-hernieuwbaar) (mln kWh) | 1767   \n",
      " Netto productie/Waterkracht (mln kWh)                                           | 72     \n",
      " Netto productie/Windenergie/Windenergie, totaal (mln kWh)                       | 10549  \n",
      " Netto productie/Windenergie/Windenergie op land (mln kWh)                       | 6918   \n",
      " Netto productie/Windenergie/Windenergie op zee (mln kWh)                        | 3630   \n",
      " Netto productie/Zonnestroom (mln kWh)                                           | 3709   \n",
      " Netto productie/Overige bronnen (mln kWh)                                       | 538    \n",
      " Invoer/Invoer, totaal (mln kWh)                                                 | 26755  \n",
      " Invoer/België (mln kWh)                                                         | 1776   \n",
      " Invoer/Denemarken (mln kWh)                                                     | null   \n",
      " Invoer/Duitsland (mln kWh)                                                      | 20914  \n",
      " Invoer/Verenigd Koninkrijk (mln kWh)                                            | 188    \n",
      " Invoer/Noorwegen (mln kWh)                                                      | 3877   \n",
      " Uitvoer/Uitvoer, totaal (mln kWh)                                               | 18785  \n",
      " Uitvoer/België (mln kWh)                                                        | 10784  \n",
      " Uitvoer/Denemarken (mln kWh)                                                    | null   \n",
      " Uitvoer/Duitsland (mln kWh)                                                     | 735    \n",
      " Uitvoer/Verenigd Koninkrijk (mln kWh)                                           | 6932   \n",
      " Uitvoer/Noorwegen (mln kWh)                                                     | 334    \n",
      " Distributieverliezen (mln kWh)                                                  | 5334   \n",
      " Netto verbruik (berekend) (mln kWh)                                             | 113328 \n",
      "-RECORD 6---------------------------------------------------------------------------------\n",
      " Perioden                                                                        | 2019** \n",
      " Bruto productie (mln kWh)                                                       | 121062 \n",
      " Eigen verbruik bij elektr.productie (mln kWh)                                   | 3490   \n",
      " Netto productie/Netto productie, totaal (mln kWh)                               | 117572 \n",
      " Netto productie/Kernenergie (mln kWh)                                           | 3700   \n",
      " Netto productie/Brandstoffen/Brandstoffen, totaal (mln kWh)                     | 96460  \n",
      " Netto productie/Brandstoffen/Kolen (mln kWh)                                    | 19266  \n",
      " Netto productie/Brandstoffen/Olieproducten (mln kWh)                            | 1385   \n",
      " Netto productie/Brandstoffen/Aardgas (mln kWh)                                  | 69172  \n",
      " Netto productie/Brandstoffen/Biomassa (mln kWh)                                 | 5060   \n",
      " Netto productie/Brandstoffen/Overige brandstoffen (niet-hernieuwbaar) (mln kWh) | 1577   \n",
      " Netto productie/Waterkracht (mln kWh)                                           | 74     \n",
      " Netto productie/Windenergie/Windenergie, totaal (mln kWh)                       | 11508  \n",
      " Netto productie/Windenergie/Windenergie op land (mln kWh)                       | 7935   \n",
      " Netto productie/Windenergie/Windenergie op zee (mln kWh)                        | 3573   \n",
      " Netto productie/Zonnestroom (mln kWh)                                           | 5336   \n",
      " Netto productie/Overige bronnen (mln kWh)                                       | 493    \n",
      " Invoer/Invoer, totaal (mln kWh)                                                 | 20403  \n",
      " Invoer/België (mln kWh)                                                         | 4528   \n",
      " Invoer/Denemarken (mln kWh)                                                     | 619    \n",
      " Invoer/Duitsland (mln kWh)                                                      | 12238  \n",
      " Invoer/Verenigd Koninkrijk (mln kWh)                                            | 385    \n",
      " Invoer/Noorwegen (mln kWh)                                                      | 2634   \n",
      " Uitvoer/Uitvoer, totaal (mln kWh)                                               | 19548  \n",
      " Uitvoer/België (mln kWh)                                                        | 6991   \n",
      " Uitvoer/Denemarken (mln kWh)                                                    | 671    \n",
      " Uitvoer/Duitsland (mln kWh)                                                     | 4398   \n",
      " Uitvoer/Verenigd Koninkrijk (mln kWh)                                           | 6148   \n",
      " Uitvoer/Noorwegen (mln kWh)                                                     | 1340   \n",
      " Distributieverliezen (mln kWh)                                                  | 5059   \n",
      " Netto verbruik (berekend) (mln kWh)                                             | 113368 \n",
      "-RECORD 7---------------------------------------------------------------------------------\n",
      " Perioden                                                                        | 2020** \n",
      " Bruto productie (mln kWh)                                                       | 122642 \n",
      " Eigen verbruik bij elektr.productie (mln kWh)                                   | 3405   \n",
      " Netto productie/Netto productie, totaal (mln kWh)                               | 119238 \n",
      " Netto productie/Kernenergie (mln kWh)                                           | 3865   \n",
      " Netto productie/Brandstoffen/Brandstoffen, totaal (mln kWh)                     | 91383  \n",
      " Netto productie/Brandstoffen/Kolen (mln kWh)                                    | 9555   \n",
      " Netto productie/Brandstoffen/Olieproducten (mln kWh)                            | 1321   \n",
      " Netto productie/Brandstoffen/Aardgas (mln kWh)                                  | 71023  \n",
      " Netto productie/Brandstoffen/Biomassa (mln kWh)                                 | 7835   \n",
      " Netto productie/Brandstoffen/Overige brandstoffen (niet-hernieuwbaar) (mln kWh) | 1649   \n",
      " Netto productie/Waterkracht (mln kWh)                                           | 46     \n",
      " Netto productie/Windenergie/Windenergie, totaal (mln kWh)                       | 15339  \n",
      " Netto productie/Windenergie/Windenergie op land (mln kWh)                       | 9856   \n",
      " Netto productie/Windenergie/Windenergie op zee (mln kWh)                        | 5484   \n",
      " Netto productie/Zonnestroom (mln kWh)                                           | 8144   \n",
      " Netto productie/Overige bronnen (mln kWh)                                       | 461    \n",
      " Invoer/Invoer, totaal (mln kWh)                                                 | 19773  \n",
      " Invoer/België (mln kWh)                                                         | 3782   \n",
      " Invoer/Denemarken (mln kWh)                                                     | 2082   \n",
      " Invoer/Duitsland (mln kWh)                                                      | 8748   \n",
      " Invoer/Verenigd Koninkrijk (mln kWh)                                            | 541    \n",
      " Invoer/Noorwegen (mln kWh)                                                      | 4621   \n",
      " Uitvoer/Uitvoer, totaal (mln kWh)                                               | 22433  \n",
      " Uitvoer/België (mln kWh)                                                        | 7806   \n",
      " Uitvoer/Denemarken (mln kWh)                                                    | 1053   \n",
      " Uitvoer/Duitsland (mln kWh)                                                     | 8677   \n",
      " Uitvoer/Verenigd Koninkrijk (mln kWh)                                           | 4787   \n",
      " Uitvoer/Noorwegen (mln kWh)                                                     | 110    \n",
      " Distributieverliezen (mln kWh)                                                  | 5059   \n",
      " Netto verbruik (berekend) (mln kWh)                                             | 111520 \n",
      "\n",
      "root\n",
      " |-- Perioden: string (nullable = true)\n",
      " |-- Bruto productie (mln kWh): integer (nullable = true)\n",
      " |-- Eigen verbruik bij elektr.productie (mln kWh): integer (nullable = true)\n",
      " |-- Netto productie/Netto productie, totaal (mln kWh): integer (nullable = true)\n",
      " |-- Netto productie/Kernenergie (mln kWh): integer (nullable = true)\n",
      " |-- Netto productie/Brandstoffen/Brandstoffen, totaal (mln kWh): integer (nullable = true)\n",
      " |-- Netto productie/Brandstoffen/Kolen (mln kWh): integer (nullable = true)\n",
      " |-- Netto productie/Brandstoffen/Olieproducten (mln kWh): integer (nullable = true)\n",
      " |-- Netto productie/Brandstoffen/Aardgas (mln kWh): integer (nullable = true)\n",
      " |-- Netto productie/Brandstoffen/Biomassa (mln kWh): integer (nullable = true)\n",
      " |-- Netto productie/Brandstoffen/Overige brandstoffen (niet-hernieuwbaar) (mln kWh): integer (nullable = true)\n",
      " |-- Netto productie/Waterkracht (mln kWh): integer (nullable = true)\n",
      " |-- Netto productie/Windenergie/Windenergie, totaal (mln kWh): integer (nullable = true)\n",
      " |-- Netto productie/Windenergie/Windenergie op land (mln kWh): integer (nullable = true)\n",
      " |-- Netto productie/Windenergie/Windenergie op zee (mln kWh): integer (nullable = true)\n",
      " |-- Netto productie/Zonnestroom (mln kWh): integer (nullable = true)\n",
      " |-- Netto productie/Overige bronnen (mln kWh): integer (nullable = true)\n",
      " |-- Invoer/Invoer, totaal (mln kWh): integer (nullable = true)\n",
      " |-- Invoer/België (mln kWh): integer (nullable = true)\n",
      " |-- Invoer/Denemarken (mln kWh): integer (nullable = true)\n",
      " |-- Invoer/Duitsland (mln kWh): integer (nullable = true)\n",
      " |-- Invoer/Verenigd Koninkrijk (mln kWh): integer (nullable = true)\n",
      " |-- Invoer/Noorwegen (mln kWh): integer (nullable = true)\n",
      " |-- Uitvoer/Uitvoer, totaal (mln kWh): integer (nullable = true)\n",
      " |-- Uitvoer/België (mln kWh): integer (nullable = true)\n",
      " |-- Uitvoer/Denemarken (mln kWh): integer (nullable = true)\n",
      " |-- Uitvoer/Duitsland (mln kWh): integer (nullable = true)\n",
      " |-- Uitvoer/Verenigd Koninkrijk (mln kWh): integer (nullable = true)\n",
      " |-- Uitvoer/Noorwegen (mln kWh): integer (nullable = true)\n",
      " |-- Distributieverliezen (mln kWh): integer (nullable = true)\n",
      " |-- Netto verbruik (berekend) (mln kWh): integer (nullable = true)\n",
      "\n"
     ]
    }
   ],
   "source": [
    "df_electricity_production = spark.read.option(\"header\",\"true\").option(\"inferSchema\", \"true\").csv(\"./data/Elektriciteit__aanbod_en_verbruik_12102021_102309.csv\", sep=\";\")\n",
    "electricity_production_raw = sc.textFile(\"./data/Elektriciteit__aanbod_en_verbruik_12102021_102309.csv\")\n",
    "\n",
    "df_electricity_production.show(vertical = True)\n",
    "df_electricity_production.printSchema()"
   ]
  },
  {
   "cell_type": "code",
   "execution_count": null,
   "metadata": {
    "pycharm": {
     "name": "#%%\n"
    }
   },
   "outputs": [],
   "source": [
    "# Load a text file and convert each line to a Row, so that a DataFrame can be made.\n",
    "\n",
    "electricity_production_parts = electricity_production_raw.map(lambda l: l.split(\";\"))\n",
    "electricity_production_rows = electricity_production_parts.map(lambda l: Row(periode=l[0], netto_productie=l[3],\n",
    "                                                                             netto_productie_brandstoffen=l[5],\n",
    "                                                                             netto_productie_windenergie=l[12],\n",
    "                                                                             netto_productie_zonnestroom=l[15]))"
   ]
  },
  {
   "cell_type": "code",
   "execution_count": 24,
   "metadata": {
    "pycharm": {
     "name": "#%%\n"
    }
   },
   "outputs": [
    {
     "ename": "NameError",
     "evalue": "name 'electricity_production_rows' is not defined",
     "output_type": "error",
     "traceback": [
      "\u001b[1;31m---------------------------------------------------------------------------\u001b[0m",
      "\u001b[1;31mNameError\u001b[0m                                 Traceback (most recent call last)",
      "\u001b[1;32m<ipython-input-24-50e203f4c8c5>\u001b[0m in \u001b[0;36m<module>\u001b[1;34m\u001b[0m\n\u001b[1;32m----> 1\u001b[1;33m \u001b[0melectricity_production_rows\u001b[0m\u001b[1;33m.\u001b[0m\u001b[0mtake\u001b[0m\u001b[1;33m(\u001b[0m\u001b[1;36m2\u001b[0m\u001b[1;33m)\u001b[0m\u001b[1;33m\u001b[0m\u001b[1;33m\u001b[0m\u001b[0m\n\u001b[0m",
      "\u001b[1;31mNameError\u001b[0m: name 'electricity_production_rows' is not defined"
     ]
    }
   ],
   "source": [
    "electricity_production_rows.take(2)\n"
   ]
  },
  {
   "cell_type": "code",
   "execution_count": null,
   "metadata": {
    "pycharm": {
     "name": "#%%\n"
    }
   },
   "outputs": [],
   "source": [
    "\n",
    "header = electricity_production_rows.first()\n",
    "df_electricity_production = spark.createDataFrame(electricity_production_rows.filter(lambda row: row != header))"
   ]
  },
  {
   "cell_type": "code",
   "execution_count": null,
   "metadata": {
    "pycharm": {
     "name": "#%%\n"
    }
   },
   "outputs": [],
   "source": [
    "df_electricity_production.show()\n",
    "\n",
    "df2_electricity_production = df_electricity_production.selectExpr(\"cast(periode as string) periode\",\n",
    "                                                                  \"cast(netto_productie as int) netto_productie\",\n",
    "                                                                  \"cast(netto_productie_brandstoffen as int) netto_productie_brandstoffen\",\n",
    "                                                                  \"cast(netto_productie_windenergie as int) netto_productie_windenergie\",\n",
    "                                                                  \"cast(netto_productie_zonnestroom as int) netto_productie_zonnestroom\")\n",
    "df2_electricity_production.printSchema()"
   ]
  },
  {
   "cell_type": "code",
   "execution_count": null,
   "metadata": {
    "pycharm": {
     "name": "#%%\n"
    }
   },
   "outputs": [],
   "source": [
    "df_pandas_electricity_production = df2_electricity_production.toPandas()\n",
    "print(df_pandas_electricity_production)"
   ]
  },
  {
   "cell_type": "code",
   "execution_count": null,
   "metadata": {
    "pycharm": {
     "name": "#%%\n"
    }
   },
   "outputs": [],
   "source": [
    "df_pandas_electricity_production.plot(x=\"periode\", y=\"netto_productie\", kind=\"bar\")\n"
   ]
  },
  {
   "cell_type": "code",
   "execution_count": null,
   "metadata": {
    "pycharm": {
     "name": "#%%\n"
    }
   },
   "outputs": [],
   "source": []
  },
  {
   "cell_type": "code",
   "execution_count": null,
   "metadata": {},
   "outputs": [],
   "source": []
  }
 ],
 "metadata": {
  "interpreter": {
   "hash": "63d55410ba400cf670b0372af6fb81a42781e2444c280a05728a9478979597de"
  },
  "kernelspec": {
   "display_name": "Python 3",
   "language": "python",
   "name": "python3"
  },
  "language_info": {
   "codemirror_mode": {
    "name": "ipython",
    "version": 3
   },
   "file_extension": ".py",
   "mimetype": "text/x-python",
   "name": "python",
   "nbconvert_exporter": "python",
   "pygments_lexer": "ipython3",
   "version": "3.8.8"
  }
 },
 "nbformat": 4,
 "nbformat_minor": 1
}
